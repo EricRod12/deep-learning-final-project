{
 "cells": [
  {
   "cell_type": "code",
   "execution_count": 84,
   "id": "772c1d35-da23-4eef-8150-7d949d0a4e2d",
   "metadata": {},
   "outputs": [],
   "source": [
    "import pandas as pd\n",
    "from sklearn.model_selection import train_test_split, GridSearchCV\n",
    "from sklearn.linear_model import LogisticRegression\n",
    "from sklearn.metrics import accuracy_score, classification_report\n",
    "from sklearn.feature_selection import f_classif, chi2\n",
    "import numpy as np\n",
    "from sklearn.preprocessing import StandardScaler, MinMaxScaler\n",
    "from sklearn.ensemble import RandomForestClassifier\n",
    "from imblearn.over_sampling import SMOTE\n",
    "from sklearn.metrics import accuracy_score, classification_report, roc_curve, auc\n",
    "import matplotlib.pyplot as plt\n",
    "from sklearn.model_selection import RandomizedSearchCV\n",
    "from sklearn.cluster import KMeans"
   ]
  },
  {
   "cell_type": "code",
   "execution_count": 85,
   "id": "54c293ba-324c-4cc9-8305-a8e5a7874145",
   "metadata": {},
   "outputs": [
    {
     "name": "stdout",
     "output_type": "stream",
     "text": [
      "       age  diabetes  sysbp_mean  heartrate_mean  resprate_mean  wbc_mean  \\\n",
      "0  80.5274         0   97.800000      113.208333      24.419355     14.20   \n",
      "1  91.4000         0   75.444444       50.000000      26.500000     10.80   \n",
      "2  80.9409         0  104.085714       99.666667      19.571429     16.10   \n",
      "3  84.8807         0   88.041667       94.440000      24.520000     10.35   \n",
      "4  73.8195         0   92.350000       82.937500      32.117647      9.15   \n",
      "\n",
      "    hosp_los  high_risk_combined  \n",
      "0   1.931250                   0  \n",
      "1   0.179861                   0  \n",
      "2  11.914583                   0  \n",
      "3   3.435417                   0  \n",
      "4   0.467361                   0  \n"
     ]
    },
    {
     "data": {
      "text/plain": [
       "71"
      ]
     },
     "execution_count": 85,
     "metadata": {},
     "output_type": "execute_result"
    }
   ],
   "source": [
    "df=pd.read_csv(\"sepsis_data.csv\")\n",
    "# Ensure intime and outtime are datetime objects\n",
    "# Convert to datetime object, specifying the format\n",
    "# Convert 'intime' and 'outtime' to datetime without specifying strict format\n",
    "# Ensure columns are converted to numeric as needed\n",
    "numeric_columns = [\n",
    "    'age', 'sysbp_mean', 'heartrate_mean', 'resprate_mean', \n",
    "    'wbc_mean', 'hosp_los'\n",
    "]\n",
    "for col in numeric_columns:\n",
    "    df[col] = pd.to_numeric(df[col], errors='coerce')\n",
    "\n",
    "# Create the high-risk feature combining multiple risk factors\n",
    "df['high_risk_combined'] = np.where(\n",
    "    (df['age'] > 65) &  # Advanced age\n",
    "    (df['diabetes'] == 1) &  # Presence of diabetes\n",
    "    (df['sysbp_mean'] < 90) &  # Low blood pressure\n",
    "    (df['heartrate_mean'] > 100) &  # High heart rate\n",
    "    (df['resprate_mean'] > 20) &  # Rapid breathing\n",
    "    (df['wbc_mean'] < 4) & (df['wbc_mean'] > 11),  # Prolonged hospital stay\n",
    "    1,  # Assign 1 if any of the above conditions are met\n",
    "    0   # Assign 0 otherwise\n",
    ")\n",
    "\n",
    "# Verify the result\n",
    "print(df[['age', 'diabetes', 'sysbp_mean', 'heartrate_mean', \n",
    "          'resprate_mean', 'wbc_mean', 'hosp_los', 'high_risk_combined']].head())\n",
    "# Remove the features that should be excluded\n",
    "df['shock_index'] = df['heartrate_mean'] / (df['sysbp_mean'] + 1e-5)\n",
    "\n",
    "# Pulse Pressure: Systolic BP - Diastolic BP\n",
    "df['pulse_pressure'] = df['sysbp_mean'] - df['diasbp_mean']\n",
    "\n",
    "# Elixhauser Score: Decompose into individual comorbidities (if available)\n",
    "# Assuming 'elixhauser_comorbidities' contains individual columns for each comorbidity\n",
    "# df['diabetes'], df['hypertension'], etc. can be used directly.\n",
    "\n",
    "# Interaction Features\n",
    "df['age_creatinine_interaction'] = df['age'] * df['creatinine_max']\n",
    "\n",
    "# Change Over Time (Delta Features)\n",
    "# Assuming we have 'heartrate_T1' and 'heartrate_T2'\n",
    "df['delta_heartrate'] = df['heartrate_max'] - df['heartrate_min']\n",
    "\n",
    "# Statistical Summaries\n",
    "# Assuming multiple columns for glucose levels: ['glucose_T1', 'glucose_T2', 'glucose_T3']\n",
    "glucose_columns = ['glucose_min', 'glucose_max', 'glucose_mean']\n",
    "df['glucose_mean_summary'] = df[glucose_columns].mean(axis=1)\n",
    "df['glucose_std_summary'] = df[glucose_columns].std(axis=1)\n",
    "\n",
    "# Missing Indicator Feature\n",
    "df['is_creatinine_missing'] = df['creatinine_max'].isna().astype(int)\n",
    "df = pd.get_dummies(df, columns=['specimen_poe'], prefix='specimen', drop_first=False)\n",
    "\n",
    "# Abnormal Value Counters\n",
    "# Assuming normal temperature range is 36.5 to 37.5\n",
    "features_to_exclude = [\n",
    "    'thirtyday_expire_flag','icustay_id', 'hadm_id', 'intime', 'outtime', 'subject_id', 'hadm_id.1', 'icustay_id.1', \n",
    "    'hospital_expire_flag', 'suspected_infection_time_poe', 'suspected_infection_time_poe_days', 'positiveculture_poe', 'antibiotic_time_poe', 'blood_culture_time', 'blood_culture_positive',\n",
    "'icu_los', 'hosp_los',\n",
    "   'icustay_id.1' ,'sepsis_angus', 'sepsis_martin', 'sepsis_explicit', 'septic_shock_explicit', 'severe_sepsis_explicit', 'sepsis_nqf', 'sepsis_cdc', 'sepsis_cdc_simple']\n",
    "numeric_columns = df.select_dtypes(include=[np.number]).columns.tolist()\n",
    "\n",
    "numeric_columns = [col for col in numeric_columns if col not in features_to_exclude]\n",
    "binary_columns = [col for col in numeric_columns if df[col].nunique() == 2 and col not in features_to_exclude]\n",
    "\n",
    "len(binary_columns)\n",
    "numeric_columns = [col for col in numeric_columns if col not in binary_columns]\n",
    "numeric_columns\n",
    "\n",
    "len(numeric_columns)"
   ]
  },
  {
   "cell_type": "code",
   "execution_count": null,
   "id": "d9e5ebb8-98e0-4e12-ac69-920410369f25",
   "metadata": {},
   "outputs": [],
   "source": []
  },
  {
   "cell_type": "code",
   "execution_count": null,
   "id": "b018f7fa-db13-49cb-9102-36a0911011f7",
   "metadata": {},
   "outputs": [],
   "source": []
  },
  {
   "cell_type": "markdown",
   "id": "01d5ba16-f424-43d8-aa93-9561b28b7bd0",
   "metadata": {},
   "source": [
    "We exclude any features that would not be available at the time of admission, ensuring that our model avoids data leakage and accurately assesses a patient's risk of mortality based solely on pre-existing factors, such as comorbidities."
   ]
  },
  {
   "cell_type": "code",
   "execution_count": 87,
   "id": "340c05eb-287f-466a-a799-b9dc4e85cb92",
   "metadata": {},
   "outputs": [
    {
     "data": {
      "text/plain": [
       "['age',\n",
       " 'elixhauser_hospital',\n",
       " 'sofa',\n",
       " 'lods',\n",
       " 'sirs',\n",
       " 'qsofa',\n",
       " 'aniongap_min',\n",
       " 'aniongap_max',\n",
       " 'bicarbonate_min',\n",
       " 'bicarbonate_max',\n",
       " 'creatinine_min',\n",
       " 'creatinine_max',\n",
       " 'chloride_min',\n",
       " 'chloride_max',\n",
       " 'glucose_min',\n",
       " 'glucose_max',\n",
       " 'hematocrit_min',\n",
       " 'hematocrit_max',\n",
       " 'hemoglobin_min',\n",
       " 'hemoglobin_max',\n",
       " 'lactate_min',\n",
       " 'lactate_max',\n",
       " 'lactate_mean',\n",
       " 'platelet_min',\n",
       " 'platelet_max',\n",
       " 'potassium_min',\n",
       " 'potassium_max',\n",
       " 'inr_min',\n",
       " 'inr_max',\n",
       " 'sodium_min',\n",
       " 'sodium_max',\n",
       " 'bun_min',\n",
       " 'bun_max',\n",
       " 'bun_mean',\n",
       " 'wbc_min',\n",
       " 'wbc_max',\n",
       " 'wbc_mean',\n",
       " 'heartrate_min',\n",
       " 'heartrate_max',\n",
       " 'heartrate_mean',\n",
       " 'sysbp_min',\n",
       " 'sysbp_max',\n",
       " 'sysbp_mean',\n",
       " 'diasbp_min',\n",
       " 'diasbp_max',\n",
       " 'diasbp_mean',\n",
       " 'meanbp_min',\n",
       " 'meanbp_max',\n",
       " 'meanbp_mean',\n",
       " 'resprate_min',\n",
       " 'resprate_max',\n",
       " 'resprate_mean',\n",
       " 'tempc_min',\n",
       " 'tempc_max',\n",
       " 'tempc_mean',\n",
       " 'spo2_min',\n",
       " 'spo2_max',\n",
       " 'spo2_mean',\n",
       " 'glucose_min1',\n",
       " 'glucose_max1',\n",
       " 'glucose_mean',\n",
       " 'urineoutput',\n",
       " 'colloid_bolus',\n",
       " 'crystalloid_bolus',\n",
       " 'high_risk_combined',\n",
       " 'shock_index',\n",
       " 'pulse_pressure',\n",
       " 'age_creatinine_interaction',\n",
       " 'delta_heartrate',\n",
       " 'glucose_mean_summary',\n",
       " 'glucose_std_summary']"
      ]
     },
     "execution_count": 87,
     "metadata": {},
     "output_type": "execute_result"
    }
   ],
   "source": [
    "numeric_columns"
   ]
  },
  {
   "cell_type": "code",
   "execution_count": 88,
   "id": "8bb5e224-261d-402f-8fec-59ab05a2e532",
   "metadata": {},
   "outputs": [
    {
     "data": {
      "text/plain": [
       "['is_male',\n",
       " 'race_white',\n",
       " 'race_black',\n",
       " 'race_hispanic',\n",
       " 'race_other',\n",
       " 'metastatic_cancer',\n",
       " 'diabetes',\n",
       " 'vent',\n",
       " 'qsofa_sysbp_score',\n",
       " 'qsofa_gcs_score',\n",
       " 'qsofa_resprate_score',\n",
       " 'rrt',\n",
       " 'is_creatinine_missing']"
      ]
     },
     "execution_count": 88,
     "metadata": {},
     "output_type": "execute_result"
    }
   ],
   "source": [
    "binary_columns"
   ]
  },
  {
   "cell_type": "code",
   "execution_count": 89,
   "id": "29f95688-e958-4639-bb44-4639c864b859",
   "metadata": {},
   "outputs": [],
   "source": [
    "all_columns = df.columns.tolist()"
   ]
  },
  {
   "cell_type": "code",
   "execution_count": 90,
   "id": "af65c6d1-3845-4d17-90c7-6fa31b6e778d",
   "metadata": {},
   "outputs": [
    {
     "name": "stdout",
     "output_type": "stream",
     "text": [
      "['icustay_id', 'hadm_id', 'intime', 'outtime', 'dbsource', 'suspected_infection_time_poe', 'suspected_infection_time_poe_days', 'positiveculture_poe', 'antibiotic_time_poe', 'blood_culture_time', 'blood_culture_positive', 'age', 'gender', 'is_male', 'ethnicity', 'race_white', 'race_black', 'race_hispanic', 'race_other', 'metastatic_cancer', 'diabetes', 'first_service', 'hospital_expire_flag', 'thirtyday_expire_flag', 'icu_los', 'hosp_los', 'sepsis_angus', 'sepsis_martin', 'sepsis_explicit', 'septic_shock_explicit', 'severe_sepsis_explicit', 'sepsis_nqf', 'sepsis_cdc', 'sepsis_cdc_simple', 'elixhauser_hospital', 'vent', 'sofa', 'lods', 'sirs', 'qsofa', 'qsofa_sysbp_score', 'qsofa_gcs_score', 'qsofa_resprate_score', 'aniongap_min', 'aniongap_max', 'bicarbonate_min', 'bicarbonate_max', 'creatinine_min', 'creatinine_max', 'chloride_min', 'chloride_max', 'glucose_min', 'glucose_max', 'hematocrit_min', 'hematocrit_max', 'hemoglobin_min', 'hemoglobin_max', 'lactate_min', 'lactate_max', 'lactate_mean', 'platelet_min', 'platelet_max', 'potassium_min', 'potassium_max', 'inr_min', 'inr_max', 'sodium_min', 'sodium_max', 'bun_min', 'bun_max', 'bun_mean', 'wbc_min', 'wbc_max', 'wbc_mean', 'heartrate_min', 'heartrate_max', 'heartrate_mean', 'sysbp_min', 'sysbp_max', 'sysbp_mean', 'diasbp_min', 'diasbp_max', 'diasbp_mean', 'meanbp_min', 'meanbp_max', 'meanbp_mean', 'resprate_min', 'resprate_max', 'resprate_mean', 'tempc_min', 'tempc_max', 'tempc_mean', 'spo2_min', 'spo2_max', 'spo2_mean', 'glucose_min1', 'glucose_max1', 'glucose_mean', 'rrt', 'subject_id', 'hadm_id.1', 'icustay_id.1', 'urineoutput', 'colloid_bolus', 'crystalloid_bolus', 'high_risk_combined', 'shock_index', 'pulse_pressure', 'age_creatinine_interaction', 'delta_heartrate', 'glucose_mean_summary', 'glucose_std_summary', 'is_creatinine_missing', 'specimen_ABSCESS', 'specimen_BILE', 'specimen_BLOOD CULTURE', 'specimen_BLOOD CULTURE ( MYCO/F LYTIC BOTTLE)', 'specimen_BRONCHIAL WASHINGS', 'specimen_BRONCHOALVEOLAR LAVAGE', 'specimen_Blood (CMV AB)', 'specimen_Blood (EBV)', 'specimen_Blood (Malaria)', 'specimen_Blood (Toxo)', 'specimen_CATHETER TIP-IV', 'specimen_CSF;SPINAL FLUID', 'specimen_DIALYSIS FLUID', 'specimen_FLUID RECEIVED IN BLOOD CULTURE BOTTLES', 'specimen_FLUID,OTHER', 'specimen_FOREIGN BODY', 'specimen_IMMUNOLOGY', 'specimen_Immunology (CMV)', 'specimen_Influenza A/B by DFA', 'specimen_JOINT FLUID', 'specimen_MRSA SCREEN', 'specimen_Mini-BAL', 'specimen_NEOPLASTIC BLOOD', 'specimen_PERITONEAL FLUID', 'specimen_PLEURAL FLUID', 'specimen_RAPID RESPIRATORY VIRAL ANTIGEN TEST', 'specimen_Rapid Respiratory Viral Screen & Culture', 'specimen_SEROLOGY/BLOOD', 'specimen_SPUTUM', 'specimen_STOOL', 'specimen_SWAB', 'specimen_Staph aureus Screen', 'specimen_TISSUE', 'specimen_URINE', 'specimen_URINE,KIDNEY']\n"
     ]
    }
   ],
   "source": [
    "print(all_columns)"
   ]
  },
  {
   "cell_type": "code",
   "execution_count": 91,
   "id": "0d782dc9-b34a-44c7-a28e-735854c97a0d",
   "metadata": {},
   "outputs": [
    {
     "data": {
      "text/plain": [
       "['age',\n",
       " 'elixhauser_hospital',\n",
       " 'sofa',\n",
       " 'lods',\n",
       " 'sirs',\n",
       " 'qsofa',\n",
       " 'aniongap_min',\n",
       " 'aniongap_max',\n",
       " 'bicarbonate_min',\n",
       " 'bicarbonate_max',\n",
       " 'creatinine_min',\n",
       " 'creatinine_max',\n",
       " 'chloride_min',\n",
       " 'chloride_max',\n",
       " 'glucose_min',\n",
       " 'glucose_max',\n",
       " 'hematocrit_min',\n",
       " 'hematocrit_max',\n",
       " 'hemoglobin_min',\n",
       " 'hemoglobin_max',\n",
       " 'lactate_min',\n",
       " 'lactate_max',\n",
       " 'lactate_mean',\n",
       " 'platelet_min',\n",
       " 'platelet_max',\n",
       " 'potassium_min',\n",
       " 'potassium_max',\n",
       " 'inr_min',\n",
       " 'inr_max',\n",
       " 'sodium_min',\n",
       " 'sodium_max',\n",
       " 'bun_min',\n",
       " 'bun_max',\n",
       " 'bun_mean',\n",
       " 'wbc_min',\n",
       " 'wbc_max',\n",
       " 'wbc_mean',\n",
       " 'heartrate_min',\n",
       " 'heartrate_max',\n",
       " 'heartrate_mean',\n",
       " 'sysbp_min',\n",
       " 'sysbp_max',\n",
       " 'sysbp_mean',\n",
       " 'diasbp_min',\n",
       " 'diasbp_max',\n",
       " 'diasbp_mean',\n",
       " 'meanbp_min',\n",
       " 'meanbp_max',\n",
       " 'meanbp_mean',\n",
       " 'resprate_min',\n",
       " 'resprate_max',\n",
       " 'resprate_mean',\n",
       " 'tempc_min',\n",
       " 'tempc_max',\n",
       " 'tempc_mean',\n",
       " 'spo2_min',\n",
       " 'spo2_max',\n",
       " 'spo2_mean',\n",
       " 'glucose_min1',\n",
       " 'glucose_max1',\n",
       " 'glucose_mean',\n",
       " 'urineoutput',\n",
       " 'colloid_bolus',\n",
       " 'crystalloid_bolus',\n",
       " 'high_risk_combined',\n",
       " 'shock_index',\n",
       " 'pulse_pressure',\n",
       " 'age_creatinine_interaction',\n",
       " 'delta_heartrate',\n",
       " 'glucose_mean_summary',\n",
       " 'glucose_std_summary']"
      ]
     },
     "execution_count": 91,
     "metadata": {},
     "output_type": "execute_result"
    }
   ],
   "source": [
    "# Remove columns that contain \"min\" or \"max\"\n",
    "#numeric_columns = [col for col in numeric_columns if not ('min' in col.lower() or 'max' in col.lower())]\n",
    "numeric_columns"
   ]
  },
  {
   "cell_type": "code",
   "execution_count": 92,
   "id": "78936baf-a5dd-43f8-ab8e-718fa6a7a7af",
   "metadata": {},
   "outputs": [
    {
     "name": "stdout",
     "output_type": "stream",
     "text": [
      "colloid_bolus                 4050\n",
      "crystalloid_bolus             1194\n",
      "inr_max                        270\n",
      "inr_min                        270\n",
      "tempc_mean                     103\n",
      "tempc_max                      103\n",
      "tempc_min                      103\n",
      "glucose_mean                    30\n",
      "glucose_max1                    30\n",
      "glucose_min1                    30\n",
      "aniongap_min                    14\n",
      "aniongap_max                    14\n",
      "sysbp_min                        8\n",
      "diasbp_mean                      8\n",
      "diasbp_max                       8\n",
      "shock_index                      8\n",
      "pulse_pressure                   8\n",
      "diasbp_min                       8\n",
      "sysbp_mean                       8\n",
      "sysbp_max                        8\n",
      "platelet_max                     6\n",
      "platelet_min                     6\n",
      "wbc_max                          5\n",
      "wbc_min                          5\n",
      "hemoglobin_max                   3\n",
      "bicarbonate_min                  3\n",
      "bicarbonate_max                  3\n",
      "hematocrit_min                   3\n",
      "hemoglobin_min                   3\n",
      "hematocrit_max                   3\n",
      "creatinine_max                   2\n",
      "creatinine_min                   2\n",
      "bun_min                          2\n",
      "bun_max                          2\n",
      "age_creatinine_interaction       2\n",
      "resprate_mean                    1\n",
      "resprate_max                     1\n",
      "spo2_min                         1\n",
      "spo2_max                         1\n",
      "spo2_mean                        1\n",
      "resprate_min                     1\n",
      "chloride_max                     1\n",
      "chloride_min                     1\n",
      "dtype: int64\n"
     ]
    }
   ],
   "source": [
    "# Show which numeric columns have NaN values and how many NaN values each column has\n",
    "nan_summary = df[numeric_columns].isna().sum().loc[df.isna().sum() > 0].sort_values(ascending=False)\n",
    "\n",
    "# Display the result\n",
    "print(nan_summary)\n"
   ]
  },
  {
   "cell_type": "code",
   "execution_count": 93,
   "id": "3fe2a6da-0143-4f1a-a2a0-3a0369fc2782",
   "metadata": {},
   "outputs": [
    {
     "data": {
      "text/plain": [
       "(4559, 148)"
      ]
     },
     "execution_count": 93,
     "metadata": {},
     "output_type": "execute_result"
    }
   ],
   "source": [
    "df.shape"
   ]
  },
  {
   "cell_type": "code",
   "execution_count": 94,
   "id": "b30b49ef-9874-432d-95ab-100a4d7a185b",
   "metadata": {
    "scrolled": true
   },
   "outputs": [
    {
     "name": "stdout",
     "output_type": "stream",
     "text": [
      "age                           0\n",
      "elixhauser_hospital           0\n",
      "sofa                          0\n",
      "lods                          0\n",
      "sirs                          0\n",
      "qsofa                         0\n",
      "bicarbonate_min               0\n",
      "bicarbonate_max               0\n",
      "creatinine_min                0\n",
      "creatinine_max                0\n",
      "chloride_min                  0\n",
      "chloride_max                  0\n",
      "glucose_min                   0\n",
      "glucose_max                   0\n",
      "hematocrit_min                0\n",
      "hematocrit_max                0\n",
      "hemoglobin_min                0\n",
      "hemoglobin_max                0\n",
      "lactate_min                   0\n",
      "lactate_max                   0\n",
      "lactate_mean                  0\n",
      "platelet_min                  0\n",
      "platelet_max                  0\n",
      "potassium_min                 0\n",
      "potassium_max                 0\n",
      "sodium_min                    0\n",
      "sodium_max                    0\n",
      "bun_min                       0\n",
      "bun_max                       0\n",
      "bun_mean                      0\n",
      "wbc_min                       0\n",
      "wbc_max                       0\n",
      "wbc_mean                      0\n",
      "heartrate_min                 0\n",
      "heartrate_max                 0\n",
      "heartrate_mean                0\n",
      "sysbp_min                     0\n",
      "sysbp_max                     0\n",
      "sysbp_mean                    0\n",
      "diasbp_min                    0\n",
      "diasbp_max                    0\n",
      "diasbp_mean                   0\n",
      "meanbp_min                    0\n",
      "meanbp_max                    0\n",
      "meanbp_mean                   0\n",
      "resprate_min                  0\n",
      "resprate_max                  0\n",
      "resprate_mean                 0\n",
      "spo2_min                      0\n",
      "spo2_max                      0\n",
      "spo2_mean                     0\n",
      "urineoutput                   0\n",
      "high_risk_combined            0\n",
      "shock_index                   0\n",
      "pulse_pressure                0\n",
      "age_creatinine_interaction    0\n",
      "delta_heartrate               0\n",
      "glucose_mean_summary          0\n",
      "glucose_std_summary           0\n",
      "dtype: int64\n"
     ]
    }
   ],
   "source": [
    "# Step 1: Filter out columns with more than 10 missing values\n",
    "numeric_features_filtered = [col for col in numeric_columns if df[col].isna().sum() <= 10]\n",
    "\n",
    "# Step 2: Impute missing values (for columns with 10 or fewer missing values) using the median\n",
    "df[numeric_features_filtered] = df[numeric_features_filtered].fillna(df[numeric_features_filtered].median())\n",
    "\n",
    "# Verify the imputation was done correctly\n",
    "nan_summary1= df[numeric_features_filtered].isna().sum()\n",
    "\n",
    "print(nan_summary1)\n"
   ]
  },
  {
   "cell_type": "code",
   "execution_count": 95,
   "id": "2cfcb5d4-7166-41c2-8e69-a2465334ec0c",
   "metadata": {},
   "outputs": [
    {
     "name": "stdout",
     "output_type": "stream",
     "text": [
      "                       Feature     F-value        P-value\n",
      "2                         sofa  693.319580  2.336355e-142\n",
      "3                         lods  400.896439   1.522502e-85\n",
      "38                  sysbp_mean  386.079491   1.418298e-82\n",
      "53                 shock_index  331.909221   1.219160e-71\n",
      "36                   sysbp_min  317.355608   1.109708e-68\n",
      "6              bicarbonate_min  299.146943   5.762312e-65\n",
      "44                 meanbp_mean  287.018138   1.752131e-62\n",
      "47               resprate_mean  228.131471   2.474698e-50\n",
      "42                  meanbp_min  206.966096   6.311154e-46\n",
      "28                     bun_max  199.235853   2.599695e-44\n",
      "29                    bun_mean  198.781956   3.234673e-44\n",
      "27                     bun_min  186.162306   1.421098e-41\n",
      "7              bicarbonate_max  185.999995   1.536974e-41\n",
      "54              pulse_pressure  172.093464   1.283288e-38\n",
      "1          elixhauser_hospital  149.177845   8.801591e-34\n",
      "39                  diasbp_min  147.071492   2.457543e-33\n",
      "46                resprate_max  145.848040   4.463044e-33\n",
      "41                 diasbp_mean  145.835487   4.490454e-33\n",
      "37                   sysbp_max  143.581430   1.348718e-32\n",
      "4                         sirs  138.432806   1.667085e-31\n",
      "5                        qsofa  118.235178   3.315022e-27\n",
      "20                lactate_mean  109.629607   2.287260e-25\n",
      "19                 lactate_max  107.428149   6.768010e-25\n",
      "55  age_creatinine_interaction  106.775879   9.335024e-25\n",
      "9               creatinine_max   80.293333   4.618166e-19\n",
      "35              heartrate_mean   74.669170   7.593567e-18\n",
      "8               creatinine_min   69.788581   8.665326e-17\n",
      "18                 lactate_min   65.289218   8.211086e-16\n",
      "34               heartrate_max   62.029153   4.199588e-15\n",
      "48                    spo2_min   57.938888   3.266031e-14\n",
      "51                 urineoutput   52.159546   5.967496e-13\n",
      "33               heartrate_min   51.375871   8.854982e-13\n",
      "17              hemoglobin_max   49.826804   1.932877e-12\n",
      "50                   spo2_mean   48.620779   3.551055e-12\n",
      "31                     wbc_max   36.014831   2.110045e-09\n",
      "32                    wbc_mean   34.267249   5.140991e-09\n",
      "11                chloride_max   34.076587   5.666056e-09\n",
      "15              hematocrit_max   33.312617   8.367359e-09\n",
      "45                resprate_min   31.077393   2.622495e-08\n",
      "0                          age   29.688292   5.341386e-08\n",
      "40                  diasbp_max   29.206998   6.836173e-08\n",
      "30                     wbc_min   27.615732   1.547267e-07\n",
      "16              hemoglobin_min   15.737729   7.387603e-05\n",
      "12                 glucose_min   10.148185   1.454179e-03\n",
      "43                  meanbp_max    9.938387   1.629182e-03\n",
      "49                    spo2_max    9.862786   1.697350e-03\n",
      "56             delta_heartrate    7.256764   7.089323e-03\n",
      "10                chloride_min    6.680027   9.780727e-03\n",
      "14              hematocrit_min    3.141708   7.638063e-02\n",
      "21                platelet_min    2.195798   1.384567e-01\n",
      "24               potassium_max    0.607628   4.357227e-01\n",
      "22                platelet_max    0.501222   4.789999e-01\n",
      "57        glucose_mean_summary    0.279559   5.970164e-01\n",
      "58         glucose_std_summary    0.192362   6.609786e-01\n",
      "13                 glucose_max    0.189444   6.634003e-01\n",
      "23               potassium_min    0.153645   6.950941e-01\n",
      "25                  sodium_min    0.076515   7.820889e-01\n",
      "26                  sodium_max    0.061398   8.043104e-01\n",
      "52          high_risk_combined         NaN            NaN\n"
     ]
    },
    {
     "name": "stderr",
     "output_type": "stream",
     "text": [
      "/Users/racheldaniel/anaconda3/lib/python3.11/site-packages/sklearn/feature_selection/_univariate_selection.py:112: UserWarning: Features [52] are constant.\n",
      "  warnings.warn(\"Features %s are constant.\" % constant_features_idx, UserWarning)\n",
      "/Users/racheldaniel/anaconda3/lib/python3.11/site-packages/sklearn/feature_selection/_univariate_selection.py:113: RuntimeWarning: invalid value encountered in divide\n",
      "  f = msb / msw\n"
     ]
    }
   ],
   "source": [
    "# Step 2: Define features and target\n",
    "X_numeric = df[numeric_features_filtered]\n",
    "y = df['sepsis_explicit']  # Multiclass target variable\n",
    "\n",
    "# Step 3: Apply ANOVA F-test\n",
    "f_values, p_values = f_classif(X_numeric, y)\n",
    "\n",
    "# Step 4: Create a DataFrame of feature names with their p-values\n",
    "anova_results = pd.DataFrame({\n",
    "    'Feature': numeric_features_filtered,\n",
    "    'F-value': f_values,\n",
    "    'P-value': p_values\n",
    "})\n",
    "\n",
    "# Step 5: Sort features by p-value (ascending) to see most significant features\n",
    "anova_results = anova_results.sort_values(by='P-value')\n",
    "print(anova_results)\n"
   ]
  },
  {
   "cell_type": "code",
   "execution_count": 96,
   "id": "65824dab-9f36-4d8f-b65f-f293bfe793a4",
   "metadata": {},
   "outputs": [
    {
     "data": {
      "text/plain": [
       "['age',\n",
       " 'elixhauser_hospital',\n",
       " 'sofa',\n",
       " 'lods',\n",
       " 'sirs',\n",
       " 'qsofa',\n",
       " 'bicarbonate_min',\n",
       " 'bicarbonate_max',\n",
       " 'creatinine_min',\n",
       " 'creatinine_max',\n",
       " 'chloride_min',\n",
       " 'chloride_max',\n",
       " 'glucose_min',\n",
       " 'glucose_max',\n",
       " 'hematocrit_min',\n",
       " 'hematocrit_max',\n",
       " 'hemoglobin_min',\n",
       " 'hemoglobin_max',\n",
       " 'lactate_min',\n",
       " 'lactate_max',\n",
       " 'lactate_mean',\n",
       " 'platelet_min',\n",
       " 'platelet_max',\n",
       " 'potassium_min',\n",
       " 'potassium_max',\n",
       " 'sodium_min',\n",
       " 'sodium_max',\n",
       " 'bun_min',\n",
       " 'bun_max',\n",
       " 'bun_mean',\n",
       " 'wbc_min',\n",
       " 'wbc_max',\n",
       " 'wbc_mean',\n",
       " 'heartrate_min',\n",
       " 'heartrate_max',\n",
       " 'heartrate_mean',\n",
       " 'sysbp_min',\n",
       " 'sysbp_max',\n",
       " 'sysbp_mean',\n",
       " 'diasbp_min',\n",
       " 'diasbp_max',\n",
       " 'diasbp_mean',\n",
       " 'meanbp_min',\n",
       " 'meanbp_max',\n",
       " 'meanbp_mean',\n",
       " 'resprate_min',\n",
       " 'resprate_max',\n",
       " 'resprate_mean',\n",
       " 'spo2_min',\n",
       " 'spo2_max',\n",
       " 'spo2_mean',\n",
       " 'urineoutput',\n",
       " 'high_risk_combined',\n",
       " 'shock_index',\n",
       " 'pulse_pressure',\n",
       " 'age_creatinine_interaction',\n",
       " 'delta_heartrate',\n",
       " 'glucose_mean_summary',\n",
       " 'glucose_std_summary']"
      ]
     },
     "execution_count": 96,
     "metadata": {},
     "output_type": "execute_result"
    }
   ],
   "source": [
    "numeric_features_filtered"
   ]
  },
  {
   "cell_type": "code",
   "execution_count": null,
   "id": "2e0a91e1-205e-4bae-8b2a-346209bee694",
   "metadata": {},
   "outputs": [],
   "source": []
  },
  {
   "cell_type": "code",
   "execution_count": 97,
   "id": "038e20b7-d5e1-4817-85ea-13b9908e8533",
   "metadata": {},
   "outputs": [
    {
     "data": {
      "text/html": [
       "<div>\n",
       "<style scoped>\n",
       "    .dataframe tbody tr th:only-of-type {\n",
       "        vertical-align: middle;\n",
       "    }\n",
       "\n",
       "    .dataframe tbody tr th {\n",
       "        vertical-align: top;\n",
       "    }\n",
       "\n",
       "    .dataframe thead th {\n",
       "        text-align: right;\n",
       "    }\n",
       "</style>\n",
       "<table border=\"1\" class=\"dataframe\">\n",
       "  <thead>\n",
       "    <tr style=\"text-align: right;\">\n",
       "      <th></th>\n",
       "      <th>Feature</th>\n",
       "      <th>F-value</th>\n",
       "      <th>P-value</th>\n",
       "    </tr>\n",
       "  </thead>\n",
       "  <tbody>\n",
       "    <tr>\n",
       "      <th>2</th>\n",
       "      <td>sofa</td>\n",
       "      <td>693.319580</td>\n",
       "      <td>2.336355e-142</td>\n",
       "    </tr>\n",
       "    <tr>\n",
       "      <th>3</th>\n",
       "      <td>lods</td>\n",
       "      <td>400.896439</td>\n",
       "      <td>1.522502e-85</td>\n",
       "    </tr>\n",
       "    <tr>\n",
       "      <th>38</th>\n",
       "      <td>sysbp_mean</td>\n",
       "      <td>386.079491</td>\n",
       "      <td>1.418298e-82</td>\n",
       "    </tr>\n",
       "    <tr>\n",
       "      <th>53</th>\n",
       "      <td>shock_index</td>\n",
       "      <td>331.909221</td>\n",
       "      <td>1.219160e-71</td>\n",
       "    </tr>\n",
       "    <tr>\n",
       "      <th>36</th>\n",
       "      <td>sysbp_min</td>\n",
       "      <td>317.355608</td>\n",
       "      <td>1.109708e-68</td>\n",
       "    </tr>\n",
       "    <tr>\n",
       "      <th>6</th>\n",
       "      <td>bicarbonate_min</td>\n",
       "      <td>299.146943</td>\n",
       "      <td>5.762312e-65</td>\n",
       "    </tr>\n",
       "    <tr>\n",
       "      <th>44</th>\n",
       "      <td>meanbp_mean</td>\n",
       "      <td>287.018138</td>\n",
       "      <td>1.752131e-62</td>\n",
       "    </tr>\n",
       "    <tr>\n",
       "      <th>47</th>\n",
       "      <td>resprate_mean</td>\n",
       "      <td>228.131471</td>\n",
       "      <td>2.474698e-50</td>\n",
       "    </tr>\n",
       "    <tr>\n",
       "      <th>42</th>\n",
       "      <td>meanbp_min</td>\n",
       "      <td>206.966096</td>\n",
       "      <td>6.311154e-46</td>\n",
       "    </tr>\n",
       "    <tr>\n",
       "      <th>28</th>\n",
       "      <td>bun_max</td>\n",
       "      <td>199.235853</td>\n",
       "      <td>2.599695e-44</td>\n",
       "    </tr>\n",
       "    <tr>\n",
       "      <th>29</th>\n",
       "      <td>bun_mean</td>\n",
       "      <td>198.781956</td>\n",
       "      <td>3.234673e-44</td>\n",
       "    </tr>\n",
       "    <tr>\n",
       "      <th>27</th>\n",
       "      <td>bun_min</td>\n",
       "      <td>186.162306</td>\n",
       "      <td>1.421098e-41</td>\n",
       "    </tr>\n",
       "    <tr>\n",
       "      <th>7</th>\n",
       "      <td>bicarbonate_max</td>\n",
       "      <td>185.999995</td>\n",
       "      <td>1.536974e-41</td>\n",
       "    </tr>\n",
       "    <tr>\n",
       "      <th>54</th>\n",
       "      <td>pulse_pressure</td>\n",
       "      <td>172.093464</td>\n",
       "      <td>1.283288e-38</td>\n",
       "    </tr>\n",
       "    <tr>\n",
       "      <th>1</th>\n",
       "      <td>elixhauser_hospital</td>\n",
       "      <td>149.177845</td>\n",
       "      <td>8.801591e-34</td>\n",
       "    </tr>\n",
       "    <tr>\n",
       "      <th>39</th>\n",
       "      <td>diasbp_min</td>\n",
       "      <td>147.071492</td>\n",
       "      <td>2.457543e-33</td>\n",
       "    </tr>\n",
       "    <tr>\n",
       "      <th>46</th>\n",
       "      <td>resprate_max</td>\n",
       "      <td>145.848040</td>\n",
       "      <td>4.463044e-33</td>\n",
       "    </tr>\n",
       "    <tr>\n",
       "      <th>41</th>\n",
       "      <td>diasbp_mean</td>\n",
       "      <td>145.835487</td>\n",
       "      <td>4.490454e-33</td>\n",
       "    </tr>\n",
       "    <tr>\n",
       "      <th>37</th>\n",
       "      <td>sysbp_max</td>\n",
       "      <td>143.581430</td>\n",
       "      <td>1.348718e-32</td>\n",
       "    </tr>\n",
       "    <tr>\n",
       "      <th>4</th>\n",
       "      <td>sirs</td>\n",
       "      <td>138.432806</td>\n",
       "      <td>1.667085e-31</td>\n",
       "    </tr>\n",
       "    <tr>\n",
       "      <th>5</th>\n",
       "      <td>qsofa</td>\n",
       "      <td>118.235178</td>\n",
       "      <td>3.315022e-27</td>\n",
       "    </tr>\n",
       "    <tr>\n",
       "      <th>20</th>\n",
       "      <td>lactate_mean</td>\n",
       "      <td>109.629607</td>\n",
       "      <td>2.287260e-25</td>\n",
       "    </tr>\n",
       "    <tr>\n",
       "      <th>19</th>\n",
       "      <td>lactate_max</td>\n",
       "      <td>107.428149</td>\n",
       "      <td>6.768010e-25</td>\n",
       "    </tr>\n",
       "    <tr>\n",
       "      <th>55</th>\n",
       "      <td>age_creatinine_interaction</td>\n",
       "      <td>106.775879</td>\n",
       "      <td>9.335024e-25</td>\n",
       "    </tr>\n",
       "    <tr>\n",
       "      <th>9</th>\n",
       "      <td>creatinine_max</td>\n",
       "      <td>80.293333</td>\n",
       "      <td>4.618166e-19</td>\n",
       "    </tr>\n",
       "    <tr>\n",
       "      <th>35</th>\n",
       "      <td>heartrate_mean</td>\n",
       "      <td>74.669170</td>\n",
       "      <td>7.593567e-18</td>\n",
       "    </tr>\n",
       "    <tr>\n",
       "      <th>8</th>\n",
       "      <td>creatinine_min</td>\n",
       "      <td>69.788581</td>\n",
       "      <td>8.665326e-17</td>\n",
       "    </tr>\n",
       "    <tr>\n",
       "      <th>18</th>\n",
       "      <td>lactate_min</td>\n",
       "      <td>65.289218</td>\n",
       "      <td>8.211086e-16</td>\n",
       "    </tr>\n",
       "    <tr>\n",
       "      <th>34</th>\n",
       "      <td>heartrate_max</td>\n",
       "      <td>62.029153</td>\n",
       "      <td>4.199588e-15</td>\n",
       "    </tr>\n",
       "    <tr>\n",
       "      <th>48</th>\n",
       "      <td>spo2_min</td>\n",
       "      <td>57.938888</td>\n",
       "      <td>3.266031e-14</td>\n",
       "    </tr>\n",
       "    <tr>\n",
       "      <th>51</th>\n",
       "      <td>urineoutput</td>\n",
       "      <td>52.159546</td>\n",
       "      <td>5.967496e-13</td>\n",
       "    </tr>\n",
       "    <tr>\n",
       "      <th>33</th>\n",
       "      <td>heartrate_min</td>\n",
       "      <td>51.375871</td>\n",
       "      <td>8.854982e-13</td>\n",
       "    </tr>\n",
       "    <tr>\n",
       "      <th>17</th>\n",
       "      <td>hemoglobin_max</td>\n",
       "      <td>49.826804</td>\n",
       "      <td>1.932877e-12</td>\n",
       "    </tr>\n",
       "    <tr>\n",
       "      <th>50</th>\n",
       "      <td>spo2_mean</td>\n",
       "      <td>48.620779</td>\n",
       "      <td>3.551055e-12</td>\n",
       "    </tr>\n",
       "    <tr>\n",
       "      <th>31</th>\n",
       "      <td>wbc_max</td>\n",
       "      <td>36.014831</td>\n",
       "      <td>2.110045e-09</td>\n",
       "    </tr>\n",
       "    <tr>\n",
       "      <th>32</th>\n",
       "      <td>wbc_mean</td>\n",
       "      <td>34.267249</td>\n",
       "      <td>5.140991e-09</td>\n",
       "    </tr>\n",
       "    <tr>\n",
       "      <th>11</th>\n",
       "      <td>chloride_max</td>\n",
       "      <td>34.076587</td>\n",
       "      <td>5.666056e-09</td>\n",
       "    </tr>\n",
       "    <tr>\n",
       "      <th>15</th>\n",
       "      <td>hematocrit_max</td>\n",
       "      <td>33.312617</td>\n",
       "      <td>8.367359e-09</td>\n",
       "    </tr>\n",
       "    <tr>\n",
       "      <th>45</th>\n",
       "      <td>resprate_min</td>\n",
       "      <td>31.077393</td>\n",
       "      <td>2.622495e-08</td>\n",
       "    </tr>\n",
       "    <tr>\n",
       "      <th>0</th>\n",
       "      <td>age</td>\n",
       "      <td>29.688292</td>\n",
       "      <td>5.341386e-08</td>\n",
       "    </tr>\n",
       "    <tr>\n",
       "      <th>40</th>\n",
       "      <td>diasbp_max</td>\n",
       "      <td>29.206998</td>\n",
       "      <td>6.836173e-08</td>\n",
       "    </tr>\n",
       "    <tr>\n",
       "      <th>30</th>\n",
       "      <td>wbc_min</td>\n",
       "      <td>27.615732</td>\n",
       "      <td>1.547267e-07</td>\n",
       "    </tr>\n",
       "    <tr>\n",
       "      <th>16</th>\n",
       "      <td>hemoglobin_min</td>\n",
       "      <td>15.737729</td>\n",
       "      <td>7.387603e-05</td>\n",
       "    </tr>\n",
       "    <tr>\n",
       "      <th>12</th>\n",
       "      <td>glucose_min</td>\n",
       "      <td>10.148185</td>\n",
       "      <td>1.454179e-03</td>\n",
       "    </tr>\n",
       "    <tr>\n",
       "      <th>43</th>\n",
       "      <td>meanbp_max</td>\n",
       "      <td>9.938387</td>\n",
       "      <td>1.629182e-03</td>\n",
       "    </tr>\n",
       "    <tr>\n",
       "      <th>49</th>\n",
       "      <td>spo2_max</td>\n",
       "      <td>9.862786</td>\n",
       "      <td>1.697350e-03</td>\n",
       "    </tr>\n",
       "    <tr>\n",
       "      <th>56</th>\n",
       "      <td>delta_heartrate</td>\n",
       "      <td>7.256764</td>\n",
       "      <td>7.089323e-03</td>\n",
       "    </tr>\n",
       "    <tr>\n",
       "      <th>10</th>\n",
       "      <td>chloride_min</td>\n",
       "      <td>6.680027</td>\n",
       "      <td>9.780727e-03</td>\n",
       "    </tr>\n",
       "  </tbody>\n",
       "</table>\n",
       "</div>"
      ],
      "text/plain": [
       "                       Feature     F-value        P-value\n",
       "2                         sofa  693.319580  2.336355e-142\n",
       "3                         lods  400.896439   1.522502e-85\n",
       "38                  sysbp_mean  386.079491   1.418298e-82\n",
       "53                 shock_index  331.909221   1.219160e-71\n",
       "36                   sysbp_min  317.355608   1.109708e-68\n",
       "6              bicarbonate_min  299.146943   5.762312e-65\n",
       "44                 meanbp_mean  287.018138   1.752131e-62\n",
       "47               resprate_mean  228.131471   2.474698e-50\n",
       "42                  meanbp_min  206.966096   6.311154e-46\n",
       "28                     bun_max  199.235853   2.599695e-44\n",
       "29                    bun_mean  198.781956   3.234673e-44\n",
       "27                     bun_min  186.162306   1.421098e-41\n",
       "7              bicarbonate_max  185.999995   1.536974e-41\n",
       "54              pulse_pressure  172.093464   1.283288e-38\n",
       "1          elixhauser_hospital  149.177845   8.801591e-34\n",
       "39                  diasbp_min  147.071492   2.457543e-33\n",
       "46                resprate_max  145.848040   4.463044e-33\n",
       "41                 diasbp_mean  145.835487   4.490454e-33\n",
       "37                   sysbp_max  143.581430   1.348718e-32\n",
       "4                         sirs  138.432806   1.667085e-31\n",
       "5                        qsofa  118.235178   3.315022e-27\n",
       "20                lactate_mean  109.629607   2.287260e-25\n",
       "19                 lactate_max  107.428149   6.768010e-25\n",
       "55  age_creatinine_interaction  106.775879   9.335024e-25\n",
       "9               creatinine_max   80.293333   4.618166e-19\n",
       "35              heartrate_mean   74.669170   7.593567e-18\n",
       "8               creatinine_min   69.788581   8.665326e-17\n",
       "18                 lactate_min   65.289218   8.211086e-16\n",
       "34               heartrate_max   62.029153   4.199588e-15\n",
       "48                    spo2_min   57.938888   3.266031e-14\n",
       "51                 urineoutput   52.159546   5.967496e-13\n",
       "33               heartrate_min   51.375871   8.854982e-13\n",
       "17              hemoglobin_max   49.826804   1.932877e-12\n",
       "50                   spo2_mean   48.620779   3.551055e-12\n",
       "31                     wbc_max   36.014831   2.110045e-09\n",
       "32                    wbc_mean   34.267249   5.140991e-09\n",
       "11                chloride_max   34.076587   5.666056e-09\n",
       "15              hematocrit_max   33.312617   8.367359e-09\n",
       "45                resprate_min   31.077393   2.622495e-08\n",
       "0                          age   29.688292   5.341386e-08\n",
       "40                  diasbp_max   29.206998   6.836173e-08\n",
       "30                     wbc_min   27.615732   1.547267e-07\n",
       "16              hemoglobin_min   15.737729   7.387603e-05\n",
       "12                 glucose_min   10.148185   1.454179e-03\n",
       "43                  meanbp_max    9.938387   1.629182e-03\n",
       "49                    spo2_max    9.862786   1.697350e-03\n",
       "56             delta_heartrate    7.256764   7.089323e-03\n",
       "10                chloride_min    6.680027   9.780727e-03"
      ]
     },
     "execution_count": 97,
     "metadata": {},
     "output_type": "execute_result"
    }
   ],
   "source": [
    "# Filter results to show only significant p-values (e.g., p-value < 0.05)\n",
    "significant_numeric_results = anova_results[anova_results['P-value'] < 0.05]\n",
    "\n",
    "significant_numeric_results"
   ]
  },
  {
   "cell_type": "code",
   "execution_count": 98,
   "id": "f0bb878b-c067-4861-87ac-9d14a3451deb",
   "metadata": {},
   "outputs": [
    {
     "data": {
      "text/plain": [
       "['is_male',\n",
       " 'race_white',\n",
       " 'race_black',\n",
       " 'race_hispanic',\n",
       " 'race_other',\n",
       " 'metastatic_cancer',\n",
       " 'diabetes',\n",
       " 'vent',\n",
       " 'qsofa_sysbp_score',\n",
       " 'qsofa_gcs_score',\n",
       " 'qsofa_resprate_score',\n",
       " 'rrt',\n",
       " 'is_creatinine_missing']"
      ]
     },
     "execution_count": 98,
     "metadata": {},
     "output_type": "execute_result"
    }
   ],
   "source": [
    "# Step 1: Filter out columns with more than 10 missing values\n",
    "binary_features_filtered = [col for col in binary_columns if df[col].isna().sum() <= 10]\n",
    "binary_features_filtered"
   ]
  },
  {
   "cell_type": "code",
   "execution_count": 99,
   "id": "2f350369-fca9-4431-b8e7-951586c96b88",
   "metadata": {},
   "outputs": [
    {
     "data": {
      "text/plain": [
       "qsofa_sysbp_score       7\n",
       "qsofa_gcs_score         3\n",
       "qsofa_resprate_score    1\n",
       "dtype: int64"
      ]
     },
     "execution_count": 99,
     "metadata": {},
     "output_type": "execute_result"
    }
   ],
   "source": [
    "nan_summary1 = df[binary_features_filtered].isna().sum().loc[df.isna().sum() > 0].sort_values(ascending=False)\n",
    "nan_summary1"
   ]
  },
  {
   "cell_type": "code",
   "execution_count": 100,
   "id": "19c2ea21-3755-4a7c-b347-1a0b35de38d9",
   "metadata": {},
   "outputs": [
    {
     "name": "stdout",
     "output_type": "stream",
     "text": [
      "is_male                  0\n",
      "race_white               0\n",
      "race_black               0\n",
      "race_hispanic            0\n",
      "race_other               0\n",
      "metastatic_cancer        0\n",
      "diabetes                 0\n",
      "vent                     0\n",
      "qsofa_sysbp_score        0\n",
      "qsofa_gcs_score          0\n",
      "qsofa_resprate_score     0\n",
      "rrt                      0\n",
      "is_creatinine_missing    0\n",
      "dtype: int64\n"
     ]
    }
   ],
   "source": [
    "# Step 2: Impute missing values (for columns with 10 or fewer missing values) using the median\n",
    "df[binary_features_filtered] = df[binary_features_filtered].fillna(df[binary_features_filtered].median())\n",
    "\n",
    "# Verify the imputation was done correctly\n",
    "print(df[binary_features_filtered].isna().sum())"
   ]
  },
  {
   "cell_type": "code",
   "execution_count": 101,
   "id": "f75f1b96-f6c7-4187-bf01-c46130599cd4",
   "metadata": {},
   "outputs": [
    {
     "name": "stdout",
     "output_type": "stream",
     "text": [
      "Significant binary features:\n",
      " ['rrt', 'qsofa_sysbp_score', 'metastatic_cancer', 'diabetes', 'qsofa_resprate_score']\n",
      "Combined significant features:\n",
      " ['sofa', 'lods', 'sysbp_mean', 'shock_index', 'sysbp_min', 'bicarbonate_min', 'meanbp_mean', 'resprate_mean', 'meanbp_min', 'bun_max', 'bun_mean', 'bun_min', 'bicarbonate_max', 'pulse_pressure', 'elixhauser_hospital', 'diasbp_min', 'resprate_max', 'diasbp_mean', 'sysbp_max', 'sirs', 'qsofa', 'lactate_mean', 'lactate_max', 'age_creatinine_interaction', 'creatinine_max', 'heartrate_mean', 'creatinine_min', 'lactate_min', 'heartrate_max', 'spo2_min', 'urineoutput', 'heartrate_min', 'hemoglobin_max', 'spo2_mean', 'wbc_max', 'wbc_mean', 'chloride_max', 'hematocrit_max', 'resprate_min', 'age', 'diasbp_max', 'wbc_min', 'hemoglobin_min', 'glucose_min', 'meanbp_max', 'spo2_max', 'delta_heartrate', 'chloride_min', 'rrt', 'qsofa_sysbp_score', 'metastatic_cancer', 'diabetes', 'qsofa_resprate_score']\n"
     ]
    }
   ],
   "source": [
    "# Step 10: Chi-Squared Test for binary features\n",
    "X_binary = df[binary_features_filtered]\n",
    "# Scaling is required for chi-squared test to ensure non-negative values\n",
    "scaler = MinMaxScaler()\n",
    "X_binary_scaled = scaler.fit_transform(X_binary)\n",
    "\n",
    "# Perform chi-squared test\n",
    "chi2_values, chi2_p_values = chi2(X_binary_scaled, y)\n",
    "\n",
    "# Step 11: Create a DataFrame of binary feature names with their p-values\n",
    "chi2_results = pd.DataFrame({\n",
    "    'Feature': binary_features_filtered,\n",
    "    'Chi2-value': chi2_values,\n",
    "    'P-value': chi2_p_values\n",
    "}).sort_values(by='P-value')\n",
    "\n",
    "# Step 12: Filter significant binary features (e.g., p-value < 0.05)\n",
    "significant_binary_features = chi2_results[chi2_results['P-value'] < 0.05]['Feature'].tolist()\n",
    "print(\"Significant binary features:\\n\", significant_binary_features)\n",
    "\n",
    "significant_numeric_features = significant_numeric_results['Feature'].tolist()\n",
    "\n",
    "\n",
    "# Step 13: Combine significant features from both tests\n",
    "significant_features = significant_numeric_features + significant_binary_features\n",
    "print(\"Combined significant features:\\n\", significant_features)"
   ]
  },
  {
   "cell_type": "markdown",
   "id": "84bf0b67-3855-4319-9ca9-1200791c5da1",
   "metadata": {},
   "source": [
    "#Feature Engineering"
   ]
  },
  {
   "cell_type": "code",
   "execution_count": 103,
   "id": "1e2122ee-f0a0-4aca-ad5b-81aebbbe3bb7",
   "metadata": {},
   "outputs": [],
   "source": [
    "df['normalized_elixhauser'] = df['elixhauser_hospital'] / df['age']\n"
   ]
  },
  {
   "cell_type": "code",
   "execution_count": 104,
   "id": "322bf0df-492e-4623-a55a-7c53b020d083",
   "metadata": {},
   "outputs": [],
   "source": [
    "df['age_distance_from_median'] = df['age'] - df['age'].median()\n",
    "df['elixhauser_distance_from_mean'] = df['normalized_elixhauser'] - df['normalized_elixhauser'].mean()\n"
   ]
  },
  {
   "cell_type": "code",
   "execution_count": 105,
   "id": "db10c9d0-8488-41dc-b413-8a32fe7ba447",
   "metadata": {},
   "outputs": [
    {
     "name": "stderr",
     "output_type": "stream",
     "text": [
      "/Users/racheldaniel/anaconda3/lib/python3.11/site-packages/sklearn/cluster/_kmeans.py:870: FutureWarning: The default value of `n_init` will change from 10 to 'auto' in 1.4. Set the value of `n_init` explicitly to suppress the warning\n",
      "  warnings.warn(\n"
     ]
    }
   ],
   "source": [
    "\n",
    "kmeans = KMeans(n_clusters=4, random_state=42)\n",
    "df['risk_cluster'] = kmeans.fit_predict(df[['age', 'normalized_elixhauser']])\n"
   ]
  },
  {
   "cell_type": "code",
   "execution_count": 106,
   "id": "0b8f3e09-9596-4d64-8a16-d0bc5c67f885",
   "metadata": {},
   "outputs": [
    {
     "data": {
      "text/plain": [
       "0       0\n",
       "1       0\n",
       "2       0\n",
       "3       0\n",
       "4       3\n",
       "       ..\n",
       "4554    1\n",
       "4555    1\n",
       "4556    1\n",
       "4557    1\n",
       "4558    2\n",
       "Name: risk_cluster, Length: 4559, dtype: int32"
      ]
     },
     "execution_count": 106,
     "metadata": {},
     "output_type": "execute_result"
    }
   ],
   "source": [
    "df['risk_cluster']"
   ]
  },
  {
   "cell_type": "code",
   "execution_count": 107,
   "id": "7cf90bda-4c97-46c9-8613-997cb50280fe",
   "metadata": {},
   "outputs": [
    {
     "name": "stdout",
     "output_type": "stream",
     "text": [
      "Number of NaT values after standardization: 0\n"
     ]
    }
   ],
   "source": [
    "import re\n",
    "\n",
    "# Extract the day, month, and time components as strings\n",
    "df['day'] = df['intime'].str.extract(r'(\\d{1,2})/')[0]  # Extract day part\n",
    "df['month'] = df['intime'].str.extract(r'/(\\d{1,2})/')[0]  # Extract month part\n",
    "df['time'] = df['intime'].str.extract(r'(\\d{1,2}:\\d{2}(:\\d{2})?)')[0]  # Extract time part\n",
    "\n",
    "# Standardize time by adding ':00' if seconds are missing\n",
    "df['time'] = df['time'].apply(lambda x: x if re.match(r'\\d{1,2}:\\d{2}:\\d{2}', x) else x + ':00')\n",
    "\n",
    "# Combine these components into a new datetime string using a default year (e.g., '2000')\n",
    "df['intime_standardized'] = '2000/' + df['month'] + '/' + df['day'] + ' ' + df['time']\n",
    "\n",
    "# Convert the new string to a datetime object\n",
    "df['intime_standardized'] = pd.to_datetime(df['intime_standardized'], format='%Y/%m/%d %H:%M:%S', errors='coerce')\n",
    "\n",
    "# Check for NaT values after standardization\n",
    "print(f\"Number of NaT values after standardization: {df['intime_standardized'].isna().sum()}\")\n"
   ]
  },
  {
   "cell_type": "code",
   "execution_count": 108,
   "id": "4b7ee039-65f3-4062-8565-aa4eb45808a7",
   "metadata": {},
   "outputs": [
    {
     "data": {
      "text/html": [
       "<div>\n",
       "<style scoped>\n",
       "    .dataframe tbody tr th:only-of-type {\n",
       "        vertical-align: middle;\n",
       "    }\n",
       "\n",
       "    .dataframe tbody tr th {\n",
       "        vertical-align: top;\n",
       "    }\n",
       "\n",
       "    .dataframe thead th {\n",
       "        text-align: right;\n",
       "    }\n",
       "</style>\n",
       "<table border=\"1\" class=\"dataframe\">\n",
       "  <thead>\n",
       "    <tr style=\"text-align: right;\">\n",
       "      <th></th>\n",
       "      <th>intime_standardized</th>\n",
       "      <th>intime</th>\n",
       "    </tr>\n",
       "  </thead>\n",
       "  <tbody>\n",
       "    <tr>\n",
       "      <th>0</th>\n",
       "      <td>2000-05-28 14:26:21</td>\n",
       "      <td>28/5/2157 14:26:21</td>\n",
       "    </tr>\n",
       "    <tr>\n",
       "      <th>1</th>\n",
       "      <td>2000-07-29 02:26:17</td>\n",
       "      <td>29/7/2196 02:26:17</td>\n",
       "    </tr>\n",
       "    <tr>\n",
       "      <th>2</th>\n",
       "      <td>2000-02-14 17:55:07</td>\n",
       "      <td>14/2/2145 17:55:07</td>\n",
       "    </tr>\n",
       "    <tr>\n",
       "      <th>3</th>\n",
       "      <td>2000-06-11 12:47:02</td>\n",
       "      <td>11/6/2159 12:47:02</td>\n",
       "    </tr>\n",
       "    <tr>\n",
       "      <th>4</th>\n",
       "      <td>2000-01-01 17:28:33</td>\n",
       "      <td>1/1/2135 17:28:33</td>\n",
       "    </tr>\n",
       "    <tr>\n",
       "      <th>...</th>\n",
       "      <td>...</td>\n",
       "      <td>...</td>\n",
       "    </tr>\n",
       "    <tr>\n",
       "      <th>4554</th>\n",
       "      <td>2000-08-28 02:42:43</td>\n",
       "      <td>28/8/2164 02:42:43</td>\n",
       "    </tr>\n",
       "    <tr>\n",
       "      <th>4555</th>\n",
       "      <td>2000-08-16 23:14:03</td>\n",
       "      <td>16/8/2146 23:14:03</td>\n",
       "    </tr>\n",
       "    <tr>\n",
       "      <th>4556</th>\n",
       "      <td>2000-10-10 21:21:03</td>\n",
       "      <td>10/10/2169 21:21:03</td>\n",
       "    </tr>\n",
       "    <tr>\n",
       "      <th>4557</th>\n",
       "      <td>2000-06-23 23:28:42</td>\n",
       "      <td>23/6/2150 23:28:42</td>\n",
       "    </tr>\n",
       "    <tr>\n",
       "      <th>4558</th>\n",
       "      <td>2000-07-22 07:31:47</td>\n",
       "      <td>22/7/2133 07:31:47</td>\n",
       "    </tr>\n",
       "  </tbody>\n",
       "</table>\n",
       "<p>4559 rows × 2 columns</p>\n",
       "</div>"
      ],
      "text/plain": [
       "     intime_standardized               intime\n",
       "0    2000-05-28 14:26:21   28/5/2157 14:26:21\n",
       "1    2000-07-29 02:26:17   29/7/2196 02:26:17\n",
       "2    2000-02-14 17:55:07   14/2/2145 17:55:07\n",
       "3    2000-06-11 12:47:02   11/6/2159 12:47:02\n",
       "4    2000-01-01 17:28:33    1/1/2135 17:28:33\n",
       "...                  ...                  ...\n",
       "4554 2000-08-28 02:42:43   28/8/2164 02:42:43\n",
       "4555 2000-08-16 23:14:03   16/8/2146 23:14:03\n",
       "4556 2000-10-10 21:21:03  10/10/2169 21:21:03\n",
       "4557 2000-06-23 23:28:42   23/6/2150 23:28:42\n",
       "4558 2000-07-22 07:31:47   22/7/2133 07:31:47\n",
       "\n",
       "[4559 rows x 2 columns]"
      ]
     },
     "execution_count": 108,
     "metadata": {},
     "output_type": "execute_result"
    }
   ],
   "source": [
    "df[['intime_standardized','intime']]"
   ]
  },
  {
   "cell_type": "code",
   "execution_count": 109,
   "id": "269140f8-deec-474c-87d1-2bfb54535e3e",
   "metadata": {},
   "outputs": [],
   "source": [
    "# Convert 'intime' to a datetime object"
   ]
  },
  {
   "cell_type": "code",
   "execution_count": 110,
   "id": "1899c47f-0fe0-4f89-a5fc-d8a60715d9a6",
   "metadata": {},
   "outputs": [
    {
     "name": "stdout",
     "output_type": "stream",
     "text": [
      "Number of NaN values in 'season': 0\n"
     ]
    }
   ],
   "source": [
    "df['month'] = pd.to_numeric(df['month'], errors='coerce')\n",
    "\n",
    "# Now, create the 'season' column using pd.cut\n",
    "df['season'] = pd.cut(\n",
    "    df['month'],\n",
    "    bins=[0, 3, 6, 9, 12], \n",
    "    labels=['Winter', 'Spring', 'Summer', 'Fall'],\n",
    "    include_lowest=True\n",
    ")\n",
    "\n",
    "# Check for any NaN values in 'season' to verify the result\n",
    "print(f\"Number of NaN values in 'season': {df['season'].isna().sum()}\")"
   ]
  },
  {
   "cell_type": "code",
   "execution_count": 111,
   "id": "3a85ddb2-7e4f-4ea1-a647-c4c2d8a870bd",
   "metadata": {},
   "outputs": [
    {
     "data": {
      "text/plain": [
       "4559"
      ]
     },
     "execution_count": 111,
     "metadata": {},
     "output_type": "execute_result"
    }
   ],
   "source": [
    "len(df)"
   ]
  },
  {
   "cell_type": "code",
   "execution_count": 112,
   "id": "bdc11d88-a28d-4c10-afdb-5212e44d5344",
   "metadata": {},
   "outputs": [
    {
     "name": "stdout",
     "output_type": "stream",
     "text": [
      "  intime_standardized  hour_of_admission      shift\n",
      "0 2000-05-28 14:26:21                 14  afternoon\n",
      "1 2000-07-29 02:26:17                  2      night\n",
      "2 2000-02-14 17:55:07                 17  afternoon\n",
      "3 2000-06-11 12:47:02                 12  afternoon\n",
      "4 2000-01-01 17:28:33                 17  afternoon\n"
     ]
    }
   ],
   "source": [
    "df['hour_of_admission'] = df['intime_standardized'].dt.hour\n",
    "\n",
    "# Define a function to categorize shifts based on the hour\n",
    "def categorize_shift(hour):\n",
    "    if 6 <= hour < 12:\n",
    "        return 'morning'\n",
    "    elif 12 <= hour < 18:\n",
    "        return 'afternoon'\n",
    "    elif 18 <= hour < 24:\n",
    "        return 'evening'\n",
    "    else:\n",
    "        return 'night'\n",
    "\n",
    "# Apply the function to categorize the shift based on the 'hour_of_admission'\n",
    "df['shift'] = df['hour_of_admission'].apply(categorize_shift)\n",
    "\n",
    "# Display the first few rows to verify the results\n",
    "print(df[['intime_standardized', 'hour_of_admission', 'shift']].head())"
   ]
  },
  {
   "cell_type": "code",
   "execution_count": 113,
   "id": "b7c6e97f-5cbe-48ac-873c-de23d9ed95a8",
   "metadata": {},
   "outputs": [],
   "source": [
    "df= pd.get_dummies(df, columns=['shift'], drop_first=True)"
   ]
  },
  {
   "cell_type": "code",
   "execution_count": 114,
   "id": "405f4abb-0daa-4411-a127-451a69e8844b",
   "metadata": {},
   "outputs": [],
   "source": [
    "df= pd.get_dummies(df, columns=['season'], drop_first=True)"
   ]
  },
  {
   "cell_type": "code",
   "execution_count": 115,
   "id": "e4b67bc3-1d5d-4847-84da-2aa3bf8ba7ef",
   "metadata": {},
   "outputs": [],
   "source": [
    "df['shift_season_interaction'] = df['shift_night'] * (df['season_Spring'] + df['season_Fall'] + df['season_Summer'])\n"
   ]
  },
  {
   "cell_type": "code",
   "execution_count": 116,
   "id": "a5c71d1d-2ebe-4d4a-b15c-4f1855fc749d",
   "metadata": {
    "scrolled": true
   },
   "outputs": [
    {
     "data": {
      "text/plain": [
       "0       False\n",
       "1        True\n",
       "2       False\n",
       "3       False\n",
       "4       False\n",
       "        ...  \n",
       "4554     True\n",
       "4555    False\n",
       "4556    False\n",
       "4557    False\n",
       "4558    False\n",
       "Name: shift_season_interaction, Length: 4559, dtype: bool"
      ]
     },
     "execution_count": 116,
     "metadata": {},
     "output_type": "execute_result"
    }
   ],
   "source": [
    "df['shift_season_interaction']"
   ]
  },
  {
   "cell_type": "code",
   "execution_count": 117,
   "id": "2c6fd15d-3ce9-498f-a965-44d8cab445d4",
   "metadata": {},
   "outputs": [],
   "source": [
    "temporal_features=['shift_evening','shift_morning','shift_night','season_Fall','season_Summer','season_Spring', 'shift_season_interaction']\n",
    "#we include diabetes as a predictor, even though it wasn't found to be significant in the anova test since it increases accuracy in the model\n",
    "#features_for_model=['risk_cluster','elixhauser_distance_from_mean','age_distance_from_median','elixhauser_hospital', 'age', 'metastatic_cancer', 'race_other', 'race_black', 'race_hispanic','diabetes',]\n"
   ]
  },
  {
   "cell_type": "code",
   "execution_count": 118,
   "id": "3105c05d-aa49-4130-92f7-c6f05ef321f2",
   "metadata": {},
   "outputs": [],
   "source": [
    "# Preprocessing\n",
    "from sklearn.model_selection import train_test_split, StratifiedKFold, GridSearchCV\n",
    "from sklearn.preprocessing import StandardScaler, OneHotEncoder\n",
    "from sklearn.compose import ColumnTransformer\n",
    "from sklearn.pipeline import Pipeline\n",
    "\n",
    "# Model\n",
    "from sklearn.ensemble import RandomForestClassifier\n",
    "\n",
    "# Handling Imbalanced Data\n",
    "from imblearn.over_sampling import SMOTE\n",
    "from imblearn.pipeline import Pipeline as ImbPipeline\n",
    "\n",
    "# Evaluation\n",
    "from sklearn.metrics import classification_report, confusion_matrix, f1_score, roc_auc_score, roc_curve\n",
    "import matplotlib.pyplot as plt\n",
    "import seaborn as sns\n",
    "\n",
    "# For handling warnings\n",
    "import warnings\n",
    "warnings.filterwarnings('ignore')\n"
   ]
  },
  {
   "cell_type": "code",
   "execution_count": 119,
   "id": "a8ee05ca-5c33-45b4-b0fe-dd50de18f783",
   "metadata": {},
   "outputs": [
    {
     "data": {
      "text/plain": [
       "0        98.416667\n",
       "1       206.500000\n",
       "2       155.095238\n",
       "3       104.000000\n",
       "4       160.000000\n",
       "           ...    \n",
       "4554    116.619048\n",
       "4555    116.333333\n",
       "4556    122.333333\n",
       "4557    142.266667\n",
       "4558     98.000000\n",
       "Name: glucose_mean_summary, Length: 4559, dtype: float64"
      ]
     },
     "execution_count": 119,
     "metadata": {},
     "output_type": "execute_result"
    }
   ],
   "source": [
    "df['glucose_mean_summary']"
   ]
  },
  {
   "cell_type": "code",
   "execution_count": 120,
   "id": "542096ca-e6b1-4db2-861b-1a6e14f6b29a",
   "metadata": {},
   "outputs": [],
   "source": [
    "# Create indicator columns for whether the culture is positive for specific specimen types\n",
    "df['positive_blood_culture'] = ((df['specimen_BLOOD CULTURE'] == 1) & (df['positiveculture_poe'] == 1)).astype(int)\n",
    "df['positive_urine_culture'] = ((df['specimen_URINE'] == 1) & (df['positiveculture_poe'] == 1)).astype(int)\n",
    "df['positive_sputum_culture'] = ((df['specimen_SPUTUM'] == 1) & (df['positiveculture_poe'] == 1)).astype(int)\n"
   ]
  },
  {
   "cell_type": "code",
   "execution_count": 121,
   "id": "9eb622e6-0293-49d7-9a74-f439721ba235",
   "metadata": {},
   "outputs": [],
   "source": [
    "df['anemia_flag'] = (df['hemoglobin_min'] < 12.0).astype(int)\n",
    "df['renal_dysfunction_flag'] = ((df['creatinine_max'] > 1.5) | (df['bun_mean'] > 20)).astype(int)\n",
    "df['ards_flag'] = (df['spo2_mean'] < 92).astype(int)\n",
    "df['culture_severity_interaction'] = df['positiveculture_poe'] * df['sofa']\n"
   ]
  },
  {
   "cell_type": "code",
   "execution_count": 122,
   "id": "006fdf46-0199-44dd-8867-8d7186fdd40e",
   "metadata": {},
   "outputs": [],
   "source": [
    "# Step 2: Create the combined interaction feature\n",
    "df['high_sofa_high_lactate'] = ((df['sofa'] > 10) & (df['lactate_mean'] > 7)).astype(int)\n"
   ]
  },
  {
   "cell_type": "code",
   "execution_count": 123,
   "id": "fa33bf93-15aa-42f1-b08a-181da913e967",
   "metadata": {
    "scrolled": true
   },
   "outputs": [],
   "source": [
    "\n",
    "import re\n",
    "\n",
    "# Function to standardize time format by adding ':00' if missing seconds\n",
    "def add_seconds(time_str):\n",
    "    if re.match(r'\\d{1,2}/\\d{1,2}/\\d{4} \\d{1,2}:\\d{2}$', time_str):\n",
    "        # If time is in \"dd/mm/yyyy hh:mm\" format, add \":00\"\n",
    "        return time_str + ':00'\n",
    "    return time_str\n",
    "df['intime'] = df['intime'].apply(add_seconds)\n",
    "# Apply the function to the columns that need datetime conversion\n",
    "df['suspected_infection_time_poe'] = df['suspected_infection_time_poe'].apply(add_seconds)\n",
    "df['antibiotic_time_poe'] = df['antibiotic_time_poe'].apply(add_seconds)\n",
    "df['blood_culture_time'] = df['blood_culture_time'].apply(add_seconds)"
   ]
  },
  {
   "cell_type": "code",
   "execution_count": 124,
   "id": "dd5a06d3-aa18-455b-976b-5b2c0d597697",
   "metadata": {},
   "outputs": [
    {
     "data": {
      "text/plain": [
       "0        28/5/2157 14:26:21\n",
       "1        29/7/2196 02:26:17\n",
       "2        14/2/2145 17:55:07\n",
       "3        11/6/2159 12:47:02\n",
       "4         1/1/2135 17:28:33\n",
       "               ...         \n",
       "4554     28/8/2164 02:42:43\n",
       "4555     16/8/2146 23:14:03\n",
       "4556    10/10/2169 21:21:03\n",
       "4557     23/6/2150 23:28:42\n",
       "4558     22/7/2133 07:31:47\n",
       "Name: intime, Length: 4559, dtype: object"
      ]
     },
     "execution_count": 124,
     "metadata": {},
     "output_type": "execute_result"
    }
   ],
   "source": [
    "df['intime']\n"
   ]
  },
  {
   "cell_type": "code",
   "execution_count": 125,
   "id": "f0be1680-e51d-46d4-8922-b0615b413d78",
   "metadata": {},
   "outputs": [
    {
     "name": "stdout",
     "output_type": "stream",
     "text": [
      "     suspected_infection_time_poe              intime antibiotic_time_poe  \\\n",
      "0             2157-05-28 15:30:00 2157-05-28 14:26:21          2157-05-28   \n",
      "1             2196-07-29 04:57:00 2196-07-29 02:26:17          2196-07-29   \n",
      "2             2145-02-14 21:20:00 2145-02-14 17:55:07          2145-02-15   \n",
      "3             2159-06-11 12:11:00 2159-06-11 12:47:02          2159-06-11   \n",
      "4             2135-01-01 15:55:00 2135-01-01 17:28:33          2135-01-01   \n",
      "...                           ...                 ...                 ...   \n",
      "4554          2164-08-28 04:36:00 2164-08-28 02:42:43          2164-08-28   \n",
      "4555          2146-08-17 01:07:00 2146-08-16 23:14:03          2146-08-17   \n",
      "4556          2169-10-10 16:30:00 2169-10-10 21:21:03          2169-10-11   \n",
      "4557          2150-06-23 23:40:00 2150-06-23 23:28:42          2150-06-24   \n",
      "4558          2133-07-22 00:55:00 2133-07-22 07:31:47          2133-07-23   \n",
      "\n",
      "      blood_culture_time  \n",
      "0    2157-05-28 15:30:00  \n",
      "1    2196-07-29 04:57:00  \n",
      "2    2145-02-14 21:20:00  \n",
      "3    2159-06-11 12:11:00  \n",
      "4    2135-01-01 00:00:00  \n",
      "...                  ...  \n",
      "4554 2164-08-28 04:36:00  \n",
      "4555 2146-08-17 01:07:00  \n",
      "4556 2169-10-10 16:30:00  \n",
      "4557 2150-06-23 23:40:00  \n",
      "4558 2133-07-22 00:55:00  \n",
      "\n",
      "[4559 rows x 4 columns]\n"
     ]
    }
   ],
   "source": [
    "# Convert to datetime\n",
    "df['suspected_infection_time_poe'] = pd.to_datetime(df['suspected_infection_time_poe'], format='%d/%m/%Y %H:%M:%S', errors='coerce')\n",
    "df['intime'] = pd.to_datetime(df['intime'], format='%d/%m/%Y %H:%M:%S', errors='coerce')\n",
    "df['antibiotic_time_poe'] = pd.to_datetime(df['antibiotic_time_poe'], format='%d/%m/%Y %H:%M:%S', errors='coerce')\n",
    "df['blood_culture_time'] = pd.to_datetime(df['blood_culture_time'], format='%d/%m/%Y %H:%M:%S', errors='coerce')\n",
    "\n",
    "# Check the resulting datetime columns\n",
    "print(df[['suspected_infection_time_poe', 'intime', 'antibiotic_time_poe', 'blood_culture_time']])"
   ]
  },
  {
   "cell_type": "code",
   "execution_count": 126,
   "id": "740e8481-25ad-477e-89b5-675669799bc8",
   "metadata": {},
   "outputs": [],
   "source": [
    "df['time_to_suspected_infection'] = (df['suspected_infection_time_poe']- df['intime']).dt.total_seconds() / 3600  # convert to hours\n",
    "df['time_to_antibiotic'] = (df['antibiotic_time_poe'] - df['intime']).dt.total_seconds() / 3600\n",
    "df['time_suspected_to_culture'] = (df['blood_culture_time'] - df['suspected_infection_time_poe']).dt.total_seconds() / 3600"
   ]
  },
  {
   "cell_type": "code",
   "execution_count": 127,
   "id": "650b7d90-3f6b-4b21-b278-155fc3230e6c",
   "metadata": {},
   "outputs": [
    {
     "data": {
      "text/plain": [
       "0        0.000000\n",
       "1        0.000000\n",
       "2        0.000000\n",
       "3        0.000000\n",
       "4      -15.916667\n",
       "          ...    \n",
       "4554     0.000000\n",
       "4555     0.000000\n",
       "4556     0.000000\n",
       "4557     0.000000\n",
       "4558     0.000000\n",
       "Name: time_suspected_to_culture, Length: 4559, dtype: float64"
      ]
     },
     "execution_count": 127,
     "metadata": {},
     "output_type": "execute_result"
    }
   ],
   "source": [
    "df['time_suspected_to_culture']"
   ]
  },
  {
   "cell_type": "code",
   "execution_count": 128,
   "id": "aedad0a9-7cfa-47ca-bb12-c4217d957216",
   "metadata": {},
   "outputs": [],
   "source": [
    "good_features=['shift_evening','shift_morning','shift_night','season_Fall','season_Summer','season_Spring', 'shift_season_interaction','time_to_antibiotic','time_to_suspected_infection', 'time_suspected_to_culture',  'age', 'positiveculture_poe', 'blood_culture_positive', 'race_white', 'vent', 'sofa', 'lods', 'sirs', 'qsofa', \n",
    "'qsofa_sysbp_score', 'qsofa_gcs_score', 'aniongap_max', 'bicarbonate_min', 'creatinine_min', 'chloride_min', \n",
    "'glucose_min', 'hematocrit_min', 'hemoglobin_min', 'lactate_mean', 'platelet_min', 'potassium_max', \n",
    "'sodium_max','bun_mean', 'wbc_mean', 'heartrate_mean', 'sysbp_mean',  'diasbp_mean', 'resprate_mean', 'high_risk_combined', \n",
    "'elixhauser_hospital',                                 \n",
    "'heartrate_mean',                \n",
    "'spo2_mean',                     \n",
    "'urineoutput',                 \n",
    "'shock_index',                \n",
    "'pulse_pressure',                \n",
    "'age_creatinine_interaction',    \n",
    "'delta_heartrate',                         \n",
    "'rrt', 'metastatic_cancer', 'diabetes', 'qsofa_resprate_score','is_male','anemia_flag',\n",
    "'renal_dysfunction_flag','ards_flag','culture_severity_interaction','sepsis_explicit',\n",
    " 'suspected_infection_time_poe_days', 'positiveculture_poe', 'blood_culture_positive',\n",
    "'sepsis_angus', 'sepsis_martin', 'sepsis_explicit', 'septic_shock_explicit', 'severe_sepsis_explicit', 'sepsis_nqf', 'sepsis_cdc', 'sepsis_cdc_simple']"
   ]
  },
  {
   "cell_type": "code",
   "execution_count": null,
   "id": "58afbd28-92d7-4c6a-a102-6f82baa1c31c",
   "metadata": {},
   "outputs": [],
   "source": []
  },
  {
   "cell_type": "code",
   "execution_count": 129,
   "id": "a91389dc-5847-4865-932f-9a115ac8be33",
   "metadata": {},
   "outputs": [],
   "source": [
    "X = df[good_features]\n",
    "y = df['thirtyday_expire_flag']\n",
    "\n",
    "# Drop rows from X where 'aniongap_mean' is missing\n",
    "X = X.dropna(subset=['aniongap_max'])\n",
    "\n",
    "# Drop the same indices from y\n",
    "y = y.loc[X.index]"
   ]
  },
  {
   "cell_type": "markdown",
   "id": "b94e8398-bd82-49d8-80c1-8fa0356f3580",
   "metadata": {},
   "source": [
    "X = df[top_features]\n",
    "y = df['thirtyday_expire_flag']\n",
    "\n",
    "# Drop rows from X where 'aniongap_mean' is missing\n",
    "X = X.dropna(subset=['aniongap_max'])\n",
    "\n",
    "# Drop the same indices from y\n",
    "y = y.loc[X.index]"
   ]
  },
  {
   "cell_type": "code",
   "execution_count": 131,
   "id": "702301d0-43d0-4c29-a652-f0529c56bbaf",
   "metadata": {},
   "outputs": [
    {
     "name": "stdout",
     "output_type": "stream",
     "text": [
      "Training set size: (3636, 68)\n",
      "Test set size: (909, 68)\n"
     ]
    }
   ],
   "source": [
    "# Split the data: 80% training and 20% testing\n",
    "X_train, X_test, y_train, y_test = train_test_split(\n",
    "    X, y,\n",
    "    test_size=0.2,        # 20% for testing\n",
    "    stratify=y,           # Maintain the same class distribution\n",
    "    random_state=42       # For reproducibility\n",
    ")\n",
    "\n",
    "# Display the shapes of the splits\n",
    "print(f\"Training set size: {X_train.shape}\")\n",
    "print(f\"Test set size: {X_test.shape}\")\n",
    "\n"
   ]
  },
  {
   "cell_type": "code",
   "execution_count": 132,
   "id": "13ff7c22-d27d-472e-8691-f5b0d879bb8e",
   "metadata": {},
   "outputs": [
    {
     "name": "stdout",
     "output_type": "stream",
     "text": [
      "Missing values in Training Set:\n",
      "shift_evening             0\n",
      "shift_morning             0\n",
      "shift_night               0\n",
      "season_Fall               0\n",
      "season_Summer             0\n",
      "                         ..\n",
      "septic_shock_explicit     0\n",
      "severe_sepsis_explicit    0\n",
      "sepsis_nqf                0\n",
      "sepsis_cdc                0\n",
      "sepsis_cdc_simple         0\n",
      "Length: 68, dtype: int64\n",
      "\n",
      "Missing values in Test Set:\n",
      "shift_evening             0\n",
      "shift_morning             0\n",
      "shift_night               0\n",
      "season_Fall               0\n",
      "season_Summer             0\n",
      "                         ..\n",
      "septic_shock_explicit     0\n",
      "severe_sepsis_explicit    0\n",
      "sepsis_nqf                0\n",
      "sepsis_cdc                0\n",
      "sepsis_cdc_simple         0\n",
      "Length: 68, dtype: int64\n"
     ]
    }
   ],
   "source": [
    "# Initialize the StandardScaler\n",
    "scaler = StandardScaler()\n",
    "\n",
    "# Fit the scaler on the training data's numerical features and transform\n",
    "X_train_numeric = scaler.fit_transform(X_train[good_features])\n",
    "\n",
    "# Transform the test data's numerical features using the same scaler\n",
    "X_test_numeric = scaler.transform(X_test[good_features])\n",
    "\n",
    "# Replace the original numerical features with the scaled values\n",
    "X_train_scaled = X_train.copy()\n",
    "X_train_scaled[good_features] = X_train_numeric\n",
    "\n",
    "X_test_scaled = X_test.copy()\n",
    "X_test_scaled[good_features] = X_test_numeric\n",
    "\n",
    "# Verify that the rows are dropped\n",
    "# Optional: Check for any remaining missing values\n",
    "print(\"Missing values in Training Set:\")\n",
    "print(X_train_scaled.isnull().sum())\n",
    "\n",
    "print(\"\\nMissing values in Test Set:\")\n",
    "print(X_test_scaled.isnull().sum())\n"
   ]
  },
  {
   "cell_type": "code",
   "execution_count": 133,
   "id": "6ce71bab-d04d-4631-b0b0-b164b7fe8da5",
   "metadata": {},
   "outputs": [
    {
     "data": {
      "text/plain": [
       "Index(['shift_evening', 'shift_morning', 'shift_night', 'season_Fall',\n",
       "       'season_Summer', 'season_Spring', 'shift_season_interaction',\n",
       "       'time_to_antibiotic', 'time_to_suspected_infection',\n",
       "       'time_suspected_to_culture', 'age', 'positiveculture_poe',\n",
       "       'blood_culture_positive', 'race_white', 'vent', 'sofa', 'lods', 'sirs',\n",
       "       'qsofa', 'qsofa_sysbp_score', 'qsofa_gcs_score', 'aniongap_max',\n",
       "       'bicarbonate_min', 'creatinine_min', 'chloride_min', 'glucose_min',\n",
       "       'hematocrit_min', 'hemoglobin_min', 'lactate_mean', 'platelet_min',\n",
       "       'potassium_max', 'sodium_max', 'bun_mean', 'wbc_mean', 'heartrate_mean',\n",
       "       'sysbp_mean', 'diasbp_mean', 'resprate_mean', 'high_risk_combined',\n",
       "       'elixhauser_hospital', 'heartrate_mean', 'spo2_mean', 'urineoutput',\n",
       "       'shock_index', 'pulse_pressure', 'age_creatinine_interaction',\n",
       "       'delta_heartrate', 'rrt', 'metastatic_cancer', 'diabetes',\n",
       "       'qsofa_resprate_score', 'is_male', 'anemia_flag',\n",
       "       'renal_dysfunction_flag', 'ards_flag', 'culture_severity_interaction',\n",
       "       'sepsis_explicit', 'suspected_infection_time_poe_days',\n",
       "       'positiveculture_poe', 'blood_culture_positive', 'sepsis_angus',\n",
       "       'sepsis_martin', 'sepsis_explicit', 'septic_shock_explicit',\n",
       "       'severe_sepsis_explicit', 'sepsis_nqf', 'sepsis_cdc',\n",
       "       'sepsis_cdc_simple'],\n",
       "      dtype='object')"
      ]
     },
     "execution_count": 133,
     "metadata": {},
     "output_type": "execute_result"
    }
   ],
   "source": [
    "X_train.columns"
   ]
  },
  {
   "cell_type": "code",
   "execution_count": null,
   "id": "c83dc7fa-33c0-476c-8945-d18a2880c1f6",
   "metadata": {},
   "outputs": [],
   "source": []
  },
  {
   "cell_type": "code",
   "execution_count": 188,
   "id": "e7a89057-332b-4b46-bfcf-fc9623ed5b2f",
   "metadata": {},
   "outputs": [
    {
     "name": "stdout",
     "output_type": "stream",
     "text": [
      "Fitting 3 folds for each of 15 candidates, totalling 45 fits\n",
      "[CV] END stacking_clf__lr__C=0.01, stacking_clf__rf__max_depth=10, stacking_clf__rf__min_samples_leaf=1, stacking_clf__rf__min_samples_split=5, stacking_clf__xgb__max_depth=3, stacking_clf__xgb__reg_alpha=0.5, stacking_clf__xgb__reg_lambda=0.5; total time=   1.8s\n",
      "[CV] END stacking_clf__lr__C=0.01, stacking_clf__rf__max_depth=10, stacking_clf__rf__min_samples_leaf=1, stacking_clf__rf__min_samples_split=5, stacking_clf__xgb__max_depth=5, stacking_clf__xgb__reg_alpha=0.1, stacking_clf__xgb__reg_lambda=1.0; total time=   1.8s\n",
      "[CV] END stacking_clf__lr__C=0.1, stacking_clf__rf__max_depth=10, stacking_clf__rf__min_samples_leaf=3, stacking_clf__rf__min_samples_split=5, stacking_clf__xgb__max_depth=5, stacking_clf__xgb__reg_alpha=0.1, stacking_clf__xgb__reg_lambda=1.0; total time=   1.9s\n",
      "[CV] END stacking_clf__lr__C=0.01, stacking_clf__rf__max_depth=10, stacking_clf__rf__min_samples_leaf=1, stacking_clf__rf__min_samples_split=5, stacking_clf__xgb__max_depth=3, stacking_clf__xgb__reg_alpha=0.5, stacking_clf__xgb__reg_lambda=0.5; total time=   1.9s\n",
      "[CV] END stacking_clf__lr__C=0.1, stacking_clf__rf__max_depth=10, stacking_clf__rf__min_samples_leaf=3, stacking_clf__rf__min_samples_split=5, stacking_clf__xgb__max_depth=5, stacking_clf__xgb__reg_alpha=0.1, stacking_clf__xgb__reg_lambda=1.0; total time=   1.9s\n",
      "[CV] END stacking_clf__lr__C=0.1, stacking_clf__rf__max_depth=10, stacking_clf__rf__min_samples_leaf=3, stacking_clf__rf__min_samples_split=5, stacking_clf__xgb__max_depth=5, stacking_clf__xgb__reg_alpha=0.1, stacking_clf__xgb__reg_lambda=1.0; total time=   1.9s\n",
      "[CV] END stacking_clf__lr__C=0.01, stacking_clf__rf__max_depth=10, stacking_clf__rf__min_samples_leaf=1, stacking_clf__rf__min_samples_split=5, stacking_clf__xgb__max_depth=5, stacking_clf__xgb__reg_alpha=0.1, stacking_clf__xgb__reg_lambda=1.0; total time=   2.0s\n",
      "[CV] END stacking_clf__lr__C=0.01, stacking_clf__rf__max_depth=10, stacking_clf__rf__min_samples_leaf=1, stacking_clf__rf__min_samples_split=5, stacking_clf__xgb__max_depth=3, stacking_clf__xgb__reg_alpha=0.5, stacking_clf__xgb__reg_lambda=0.5; total time=   2.0s\n",
      "[CV] END stacking_clf__lr__C=0.01, stacking_clf__rf__max_depth=10, stacking_clf__rf__min_samples_leaf=1, stacking_clf__rf__min_samples_split=5, stacking_clf__xgb__max_depth=5, stacking_clf__xgb__reg_alpha=0.1, stacking_clf__xgb__reg_lambda=1.0; total time=   2.2s\n",
      "[CV] END stacking_clf__lr__C=1, stacking_clf__rf__max_depth=20, stacking_clf__rf__min_samples_leaf=1, stacking_clf__rf__min_samples_split=2, stacking_clf__xgb__max_depth=3, stacking_clf__xgb__reg_alpha=0.1, stacking_clf__xgb__reg_lambda=0.5; total time=   2.2s\n",
      "[CV] END stacking_clf__lr__C=1, stacking_clf__rf__max_depth=20, stacking_clf__rf__min_samples_leaf=1, stacking_clf__rf__min_samples_split=2, stacking_clf__xgb__max_depth=3, stacking_clf__xgb__reg_alpha=0.1, stacking_clf__xgb__reg_lambda=0.5; total time=   2.3s\n",
      "[CV] END stacking_clf__lr__C=1, stacking_clf__rf__max_depth=20, stacking_clf__rf__min_samples_leaf=1, stacking_clf__rf__min_samples_split=2, stacking_clf__xgb__max_depth=3, stacking_clf__xgb__reg_alpha=0.1, stacking_clf__xgb__reg_lambda=0.5; total time=   2.3s\n",
      "[CV] END stacking_clf__lr__C=0.1, stacking_clf__rf__max_depth=20, stacking_clf__rf__min_samples_leaf=3, stacking_clf__rf__min_samples_split=2, stacking_clf__xgb__max_depth=5, stacking_clf__xgb__reg_alpha=0.1, stacking_clf__xgb__reg_lambda=1.0; total time=   2.1s\n",
      "[CV] END stacking_clf__lr__C=0.01, stacking_clf__rf__max_depth=10, stacking_clf__rf__min_samples_leaf=1, stacking_clf__rf__min_samples_split=5, stacking_clf__xgb__max_depth=5, stacking_clf__xgb__reg_alpha=0.5, stacking_clf__xgb__reg_lambda=0.5; total time=   2.0s\n",
      "[CV] END stacking_clf__lr__C=0.1, stacking_clf__rf__max_depth=20, stacking_clf__rf__min_samples_leaf=3, stacking_clf__rf__min_samples_split=2, stacking_clf__xgb__max_depth=5, stacking_clf__xgb__reg_alpha=0.1, stacking_clf__xgb__reg_lambda=1.0; total time=   2.1s\n",
      "[CV] END stacking_clf__lr__C=0.1, stacking_clf__rf__max_depth=20, stacking_clf__rf__min_samples_leaf=3, stacking_clf__rf__min_samples_split=2, stacking_clf__xgb__max_depth=5, stacking_clf__xgb__reg_alpha=0.1, stacking_clf__xgb__reg_lambda=1.0; total time=   2.2s\n",
      "[CV] END stacking_clf__lr__C=0.01, stacking_clf__rf__max_depth=10, stacking_clf__rf__min_samples_leaf=1, stacking_clf__rf__min_samples_split=5, stacking_clf__xgb__max_depth=5, stacking_clf__xgb__reg_alpha=0.5, stacking_clf__xgb__reg_lambda=0.5; total time=   2.0s\n",
      "[CV] END stacking_clf__lr__C=0.01, stacking_clf__rf__max_depth=None, stacking_clf__rf__min_samples_leaf=1, stacking_clf__rf__min_samples_split=5, stacking_clf__xgb__max_depth=3, stacking_clf__xgb__reg_alpha=0.1, stacking_clf__xgb__reg_lambda=1.0; total time=   2.2s\n",
      "[CV] END stacking_clf__lr__C=0.01, stacking_clf__rf__max_depth=None, stacking_clf__rf__min_samples_leaf=1, stacking_clf__rf__min_samples_split=5, stacking_clf__xgb__max_depth=3, stacking_clf__xgb__reg_alpha=0.1, stacking_clf__xgb__reg_lambda=1.0; total time=   2.2s\n",
      "[CV] END stacking_clf__lr__C=0.01, stacking_clf__rf__max_depth=None, stacking_clf__rf__min_samples_leaf=1, stacking_clf__rf__min_samples_split=5, stacking_clf__xgb__max_depth=3, stacking_clf__xgb__reg_alpha=0.1, stacking_clf__xgb__reg_lambda=1.0; total time=   2.3s\n",
      "[CV] END stacking_clf__lr__C=0.01, stacking_clf__rf__max_depth=10, stacking_clf__rf__min_samples_leaf=1, stacking_clf__rf__min_samples_split=5, stacking_clf__xgb__max_depth=5, stacking_clf__xgb__reg_alpha=0.5, stacking_clf__xgb__reg_lambda=0.5; total time=   2.1s\n",
      "[CV] END stacking_clf__lr__C=0.1, stacking_clf__rf__max_depth=20, stacking_clf__rf__min_samples_leaf=1, stacking_clf__rf__min_samples_split=5, stacking_clf__xgb__max_depth=5, stacking_clf__xgb__reg_alpha=0.1, stacking_clf__xgb__reg_lambda=0.5; total time=   2.1s\n",
      "[CV] END stacking_clf__lr__C=0.1, stacking_clf__rf__max_depth=20, stacking_clf__rf__min_samples_leaf=1, stacking_clf__rf__min_samples_split=5, stacking_clf__xgb__max_depth=5, stacking_clf__xgb__reg_alpha=0.1, stacking_clf__xgb__reg_lambda=0.5; total time=   2.2s\n",
      "[CV] END stacking_clf__lr__C=0.1, stacking_clf__rf__max_depth=20, stacking_clf__rf__min_samples_leaf=1, stacking_clf__rf__min_samples_split=5, stacking_clf__xgb__max_depth=5, stacking_clf__xgb__reg_alpha=0.1, stacking_clf__xgb__reg_lambda=0.5; total time=   2.2s\n",
      "[CV] END stacking_clf__lr__C=0.01, stacking_clf__rf__max_depth=20, stacking_clf__rf__min_samples_leaf=1, stacking_clf__rf__min_samples_split=5, stacking_clf__xgb__max_depth=5, stacking_clf__xgb__reg_alpha=0.1, stacking_clf__xgb__reg_lambda=1.0; total time=   1.9s\n",
      "[CV] END stacking_clf__lr__C=0.01, stacking_clf__rf__max_depth=20, stacking_clf__rf__min_samples_leaf=1, stacking_clf__rf__min_samples_split=5, stacking_clf__xgb__max_depth=5, stacking_clf__xgb__reg_alpha=0.1, stacking_clf__xgb__reg_lambda=1.0; total time=   1.9s\n",
      "[CV] END stacking_clf__lr__C=0.01, stacking_clf__rf__max_depth=20, stacking_clf__rf__min_samples_leaf=1, stacking_clf__rf__min_samples_split=5, stacking_clf__xgb__max_depth=5, stacking_clf__xgb__reg_alpha=0.1, stacking_clf__xgb__reg_lambda=1.0; total time=   1.9s\n",
      "[CV] END stacking_clf__lr__C=1, stacking_clf__rf__max_depth=None, stacking_clf__rf__min_samples_leaf=3, stacking_clf__rf__min_samples_split=5, stacking_clf__xgb__max_depth=5, stacking_clf__xgb__reg_alpha=0.5, stacking_clf__xgb__reg_lambda=0.5; total time=   1.8s\n",
      "[CV] END stacking_clf__lr__C=1, stacking_clf__rf__max_depth=None, stacking_clf__rf__min_samples_leaf=1, stacking_clf__rf__min_samples_split=2, stacking_clf__xgb__max_depth=3, stacking_clf__xgb__reg_alpha=0.5, stacking_clf__xgb__reg_lambda=1.0; total time=   1.9s\n",
      "[CV] END stacking_clf__lr__C=1, stacking_clf__rf__max_depth=None, stacking_clf__rf__min_samples_leaf=1, stacking_clf__rf__min_samples_split=2, stacking_clf__xgb__max_depth=3, stacking_clf__xgb__reg_alpha=0.5, stacking_clf__xgb__reg_lambda=1.0; total time=   1.9s\n",
      "[CV] END stacking_clf__lr__C=0.01, stacking_clf__rf__max_depth=10, stacking_clf__rf__min_samples_leaf=1, stacking_clf__rf__min_samples_split=2, stacking_clf__xgb__max_depth=3, stacking_clf__xgb__reg_alpha=0.1, stacking_clf__xgb__reg_lambda=1.0; total time=   1.6s\n",
      "[CV] END stacking_clf__lr__C=1, stacking_clf__rf__max_depth=None, stacking_clf__rf__min_samples_leaf=1, stacking_clf__rf__min_samples_split=2, stacking_clf__xgb__max_depth=3, stacking_clf__xgb__reg_alpha=0.5, stacking_clf__xgb__reg_lambda=1.0; total time=   2.0s\n",
      "[CV] END stacking_clf__lr__C=1, stacking_clf__rf__max_depth=None, stacking_clf__rf__min_samples_leaf=3, stacking_clf__rf__min_samples_split=5, stacking_clf__xgb__max_depth=5, stacking_clf__xgb__reg_alpha=0.5, stacking_clf__xgb__reg_lambda=0.5; total time=   2.0s\n",
      "[CV] END stacking_clf__lr__C=0.01, stacking_clf__rf__max_depth=10, stacking_clf__rf__min_samples_leaf=1, stacking_clf__rf__min_samples_split=2, stacking_clf__xgb__max_depth=3, stacking_clf__xgb__reg_alpha=0.1, stacking_clf__xgb__reg_lambda=1.0; total time=   1.8s\n",
      "[CV] END stacking_clf__lr__C=1, stacking_clf__rf__max_depth=None, stacking_clf__rf__min_samples_leaf=3, stacking_clf__rf__min_samples_split=5, stacking_clf__xgb__max_depth=5, stacking_clf__xgb__reg_alpha=0.5, stacking_clf__xgb__reg_lambda=0.5; total time=   1.9s\n",
      "[CV] END stacking_clf__lr__C=0.01, stacking_clf__rf__max_depth=10, stacking_clf__rf__min_samples_leaf=1, stacking_clf__rf__min_samples_split=2, stacking_clf__xgb__max_depth=3, stacking_clf__xgb__reg_alpha=0.1, stacking_clf__xgb__reg_lambda=1.0; total time=   1.8s\n",
      "[CV] END stacking_clf__lr__C=0.1, stacking_clf__rf__max_depth=None, stacking_clf__rf__min_samples_leaf=3, stacking_clf__rf__min_samples_split=2, stacking_clf__xgb__max_depth=5, stacking_clf__xgb__reg_alpha=0.1, stacking_clf__xgb__reg_lambda=0.5; total time=   1.5s\n",
      "[CV] END stacking_clf__lr__C=0.1, stacking_clf__rf__max_depth=None, stacking_clf__rf__min_samples_leaf=3, stacking_clf__rf__min_samples_split=2, stacking_clf__xgb__max_depth=5, stacking_clf__xgb__reg_alpha=0.1, stacking_clf__xgb__reg_lambda=0.5; total time=   1.6s\n",
      "[CV] END stacking_clf__lr__C=0.01, stacking_clf__rf__max_depth=10, stacking_clf__rf__min_samples_leaf=3, stacking_clf__rf__min_samples_split=5, stacking_clf__xgb__max_depth=3, stacking_clf__xgb__reg_alpha=0.1, stacking_clf__xgb__reg_lambda=0.5; total time=   1.5s\n",
      "[CV] END stacking_clf__lr__C=0.1, stacking_clf__rf__max_depth=None, stacking_clf__rf__min_samples_leaf=3, stacking_clf__rf__min_samples_split=2, stacking_clf__xgb__max_depth=5, stacking_clf__xgb__reg_alpha=0.1, stacking_clf__xgb__reg_lambda=0.5; total time=   1.7s\n",
      "[CV] END stacking_clf__lr__C=1, stacking_clf__rf__max_depth=20, stacking_clf__rf__min_samples_leaf=3, stacking_clf__rf__min_samples_split=2, stacking_clf__xgb__max_depth=5, stacking_clf__xgb__reg_alpha=0.5, stacking_clf__xgb__reg_lambda=1.0; total time=   1.6s\n",
      "[CV] END stacking_clf__lr__C=1, stacking_clf__rf__max_depth=20, stacking_clf__rf__min_samples_leaf=3, stacking_clf__rf__min_samples_split=2, stacking_clf__xgb__max_depth=5, stacking_clf__xgb__reg_alpha=0.5, stacking_clf__xgb__reg_lambda=1.0; total time=   1.6s\n",
      "[CV] END stacking_clf__lr__C=1, stacking_clf__rf__max_depth=20, stacking_clf__rf__min_samples_leaf=3, stacking_clf__rf__min_samples_split=2, stacking_clf__xgb__max_depth=5, stacking_clf__xgb__reg_alpha=0.5, stacking_clf__xgb__reg_lambda=1.0; total time=   1.6s\n",
      "[CV] END stacking_clf__lr__C=0.01, stacking_clf__rf__max_depth=10, stacking_clf__rf__min_samples_leaf=3, stacking_clf__rf__min_samples_split=5, stacking_clf__xgb__max_depth=3, stacking_clf__xgb__reg_alpha=0.1, stacking_clf__xgb__reg_lambda=0.5; total time=   1.4s\n",
      "[CV] END stacking_clf__lr__C=0.01, stacking_clf__rf__max_depth=10, stacking_clf__rf__min_samples_leaf=3, stacking_clf__rf__min_samples_split=5, stacking_clf__xgb__max_depth=3, stacking_clf__xgb__reg_alpha=0.1, stacking_clf__xgb__reg_lambda=0.5; total time=   1.5s\n",
      "Best Parameters from Randomized Search:\n",
      "{'stacking_clf__xgb__reg_lambda': 1.0, 'stacking_clf__xgb__reg_alpha': 0.5, 'stacking_clf__xgb__max_depth': 5, 'stacking_clf__rf__min_samples_split': 2, 'stacking_clf__rf__min_samples_leaf': 3, 'stacking_clf__rf__max_depth': 20, 'stacking_clf__lr__C': 1}\n",
      "\n",
      "F1 Score on Test Set with Averaged Probabilities and Adjusted Threshold (0.45): 0.5428\n",
      "\n",
      "Classification Report with Averaged Probabilities and Adjusted Threshold:\n",
      "              precision    recall  f1-score   support\n",
      "\n",
      "           0       0.92      0.77      0.84       731\n",
      "           1       0.43      0.73      0.54       178\n",
      "\n",
      "    accuracy                           0.76       909\n",
      "   macro avg       0.68      0.75      0.69       909\n",
      "weighted avg       0.83      0.76      0.78       909\n",
      "\n",
      "Confusion Matrix with Averaged Probabilities and Adjusted Threshold:\n",
      "[[560 171]\n",
      " [ 48 130]]\n",
      "ROC AUC Score on Test Set with Averaged Probabilities: 0.8329\n"
     ]
    }
   ],
   "source": [
    "import warnings\n",
    "from sklearn.model_selection import RandomizedSearchCV\n",
    "from sklearn.ensemble import RandomForestClassifier, StackingClassifier\n",
    "from xgboost import XGBClassifier\n",
    "from sklearn.linear_model import LogisticRegression\n",
    "from sklearn.pipeline import Pipeline\n",
    "from sklearn.preprocessing import StandardScaler\n",
    "from sklearn.metrics import f1_score, classification_report, confusion_matrix, roc_auc_score\n",
    "\n",
    "# Suppress warnings for cleaner output\n",
    "warnings.filterwarnings(\"ignore\", category=UserWarning, module=\"xgboost\")\n",
    "\n",
    "# Step 1: Define Base Models (No Feature Selection)\n",
    "lr = LogisticRegression(random_state=42, max_iter=500, class_weight='balanced')  # Reduced max_iter\n",
    "rf = RandomForestClassifier(random_state=42, n_estimators=100, class_weight='balanced')  # Reduced n_estimators\n",
    "xgb = XGBClassifier(random_state=42, n_estimators=100, eval_metric='logloss')  # Reduced n_estimators\n",
    "\n",
    "# Step 2: Create the Stacking Model\n",
    "base_learners = [\n",
    "    ('rf', rf),\n",
    "    ('xgb', xgb),\n",
    "    ('lr', lr)\n",
    "]\n",
    "\n",
    "stacking_clf = StackingClassifier(\n",
    "    estimators=base_learners,\n",
    "    final_estimator=LogisticRegression(random_state=42, class_weight='balanced'),\n",
    "    cv=3,  # Reduced cross-validation folds\n",
    "    n_jobs=-1\n",
    ")\n",
    "\n",
    "# Step 3: Create a Pipeline\n",
    "pipeline_stacking = Pipeline(steps=[\n",
    "    ('scaler', StandardScaler()),\n",
    "    ('stacking_clf', stacking_clf)\n",
    "])\n",
    "\n",
    "# Step 4: Hyperparameter Tuning with RandomizedSearchCV\n",
    "param_grid = {\n",
    "    'stacking_clf__rf__max_depth': [None, 10, 20],\n",
    "    'stacking_clf__rf__min_samples_split': [2, 5],\n",
    "    'stacking_clf__rf__min_samples_leaf': [1, 3],\n",
    "    'stacking_clf__xgb__max_depth': [3, 5],\n",
    "    'stacking_clf__xgb__reg_alpha': [0.1, 0.5],  # L1 regularization\n",
    "    'stacking_clf__xgb__reg_lambda': [0.5, 1.0],  # L2 regularization\n",
    "    'stacking_clf__lr__C': [0.01, 0.1, 1],  # Regularization strength\n",
    "}\n",
    "\n",
    "# Initialize RandomizedSearchCV for hyperparameter tuning\n",
    "random_search_stacking = RandomizedSearchCV(\n",
    "    estimator=pipeline_stacking,\n",
    "    param_distributions=param_grid,\n",
    "    n_iter=15,  # Limit the number of iterations for faster results\n",
    "    cv=3,  # Reduced cross-validation folds\n",
    "    scoring='f1',\n",
    "    n_jobs=-1,\n",
    "    verbose=2,\n",
    "    random_state=42\n",
    ")\n",
    "\n",
    "# Fit the randomized search model on the original (not resampled) data\n",
    "random_search_stacking.fit(X_train, y_train)\n",
    "\n",
    "# Best Parameters\n",
    "print(\"Best Parameters from Randomized Search:\")\n",
    "print(random_search_stacking.best_params_)\n",
    "\n",
    "# Best Estimator\n",
    "best_pipeline_stacking = random_search_stacking.best_estimator_\n",
    "\n",
    "# Predict probabilities for each base model\n",
    "y_pred_proba_avg = best_pipeline_stacking.predict_proba(X_test)[:, 1]\n",
    "\n",
    "# Adjust Decision Threshold\n",
    "threshold = 0.45\n",
    "y_pred_adjusted = (y_pred_proba_avg >= threshold).astype(int)\n",
    "\n",
    "# Evaluate with Adjusted Threshold\n",
    "f1_stack_adjusted = f1_score(y_test, y_pred_adjusted)\n",
    "print(f\"\\nF1 Score on Test Set with Averaged Probabilities and Adjusted Threshold ({threshold}): {f1_stack_adjusted:.4f}\")\n",
    "print(\"\\nClassification Report with Averaged Probabilities and Adjusted Threshold:\")\n",
    "print(classification_report(y_test, y_pred_adjusted))\n",
    "print(\"Confusion Matrix with Averaged Probabilities and Adjusted Threshold:\")\n",
    "print(confusion_matrix(y_test, y_pred_adjusted))\n",
    "\n",
    "roc_auc_stack = roc_auc_score(y_test, y_pred_proba_avg)\n",
    "print(f\"ROC AUC Score on Test Set with Averaged Probabilities: {roc_auc_stack:.4f}\")\n"
   ]
  },
  {
   "cell_type": "code",
   "execution_count": 193,
   "id": "6c440ae1-953b-4d06-9f65-8796d1c44f69",
   "metadata": {},
   "outputs": [
    {
     "name": "stdout",
     "output_type": "stream",
     "text": [
      "SHAP Summary Plot for Random Forest:\n"
     ]
    },
    {
     "data": {
      "image/png": "[encoded data removed]",
      "text/plain": [
       "<Figure size 800x950 with 2 Axes>"
      ]
     },
     "metadata": {},
     "output_type": "display_data"
    }
   ],
   "source": [
    "import shap\n",
    "import matplotlib.pyplot as plt\n",
    "import numpy as np\n",
    "\n",
    "# Create the explainer for each base model separately\n",
    "\n",
    "# Step 1: Fit each base model individually on training data\n",
    "rf.fit(X_train, y_train)\n",
    "#xgb.fit(X_train, y_train)\n",
    "#lr.fit(X_train, y_train)\n",
    "\n",
    "# Step 2: Create SHAP explainers\n",
    "# Explainer for Random Forest\n",
    "explainer_rf = shap.TreeExplainer(rf)\n",
    "shap_values_rf = explainer_rf.shap_values(X_test)\n",
    "\n",
    "# Explainer for XGBoost\n",
    "#explainer_xgb = shap.TreeExplainer(xgb)\n",
    "#shap_values_xgb = explainer_xgb.shap_values(X_test)\n",
    "\n",
    "# Explainer for Logistic Regression\n",
    "# Note that we need to use KernelExplainer for Logistic Regression\n",
    "#explainer_lr = shap.KernelExplainer(lr.predict_proba, X_train)\n",
    "#shap_values_lr = explainer_lr.shap_values(X_test, nsamples=100)\n",
    "\n",
    "# Step 3: Plot SHAP summary plots for each model\n",
    "\n",
    "# Random Forest SHAP Summary Plot\n",
    "print(\"SHAP Summary Plot for Random Forest:\")\n",
    "shap.summary_plot(shap_values_rf[:,:,1], X_test, feature_names=X_test.columns)\n",
    "\n",
    "## XGBoost SHAP Summary Plot\n",
    "#print(\"SHAP Summary Plot for XGBoost:\")\n",
    "#shap.summary_plot(shap_values_xgb, X_test, feature_names=X_test.columns)\n",
    "\n",
    "# Logistic Regression SHAP Summary Plot\n",
    "#print(\"SHAP Summary Plot for Logistic Regression:\")\n",
    "#shap.summary_plot(shap_values_lr[1], X_test, feature_names=X_test.columns)\n",
    "\n",
    "# Step 4: Interpretation\n",
    "# To understand the impact of each feature in the different models, you can look at these summary plots\n"
   ]
  },
  {
   "cell_type": "code",
   "execution_count": 50,
   "id": "0263a267-d090-4f84-b7e0-a68bda523267",
   "metadata": {},
   "outputs": [
    {
     "name": "stdout",
     "output_type": "stream",
     "text": [
      "Top 15 features based on SHAP values: ['urineoutput', 'lods', 'age', 'elixhauser_hospital', 'resprate_mean', 'lactate_mean', 'sofa', 'bun_mean', 'aniongap_max', 'sysbp_mean', 'spo2_mean', 'shock_index', 'renal_dysfunction_flag', 'bicarbonate_min', 'age_creatinine_interaction']\n"
     ]
    }
   ],
   "source": [
    "# Assuming shap_values is a 3D array with shape (n_samples, n_features, n_classes)\n",
    "# Let's say we are interested in the SHAP values for class 1 (positive class)\n",
    "shap_values_class_1 = shap_values_rf[:, :, 1]  # Extract SHAP values for class 1\n",
    "\n",
    "# Step 1: Calculate the mean absolute SHAP value for each feature for the selected class\n",
    "shap_values_abs_mean = np.abs(shap_values_class_1).mean(axis=0)  # Resulting shape: (n_features,)\n",
    "\n",
    "# Step 2: Create a DataFrame for feature importance based on SHAP values\n",
    "shap_importance_df = pd.DataFrame({\n",
    "    'Feature': X_train.columns,  # Assuming X_train is a DataFrame with named columns\n",
    "    'Mean_Abs_SHAP_Value': shap_values_abs_mean\n",
    "})\n",
    "\n",
    "# Step 3: Sort features by importance\n",
    "shap_importance_df = shap_importance_df.sort_values(by='Mean_Abs_SHAP_Value', ascending=False)\n",
    "\n",
    "# Step 4: Get the top n features\n",
    "n = 15  # You can change this value to the number of top features you want\n",
    "top_features = shap_importance_df['Feature'].head(n).tolist()\n",
    "\n",
    "# Print the top n features\n",
    "print(f\"Top {n} features based on SHAP values: {top_features}\")"
   ]
  },
  {
   "cell_type": "code",
   "execution_count": null,
   "id": "fd0d6009-e7b1-4a48-bc2f-da4ee8aede71",
   "metadata": {},
   "outputs": [],
   "source": []
  },
  {
   "cell_type": "code",
   "execution_count": 51,
   "id": "d3c13daf-6786-4775-a421-105e4c44a1e8",
   "metadata": {},
   "outputs": [],
   "source": [
    "#!pip install numpy==1.24"
   ]
  },
  {
   "cell_type": "code",
   "execution_count": null,
   "id": "aba7cb9b-d425-4924-8826-fd86adcae86e",
   "metadata": {},
   "outputs": [],
   "source": []
  }
 ],
 "metadata": {
  "kernelspec": {
   "display_name": "Python 3 (ipykernel)",
   "language": "python",
   "name": "python3"
  },
  "language_info": {
   "codemirror_mode": {
    "name": "ipython",
    "version": 3
   },
   "file_extension": ".py",
   "mimetype": "text/x-python",
   "name": "python",
   "nbconvert_exporter": "python",
   "pygments_lexer": "ipython3",
   "version": "3.11.5"
  }
 },
 "nbformat": 4,
 "nbformat_minor": 5
}
