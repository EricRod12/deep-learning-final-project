{
 "cells": [
  {
   "cell_type": "code",
   "execution_count": 1,
   "id": "d045187c-69b2-4963-9663-ceabd965776c",
   "metadata": {
    "scrolled": true
   },
   "outputs": [
    {
     "name": "stderr",
     "output_type": "stream",
     "text": [
      "2024-11-20 12:46:07.494935: E external/local_xla/xla/stream_executor/cuda/cuda_fft.cc:477] Unable to register cuFFT factory: Attempting to register factory for plugin cuFFT when one has already been registered\n",
      "WARNING: All log messages before absl::InitializeLog() is called are written to STDERR\n",
      "E0000 00:00:1732124767.898753  834909 cuda_dnn.cc:8310] Unable to register cuDNN factory: Attempting to register factory for plugin cuDNN when one has already been registered\n",
      "E0000 00:00:1732124768.047032  834909 cuda_blas.cc:1418] Unable to register cuBLAS factory: Attempting to register factory for plugin cuBLAS when one has already been registered\n",
      "2024-11-20 12:46:08.931678: I tensorflow/core/platform/cpu_feature_guard.cc:210] This TensorFlow binary is optimized to use available CPU instructions in performance-critical operations.\n",
      "To enable the following instructions: AVX2 FMA, in other operations, rebuild TensorFlow with the appropriate compiler flags.\n"
     ]
    }
   ],
   "source": [
    "#import numpy as np\n",
    "import numpy as np\n",
    "import pandas as pd\n",
    "import tensorflow as tf\n",
    "from sklearn.metrics import confusion_matrix, precision_score, recall_score, classification_report\n",
    "import seaborn as sns\n",
    "import matplotlib.pyplot as plt\n",
    "from tqdm import tqdm\n",
    "from tensorflow.keras.applications import VGG16\n",
    "from tensorflow.keras import layers, models, optimizers\n",
    "from tensorflow.keras.optimizers import Adam\n",
    "from tensorflow.keras.callbacks import ModelCheckpoint, EarlyStopping, ReduceLROnPlateau\n",
    "from collections import Counter\n",
    "import os\n",
    "import zipfile\n",
    "import shutil\n",
    "import gc\n",
    "from tensorflow.keras.preprocessing.image import ImageDataGenerator\n",
    "import logging\n",
    "import random\n"
   ]
  },
  {
   "cell_type": "code",
   "execution_count": null,
   "id": "6c446ed6-75d0-422e-91c0-c815a106706e",
   "metadata": {},
   "outputs": [],
   "source": [
    "def process_images_with_tf(image_paths, labels, images_mmap_path, labels_mmap_path, batch_size=500):\n",
    "    total_images = len(image_paths)\n",
    "    print(f\"\\nProcessing {total_images} images for memory-mapped storage...\")\n",
    "\n",
    "    # Define image shape and dtype for memory-mapped storage\n",
    "    image_shape = (256, 256, 3)\n",
    "    dtype = 'float32'\n",
    "\n",
    "    # Create memory-mapped arrays for images and labels\n",
    "    images_mmap = np.memmap(images_mmap_path, dtype=dtype, mode='w+', shape=(total_images, *image_shape))\n",
    "    labels_mmap = np.memmap(labels_mmap_path, dtype='int32', mode='w+', shape=(total_images,))\n",
    "\n",
    "    dataset = tf.data.Dataset.from_tensor_slices((image_paths, labels))\n",
    "\n",
    "    def _load_and_preprocess_image(file_path, label):\n",
    "        try:\n",
    "            img = tf.io.read_file(file_path)\n",
    "            img = tf.io.decode_image(img, channels=3, expand_animations=False)\n",
    "            img.set_shape([None, None, 3])\n",
    "            img = tf.image.resize(img, [256, 256])\n",
    "            img = tf.cast(img, tf.float32) / 255.0\n",
    "            return img, label\n",
    "        except Exception as e:\n",
    "            tf.print(f\"Error processing image {file_path}: {e}\")\n",
    "            img = tf.zeros([256, 256, 3], dtype=tf.float32)\n",
    "            return img, label\n",
    "\n",
    "    dataset = dataset.map(_load_and_preprocess_image, num_parallel_calls=tf.data.AUTOTUNE)\n",
    "    dataset = dataset.batch(batch_size)\n",
    "    dataset = dataset.prefetch(tf.data.AUTOTUNE)\n",
    "\n",
    "    idx = 0\n",
    "    for batch_imgs, batch_labels in tqdm(dataset, total=(total_images // batch_size) + 1, desc=\"Processing Images\"):\n",
    "        batch_imgs_np = batch_imgs.numpy()\n",
    "        batch_labels_np = batch_labels.numpy()\n",
    "        batch_size_actual = batch_imgs_np.shape[0]\n",
    "        images_mmap[idx:idx+batch_size_actual] = batch_imgs_np\n",
    "        labels_mmap[idx:idx+batch_size_actual] = batch_labels_np\n",
    "        idx += batch_size_actual\n",
    "\n",
    "        # Flush changes to memory-mapped file to disk and clear memory\n",
    "        images_mmap.flush()\n",
    "        labels_mmap.flush()\n",
    "        gc.collect()\n",
    "\n",
    "    del images_mmap\n",
    "    del labels_mmap\n",
    "    print(f\"Finished processing {total_images} images into {images_mmap_path} and {labels_mmap_path}.\")\n"
   ]
  },
  {
   "cell_type": "code",
   "execution_count": null,
   "id": "53b679ee-ebeb-4bef-9cd4-1e4d1c9fffac",
   "metadata": {
    "scrolled": true
   },
   "outputs": [],
   "source": [
    "\n",
    "# --------------------- Configuration ---------------------\n",
    "\n",
    "# Configure logging to capture errors during processing\n",
    "logging.basicConfig(\n",
    "    filename='data_processing.log',\n",
    "    level=logging.ERROR,\n",
    "    format='%(asctime)s:%(levelname)s:%(message)s'\n",
    ")\n",
    "\n",
    "# Define paths for memory-mapped arrays\n",
    "IMAGES_D_MEMMAP_PATH = 'images_d_mmap.npy'\n",
    "LABELS_D_MEMMAP_PATH = 'labels_d.npy'\n",
    "IMAGES_P_MEMMAP_PATH = 'images_p_mmap.npy'\n",
    "LABELS_P_MEMMAP_PATH = 'labels_p.npy'\n",
    "\n",
    "# Temporary extraction directory\n",
    "TEMP_DIR = \"temp_extracted\"\n",
    "\n",
    "# Sampling fraction (50%)\n",
    "SAMPLE_FRACTION = .5\n",
    "\n",
    "# Seed for reproducibility\n",
    "RANDOM_SEED = 42\n",
    "\n",
    "# --------------------- Setup ---------------------\n",
    "\n",
    "# Ensure temporary directory exists\n",
    "os.makedirs(TEMP_DIR, exist_ok=True)\n",
    "\n",
    "# Set random seed for reproducibility\n",
    "random.seed(RANDOM_SEED)\n",
    "np.random.seed(RANDOM_SEED)\n",
    "tf.random.set_seed(RANDOM_SEED)\n",
    "\n",
    "# Enable GPU processing for TensorFlow, if available\n",
    "gpus = tf.config.list_physical_devices('GPU')\n",
    "if gpus:\n",
    "    try:\n",
    "        for gpu in gpus:\n",
    "            tf.config.experimental.set_memory_growth(gpu, True)\n",
    "        print(f\"{len(gpus)} GPU(s) detected and memory growth enabled.\")\n",
    "    except RuntimeError as e:\n",
    "        print(e)\n",
    "\n",
    "# --------------------- Helper Functions ---------------------\n",
    "\n",
    "def is_image_file(filename):\n",
    "    \"\"\"\n",
    "    Check if a file is an image based on its extension.\n",
    "    \n",
    "    Parameters:\n",
    "    - filename (str): Name of the file.\n",
    "    \n",
    "    Returns:\n",
    "    - bool: True if the file is an image, False otherwise.\n",
    "    \"\"\"\n",
    "    return filename.lower().endswith(('.jpg', '.jpeg', '.png'))\n",
    "\n",
    "def extract_images_and_labels(zip_path, image_filenames, temp_dir, label):\n",
    "    \"\"\"\n",
    "    Extract images from a zip file to a temporary directory and assign labels.\n",
    "    \n",
    "    Parameters:\n",
    "    - zip_path (str): Path to the zip file.\n",
    "    - image_filenames (list): List of image file paths within the zip.\n",
    "    - temp_dir (str): Directory to extract images to.\n",
    "    - label (int): Label to assign to all extracted images.\n",
    "    \n",
    "    Returns:\n",
    "    - extracted_paths (list): List of paths to the extracted images.\n",
    "    - labels (list): List of labels corresponding to the extracted images.\n",
    "    \"\"\"\n",
    "    extracted_paths = []\n",
    "    labels = []\n",
    "    with zipfile.ZipFile(zip_path, 'r') as zip_ref:\n",
    "        for img_path in tqdm(image_filenames, desc=f\"Extracting to {temp_dir}\"):\n",
    "            try:\n",
    "                zip_ref.extract(img_path, temp_dir)\n",
    "                extracted_file_path = os.path.join(temp_dir, img_path)\n",
    "                extracted_paths.append(extracted_file_path)\n",
    "                labels.append(label)  # Assign the passed label\n",
    "            except Exception as e:\n",
    "                logging.error(f\"Error extracting {img_path}: {e}\")\n",
    "                continue\n",
    "    return extracted_paths, labels\n",
    "\n",
    "# --------------------- Main Processing Function ---------------------\n",
    "\n",
    "def main():\n",
    "    \"\"\"\n",
    "    Main function to process images from 'D' and 'P' folders within 'SDNET2018.zip'.\n",
    "    It samples 20% of images from each subfolder, assigns labels, processes images,\n",
    "    and saves them into separate memory-mapped files.\n",
    "    \"\"\"\n",
    "    zip_path = 'SDNET2018.zip'  # Path to your zip file\n",
    "    batch_size = 500  # Adjust based on available memory\n",
    "\n",
    "    # Define mapping from subfolders to labels\n",
    "    subfolder_label_mapping = {\n",
    "        'SDNET2018/D/UD': 0,  # Uncracked\n",
    "        'SDNET2018/D/CD': 1,  # Cracked\n",
    "        'SDNET2018/P/UP': 0,  # Uncracked\n",
    "        'SDNET2018/P/CP': 1   # Cracked\n",
    "    }\n",
    "\n",
    "    # Extract all filenames from the zip file\n",
    "    print(f\"Opening zip file: {zip_path}\")\n",
    "    with zipfile.ZipFile(zip_path, 'r') as zip_ref:\n",
    "        all_filenames = zip_ref.namelist()\n",
    "\n",
    "    # Function to filter image filenames from a specific subfolder\n",
    "    def get_image_filenames(subfolder):\n",
    "        prefix = subfolder + '/'\n",
    "        return [f for f in all_filenames if f.startswith(prefix) and is_image_file(f)]\n",
    "\n",
    "    # Initialize dictionaries to hold image paths and labels for D and P\n",
    "    data = {\n",
    "        'D': {'image_paths': [], 'labels': []},\n",
    "        'P': {'image_paths': [], 'labels': []}\n",
    "    }\n",
    "\n",
    "    # Iterate over each subfolder and process images\n",
    "    for subfolder, label in subfolder_label_mapping.items():\n",
    "        image_filenames = get_image_filenames(subfolder)\n",
    "        total_images = len(image_filenames)\n",
    "        sample_size = max(1, int(total_images * SAMPLE_FRACTION))  # Ensure at least 1 image is sampled\n",
    "\n",
    "        # Randomly sample 20% of the images\n",
    "        sampled_filenames = random.sample(image_filenames, sample_size)\n",
    "\n",
    "        print(f\"\\nFound {total_images} images in subfolder '{subfolder}'. Sampling {sample_size} images for label {label}.\")\n",
    "\n",
    "        # Extract images and assign labels\n",
    "        image_paths, labels = extract_images_and_labels(zip_path, sampled_filenames, TEMP_DIR, label)\n",
    "\n",
    "        # Determine main folder (D or P) based on subfolder\n",
    "        main_folder = subfolder.split('/')[1]\n",
    "\n",
    "        # Append to the respective main folder's data\n",
    "        data[main_folder]['image_paths'].extend(image_paths)\n",
    "        data[main_folder]['labels'].extend(labels)\n",
    "\n",
    "    # Process and save D folder data\n",
    "    if data['D']['image_paths']:\n",
    "        process_images_with_tf(\n",
    "            data['D']['image_paths'],\n",
    "            labels=data['D']['labels'],\n",
    "            images_mmap_path=IMAGES_D_MEMMAP_PATH,\n",
    "            labels_mmap_path=LABELS_D_MEMMAP_PATH,\n",
    "            batch_size=batch_size\n",
    "        )\n",
    "\n",
    "        # Save the filenames and labels for D\n",
    "        np.save('filenames_d.npy', data['D']['image_paths'])\n",
    "        np.save('labels_d.npy', data['D']['labels'])\n",
    "    else:\n",
    "        print(\"\\nNo images found for 'D' folder after sampling.\")\n",
    "\n",
    "    # Process and save P folder data\n",
    "    if data['P']['image_paths']:\n",
    "        process_images_with_tf(\n",
    "            data['P']['image_paths'],\n",
    "            labels=data['P']['labels'],\n",
    "            images_mmap_path=IMAGES_P_MEMMAP_PATH,\n",
    "            labels_mmap_path=LABELS_P_MEMMAP_PATH,\n",
    "            batch_size=batch_size\n",
    "        )\n",
    "\n",
    "        # Save the filenames and labels for P\n",
    "        np.save('filenames_p.npy', data['P']['image_paths'])\n",
    "        np.save('labels_p.npy', data['P']['labels'])\n",
    "    else:\n",
    "        print(\"\\nNo images found for 'P' folder after sampling.\")\n",
    "\n",
    "    # Clear temporary directory\n",
    "    shutil.rmtree(TEMP_DIR)\n",
    "    os.makedirs(TEMP_DIR, exist_ok=True)\n",
    "\n",
    "    # Free up memory\n",
    "    del data\n",
    "    gc.collect()\n",
    "\n",
    "    print(\"\\nFilenames and labels saved for 'D' and 'P' folders.\")\n",
    "\n",
    "# --------------------- Execute Script ---------------------\n",
    "\n",
    "if __name__ == \"__main__\":\n",
    "    main()\n"
   ]
  },
  {
   "cell_type": "code",
   "execution_count": 19,
   "id": "262ad4ca-e1af-4792-9a22-7a08ecfc3da5",
   "metadata": {
    "scrolled": true
   },
   "outputs": [
    {
     "name": "stdout",
     "output_type": "stream",
     "text": [
      "Data loaded successfully.\n",
      "Train Set D: 5141 samples.\n",
      "Test Set D: 1286 samples.\n",
      "Train Set P: 9733 samples.\n",
      "Test Set P: 2434 samples.\n",
      "Train Set A (Large and Diverse): 14874 samples.\n",
      "Train Set B (Small and Diverse): 1487 samples.\n",
      "Train Set C (D only): 5141 samples.\n",
      "Test Set D (D only): 1286 samples.\n",
      "Test Set P (P only): 2434 samples.\n",
      "\n",
      "All datasets have been saved successfully.\n"
     ]
    }
   ],
   "source": [
    "from sklearn.model_selection import train_test_split\n",
    "# Paths for memory-mapped files after processing images\n",
    "IMAGES_D_MEMMAP_PATH = 'images_d_mmap.npy'\n",
    "LABELS_D_MEMMAP_PATH = 'labels_d.npy'\n",
    "IMAGES_P_MEMMAP_PATH = 'images_p_mmap.npy'\n",
    "LABELS_P_MEMMAP_PATH = 'labels_p.npy'\n",
    "\n",
    "# Ensure that necessary files exist\n",
    "if not (os.path.exists(IMAGES_D_MEMMAP_PATH) and os.path.exists(LABELS_D_MEMMAP_PATH) and os.path.exists(IMAGES_P_MEMMAP_PATH) and os.path.exists(LABELS_P_MEMMAP_PATH)):\n",
    "    print(\"Required processed files not found. Make sure to run the image extraction and processing first.\")\n",
    "    exit()\n",
    "\n",
    "# Load labels for datasets D and P\n",
    "labels_d = np.load(LABELS_D_MEMMAP_PATH)\n",
    "labels_p = np.load(LABELS_P_MEMMAP_PATH)\n",
    "\n",
    "# Define the number of images in each set\n",
    "total_images_d = len(labels_d)\n",
    "total_images_p = len(labels_p)\n",
    "\n",
    "# Load images from memory-mapped files\n",
    "images_d = np.memmap(\n",
    "    IMAGES_D_MEMMAP_PATH,\n",
    "    dtype='float32',\n",
    "    mode='r',\n",
    "    shape=(total_images_d, 256, 256, 3)\n",
    ")\n",
    "\n",
    "images_p = np.memmap(\n",
    "    IMAGES_P_MEMMAP_PATH,\n",
    "    dtype='float32',\n",
    "    mode='r',\n",
    "    shape=(total_images_p, 256, 256, 3)\n",
    ")\n",
    "\n",
    "# Verify that the number of labels matches the number of images\n",
    "assert len(labels_d) == total_images_d, \"Mismatch in number of D labels and images.\"\n",
    "assert len(labels_p) == total_images_p, \"Mismatch in number of P labels and images.\"\n",
    "\n",
    "print(\"Data loaded successfully.\")\n",
    "\n",
    "# Split the D data into training and test sets (80% training, 20% testing)\n",
    "train_indices_d, test_indices_d = train_test_split(\n",
    "    np.arange(total_images_d),\n",
    "    test_size=0.20,\n",
    "    random_state=42,\n",
    "    stratify=labels_d\n",
    ")\n",
    "\n",
    "# Extract training and testing images and labels for D\n",
    "train_images_d = images_d[train_indices_d]\n",
    "train_labels_d = labels_d[train_indices_d]\n",
    "test_images_d = images_d[test_indices_d]\n",
    "test_labels_d = labels_d[test_indices_d]\n",
    "\n",
    "print(f\"Train Set D: {len(train_images_d)} samples.\")\n",
    "print(f\"Test Set D: {len(test_images_d)} samples.\")\n",
    "\n",
    "# Split the P data into training and test sets (80% training, 20% testing)\n",
    "train_indices_p, test_indices_p = train_test_split(\n",
    "    np.arange(total_images_p),\n",
    "    test_size=0.20,\n",
    "    random_state=42,\n",
    "    stratify=labels_p\n",
    ")\n",
    "\n",
    "# Extract training and testing images and labels for P\n",
    "train_images_p = images_p[train_indices_p]\n",
    "train_labels_p = labels_p[train_indices_p]\n",
    "test_images_p = images_p[test_indices_p]\n",
    "test_labels_p = labels_p[test_indices_p]\n",
    "\n",
    "print(f\"Train Set P: {len(train_images_p)} samples.\")\n",
    "print(f\"Test Set P: {len(test_images_p)} samples.\")\n",
    "\n",
    "# Combine D and P training data for Train Set A (large and diverse)\n",
    "train_images_A = np.concatenate((train_images_d, train_images_p), axis=0)\n",
    "train_labels_A = np.concatenate((train_labels_d, train_labels_p), axis=0)\n",
    "\n",
    "print(f\"Train Set A (Large and Diverse): {len(train_images_A)} samples.\")\n",
    "\n",
    "# Create a small, diverse training set by taking 10% of Train Set A (Train Set B)\n",
    "fraction_B = 0.10  # 10%\n",
    "num_samples_B = int(len(train_images_A) * fraction_B)\n",
    "\n",
    "# Randomly sample Train Set B from Train Set A\n",
    "indices_B = np.random.choice(len(train_images_A), size=num_samples_B, replace=False)\n",
    "train_images_B = train_images_A[indices_B]\n",
    "train_labels_B = train_labels_A[indices_B]\n",
    "\n",
    "print(f\"Train Set B (Small and Diverse): {len(train_images_B)} samples.\")\n",
    "\n",
    "# Define Train Set C as all D training data\n",
    "train_images_C = train_images_d\n",
    "train_labels_C = train_labels_d\n",
    "\n",
    "print(f\"Train Set C (D only): {len(train_images_C)} samples.\")\n",
    "\n",
    "# Define Test Set D (only D testing data)\n",
    "test_images_D = test_images_d\n",
    "test_labels_D = test_labels_d\n",
    "\n",
    "print(f\"Test Set D (D only): {len(test_images_D)} samples.\")\n",
    "\n",
    "# Define Test Set P (only P testing data)\n",
    "test_images_P = test_images_p\n",
    "test_labels_P = test_labels_p\n",
    "\n",
    "print(f\"Test Set P (P only): {len(test_images_P)} samples.\")\n",
    "\n",
    "# Function to save datasets\n",
    "def save_dataset(images, labels, images_path, labels_path):\n",
    "    np.save(images_path, images)\n",
    "    np.save(labels_path, labels)\n",
    "\n",
    "# Save Train Set A\n",
    "save_dataset(train_images_A, train_labels_A, 'train_set_A_images.npy', 'train_set_A_labels.npy')\n",
    "\n",
    "# Save Train Set B\n",
    "save_dataset(train_images_B, train_labels_B, 'train_set_B_images.npy', 'train_set_B_labels.npy')\n",
    "\n",
    "# Save Train Set C\n",
    "save_dataset(train_images_C, train_labels_C, 'train_set_C_images.npy', 'train_set_C_labels.npy')\n",
    "\n",
    "# Save Test Set D\n",
    "save_dataset(test_images_D, test_labels_D, 'test_set_D_images.npy', 'test_set_D_labels.npy')\n",
    "\n",
    "# Save Test Set P\n",
    "save_dataset(test_images_P, test_labels_P, 'test_set_P_images.npy', 'test_set_P_labels.npy')\n",
    "\n",
    "print(\"\\nAll datasets have been saved successfully.\")"
   ]
  },
  {
   "cell_type": "code",
   "execution_count": 2,
   "id": "35b4742d-5d78-44fe-8004-059874d35f5a",
   "metadata": {},
   "outputs": [],
   "source": [
    "\n",
    "\n",
    "# Load the datasets\n",
    "train_images_A = np.load('train_set_A_images.npy')\n",
    "train_labels_A = np.load('train_set_A_labels.npy')\n",
    "\n",
    "train_images_B = np.load('train_set_B_images.npy')\n",
    "train_labels_B = np.load('train_set_B_labels.npy')\n",
    "\n",
    "train_images_C = np.load('train_set_C_images.npy')\n",
    "train_labels_C = np.load('train_set_C_labels.npy')\n",
    "\n",
    "test_images_D = np.load('test_set_D_images.npy')\n",
    "test_labels_D = np.load('test_set_D_labels.npy')\n",
    "\n",
    "test_images_P = np.load('test_set_P_images.npy')\n",
    "test_labels_P = np.load('test_set_P_labels.npy')\n"
   ]
  },
  {
   "cell_type": "code",
   "execution_count": 3,
   "id": "d9e0fe0e-52e4-4b12-b91b-22c1d906ed7a",
   "metadata": {},
   "outputs": [
    {
     "name": "stdout",
     "output_type": "stream",
     "text": [
      "Class distribution for Train Set A (Large and Diverse): {0: 13327, 1: 1547}\n",
      "Class distribution for Train Set B (Small and Diverse): {0: 1338, 1: 149}\n",
      "Class distribution for Train Set C (D only): {0: 4637, 1: 504}\n",
      "Class distribution for Test Set D (D only): {0: 1160, 1: 126}\n",
      "Class distribution for Test Set P (P only): {0: 2173, 1: 261}\n"
     ]
    }
   ],
   "source": [
    "\n",
    "# Define function to print class distributions\n",
    "def print_class_distribution(labels, set_name):\n",
    "    class_counts = Counter(labels)\n",
    "    print(f\"Class distribution for {set_name}: {dict(class_counts)}\")\n",
    "\n",
    "# Print class distributions for each training and test set\n",
    "print_class_distribution(train_labels_A, \"Train Set A (Large and Diverse)\")\n",
    "print_class_distribution(train_labels_B, \"Train Set B (Small and Diverse)\")\n",
    "print_class_distribution(train_labels_C, \"Train Set C (D only)\")\n",
    "\n",
    "print_class_distribution(test_labels_D, \"Test Set D (D only)\")\n",
    "print_class_distribution(test_labels_P, \"Test Set P (P only)\")\n"
   ]
  },
  {
   "cell_type": "code",
   "execution_count": 3,
   "id": "feaab6ba-ab63-4ce6-ae9a-50346148e5a5",
   "metadata": {},
   "outputs": [],
   "source": [
    "from sklearn.utils.class_weight import compute_class_weight\n"
   ]
  },
  {
   "cell_type": "code",
   "execution_count": 4,
   "id": "cc234217-914b-4679-97a0-05a2ae764ac6",
   "metadata": {},
   "outputs": [],
   "source": [
    "def get_class_weights(labels):\n",
    "    class_count = Counter(labels)\n",
    "    total = sum(class_count.values())\n",
    "    class_weights = {label: total / (len(class_count) * count) for label, count in class_count.items()}\n",
    "    return class_weights\n"
   ]
  },
  {
   "cell_type": "code",
   "execution_count": 5,
   "id": "30a65bbc-9d95-4dd7-a322-08d9c3f4ad4b",
   "metadata": {},
   "outputs": [
    {
     "name": "stderr",
     "output_type": "stream",
     "text": [
      "I0000 00:00:1732124808.920801  834909 gpu_device.cc:2022] Created device /job:localhost/replica:0/task:0/device:GPU:0 with 46853 MB memory:  -> device: 0, name: NVIDIA RTX A6000, pci bus id: 0000:81:00.0, compute capability: 8.6\n",
      "I0000 00:00:1732124808.921744  834909 gpu_device.cc:2022] Created device /job:localhost/replica:0/task:0/device:GPU:1 with 46853 MB memory:  -> device: 1, name: NVIDIA RTX A6000, pci bus id: 0000:c1:00.0, compute capability: 8.6\n",
      "I0000 00:00:1732124808.922435  834909 gpu_device.cc:2022] Created device /job:localhost/replica:0/task:0/device:GPU:2 with 46853 MB memory:  -> device: 2, name: NVIDIA RTX A6000, pci bus id: 0000:e1:00.0, compute capability: 8.6\n"
     ]
    }
   ],
   "source": [
    "# Data Augmentation Pipeline using Keras Layers\n",
    "data_augmentation = tf.keras.Sequential([\n",
    "    tf.keras.layers.RandomFlip(\"horizontal_and_vertical\"),\n",
    "    tf.keras.layers.RandomRotation(0.1),\n",
    "    tf.keras.layers.RandomZoom(0.1)\n",
    "])\n",
    "\n",
    "# Updated Data Generator Function\n",
    "def create_data_generator(images, labels, batch_size=16, shuffle=True, augment=True):\n",
    "    images = images.astype('float32')\n",
    "    labels = labels.astype('int64')\n",
    "\n",
    "    def generator():\n",
    "        indices = np.arange(len(images))\n",
    "        if shuffle:\n",
    "            np.random.shuffle(indices)\n",
    "        for start in range(0, len(images), batch_size):\n",
    "            end = min(start + batch_size, len(images))\n",
    "            batch_indices = indices[start:end]\n",
    "            batch_images = images[batch_indices]\n",
    "            batch_labels = labels[batch_indices]\n",
    "            \n",
    "            if augment:\n",
    "                batch_images = data_augmentation(batch_images)\n",
    "            \n",
    "            yield tf.convert_to_tensor(batch_images, dtype=tf.float32), tf.convert_to_tensor(batch_labels, dtype=tf.int64)\n",
    "\n",
    "    output_signature = (\n",
    "        tf.TensorSpec(shape=(None, 256, 256, 3), dtype=tf.float32),\n",
    "        tf.TensorSpec(shape=(None,), dtype=tf.int64)\n",
    "    )\n",
    "\n",
    "    return tf.data.Dataset.from_generator(generator, output_signature=output_signature)\n",
    "\n",
    "# Create Generators for Training and Testing\n",
    "train_gen_A = create_data_generator(train_images_A, train_labels_A, batch_size=16, shuffle=True, augment=True)\n",
    "train_gen_B = create_data_generator(train_images_B, train_labels_B, batch_size=16, shuffle=True, augment=True)\n",
    "train_gen_C = create_data_generator(train_images_C, train_labels_C, batch_size=16, shuffle=True, augment=True)\n",
    "# For the test generator, set shuffle=False and augment=False\n",
    "test_gen_D = create_data_generator(test_images_D, test_labels_D, batch_size=16, shuffle=False, augment=False)\n",
    "test_gen_P= create_data_generator(test_images_P, test_labels_P, batch_size=16, shuffle=False, augment=False)\n",
    "# Calculate the number of steps for the test generator\n",
    "num_test_samples = len(test_images_D)\n",
    "test_steps = np.ceil(num_test_samples / 16).astype(int)"
   ]
  },
  {
   "cell_type": "code",
   "execution_count": null,
   "id": "a6431bdd-ec27-4611-9944-711f9a22aa1f",
   "metadata": {},
   "outputs": [],
   "source": []
  },
  {
   "cell_type": "code",
   "execution_count": null,
   "id": "24d79c33-7db3-4d47-abac-4253040b883e",
   "metadata": {},
   "outputs": [],
   "source": []
  },
  {
   "cell_type": "code",
   "execution_count": 6,
   "id": "0c169de0-5257-47bb-97c3-7fdd4a8bacf0",
   "metadata": {},
   "outputs": [
    {
     "name": "stdout",
     "output_type": "stream",
     "text": [
      "Adjusted class weights: {0: 0.5580400690327906, 1: 2.403684550743374}\n"
     ]
    }
   ],
   "source": [
    "\n",
    "\n",
    "class_weights = get_class_weights(train_labels_A)\n",
    "class_weights\n",
    "adjustment_factor = 0.5  # Adjust this factor between 0 and 1\n",
    "class_weights[1] = class_weights[1] * adjustment_factor\n",
    "print(\"Adjusted class weights:\", class_weights)"
   ]
  },
  {
   "cell_type": "code",
   "execution_count": 7,
   "id": "65fd4f49-46ca-4ac4-a6b2-b2d25f04d98e",
   "metadata": {},
   "outputs": [],
   "source": [
    "# For training sets\n",
    "num_train_samples_A = len(train_labels_A)\n",
    "num_train_samples_B = len(train_labels_B)\n",
    "num_train_samples_C = len(train_labels_C)\n",
    "\n",
    "# For test sets\n",
    "num_test_samples_D = len(test_labels_D)\n",
    "num_test_samples_P = len(test_labels_P)\n",
    "\n",
    "\n",
    "batch_size=16\n",
    "\n",
    "steps_per_epoch_A = np.ceil(num_train_samples_A / batch_size).astype(int)\n",
    "steps_per_epoch_B = np.ceil(num_train_samples_B / batch_size).astype(int)\n",
    "steps_per_epoch_C = np.ceil(num_train_samples_C / batch_size).astype(int)\n",
    "\n",
    "validation_steps_D = np.ceil(num_test_samples_D / batch_size).astype(int)\n",
    "validation_steps_P = np.ceil(num_test_samples_P / batch_size).astype(int)\n"
   ]
  },
  {
   "cell_type": "code",
   "execution_count": 8,
   "id": "f7b702c3-10e8-4bd0-9e47-cd966f1f5957",
   "metadata": {},
   "outputs": [],
   "source": [
    "from tensorflow.keras import backend as K\n",
    "\n",
    "def focal_loss(alpha=1, gamma=0):\n",
    "    def focal_loss_fixed(y_true, y_pred):\n",
    "        # Clip predictions to prevent log(0)\n",
    "        epsilon = K.epsilon()\n",
    "        y_pred = K.clip(y_pred, epsilon, 1. - epsilon)\n",
    "\n",
    "        # Compute cross-entropy loss\n",
    "        ce_loss = - (y_true * K.log(y_pred) + (1 - y_true) * K.log(1 - y_pred))\n",
    "\n",
    "        # Compute the focal loss scaling factor\n",
    "        p_t = tf.where(tf.equal(y_true, 1), y_pred, 1 - y_pred)\n",
    "        focal_factor = K.pow(1 - p_t, gamma)\n",
    "\n",
    "        # Compute the focal loss\n",
    "        focal_loss = alpha * focal_factor * ce_loss\n",
    "\n",
    "        # Return the mean loss over the batch\n",
    "        return K.mean(focal_loss)\n",
    "    focal_loss_fixed.__name__ = 'focal_loss_fixed'  # Important to set the name\n",
    "    return focal_loss_fixed"
   ]
  },
  {
   "cell_type": "code",
   "execution_count": 12,
   "id": "f7bcac47-627e-4ea6-9345-0974b706a71c",
   "metadata": {},
   "outputs": [],
   "source": [
    "from tensorflow.keras.applications import ResNet50\n"
   ]
  },
  {
   "cell_type": "code",
   "execution_count": 16,
   "id": "91040321-98e5-43bf-a90a-4fadd271bef7",
   "metadata": {},
   "outputs": [],
   "source": [
    "def train_and_evaluate(\n",
    "    train_gen,\n",
    "    test_gen,\n",
    "    train_labels,\n",
    "    test_labels,\n",
    "    set_name,\n",
    "    batch_size=16,\n",
    "    alpha=1,\n",
    "    gamma=0\n",
    "):\n",
    "    # Load VGG16 pre-trained model\n",
    "    base_model = VGG16(weights='imagenet', include_top=False, input_shape=(256, 256, 3))\n",
    "    base_model.trainable = False\n",
    "\n",
    "    # Build transfer learning model\n",
    "    model_transfer = models.Sequential([\n",
    "        base_model,\n",
    "        layers.Flatten(),\n",
    "        layers.Dense(128, activation='relu'),\n",
    "        layers.Dropout(0.5),\n",
    "        layers.Dense(1, activation='sigmoid')\n",
    "    ])\n",
    "\n",
    "    # Compile the Model with Custom Focal Loss\n",
    "    model_transfer.compile(\n",
    "        optimizer=optimizers.Adam(learning_rate=0.0005),\n",
    "        loss=focal_loss(alpha=alpha, gamma=gamma),\n",
    "        metrics=['accuracy']\n",
    "    )\n",
    "\n",
    "    # Define Callbacks\n",
    "    callbacks_transfer = [\n",
    "        tf.keras.callbacks.ModelCheckpoint(\n",
    "            f'best_model_transfer_{set_name}.keras',\n",
    "            monitor='val_accuracy',\n",
    "            save_best_only=True,\n",
    "            verbose=1\n",
    "        ),\n",
    "        tf.keras.callbacks.EarlyStopping(\n",
    "            monitor='val_accuracy',\n",
    "            patience=3,\n",
    "            verbose=1,\n",
    "            restore_best_weights=True\n",
    "        ),\n",
    "        tf.keras.callbacks.ReduceLROnPlateau(\n",
    "            monitor='val_accuracy',\n",
    "            factor=0.5,\n",
    "            patience=2,\n",
    "            verbose=1\n",
    "        )\n",
    "    ]\n",
    "\n",
    "    # Train the Model\n",
    "    history_transfer = model_transfer.fit(\n",
    "        train_gen,\n",
    "        validation_data=test_gen,\n",
    "        epochs=1,  # Adjust as needed\n",
    "        callbacks=callbacks_transfer,\n",
    "        verbose=1\n",
    "    )\n",
    "\n",
    "    # Unfreeze Layers for Fine-tuning\n",
    "    base_model.trainable = True\n",
    "\n",
    "    # Recompile the Model\n",
    "    model_transfer.compile(\n",
    "        optimizer=optimizers.Adam(learning_rate=1e-5),\n",
    "        loss=focal_loss(alpha=alpha, gamma=gamma),\n",
    "        metrics=['accuracy']\n",
    "    )\n",
    "\n",
    "    # Fine-tune the Model\n",
    "    history_fine_tune = model_transfer.fit(\n",
    "        train_gen,\n",
    "        validation_data=test_gen,\n",
    "        epochs=5,  # Adjust as needed\n",
    "        callbacks=callbacks_transfer,\n",
    "        verbose=1\n",
    "    )\n",
    "\n",
    "    # Load the Best Model\n",
    "    best_model = tf.keras.models.load_model(\n",
    "        f'best_model_transfer_{set_name}.keras',\n",
    "        custom_objects={'focal_loss_fixed': focal_loss(alpha=alpha, gamma=gamma)}\n",
    "    )\n",
    "\n",
    "    # Evaluate on test set\n",
    "    num_test_samples = len(test_labels)\n",
    "    validation_steps = np.ceil(num_test_samples / batch_size).astype(int)\n",
    "\n",
    "    predictions = best_model.predict(test_gen, steps=validation_steps)\n",
    "    predicted_labels = (predictions >= 0.15).astype(int).flatten()\n",
    "\n",
    "    # Compute and print confusion matrix and metrics\n",
    "    cm = confusion_matrix(test_labels[:len(predicted_labels)], predicted_labels)\n",
    "    precision = precision_score(test_labels[:len(predicted_labels)], predicted_labels, zero_division=0)\n",
    "    recall = recall_score(test_labels[:len(predicted_labels)], predicted_labels, zero_division=0)\n",
    "    report = classification_report(\n",
    "        test_labels[:len(predicted_labels)],\n",
    "        predicted_labels,\n",
    "        target_names=['Uncracked', 'Cracked'],\n",
    "        zero_division=0\n",
    "    )\n",
    "\n",
    "    print(f\"Confusion Matrix (Test Set {set_name}):\")\n",
    "    print(cm)\n",
    "    print(f\"\\nPrecision: {precision:.4f}\")\n",
    "    print(f\"Recall:    {recall:.4f}\")\n",
    "    print(\"\\nClassification Report:\")\n",
    "    print(report)\n",
    "\n",
    "    # Plot confusion matrix\n",
    "    plt.figure(figsize=(6, 5))\n",
    "    sns.heatmap(\n",
    "        cm,\n",
    "        annot=True,\n",
    "        fmt='d',\n",
    "        cmap='Blues',\n",
    "        xticklabels=['Uncracked (0)', 'Cracked (1)'],\n",
    "        yticklabels=['Uncracked (0)', 'Cracked (1)']\n",
    "    )\n",
    "    plt.ylabel('True Label')\n",
    "    plt.xlabel('Predicted Label')\n",
    "    plt.title(f'Confusion Matrix (Test Set {set_name})')\n",
    "    plt.show()\n"
   ]
  },
  {
   "cell_type": "code",
   "execution_count": 17,
   "id": "271dc684-0c62-43e5-ab09-13c8200e7336",
   "metadata": {},
   "outputs": [],
   "source": [
    "# List of training generators and labels with their set names\n",
    "training_sets = [\n",
    "    {'name': 'A', 'gen': train_gen_A, 'labels': train_labels_A},\n",
    "    {'name': 'B', 'gen': train_gen_B, 'labels': train_labels_B},\n",
    "    {'name': 'C', 'gen': train_gen_C, 'labels': train_labels_C},\n",
    "    # Add more training sets if available\n",
    "]\n",
    "\n",
    "# List of testing generators and labels with their set names\n",
    "testing_sets = [\n",
    "    {'name': 'D', 'gen': test_gen_D, 'labels': test_labels_D},\n",
    "    {'name': 'P', 'gen': test_gen_P, 'labels': test_labels_P},\n",
    "    # Add more testing sets if available\n",
    "]"
   ]
  },
  {
   "cell_type": "code",
   "execution_count": 18,
   "id": "80eccc85-f253-423d-8f8d-455399979b94",
   "metadata": {},
   "outputs": [
    {
     "name": "stdout",
     "output_type": "stream",
     "text": [
      "\n",
      "Training on set A and testing on set D\n",
      "    930/Unknown \u001b[1m49s\u001b[0m 48ms/step - accuracy: 0.8908 - loss: 0.4972"
     ]
    },
    {
     "name": "stderr",
     "output_type": "stream",
     "text": [
      "2024-11-20 13:09:51.427037: I tensorflow/core/framework/local_rendezvous.cc:424] Local rendezvous recv item cancelled. Key hash: 14765011972775036819\n",
      "/apps/software/standard/core/jupyterlab/3.6.3-py3.11/lib/python3.11/contextlib.py:155: UserWarning: Your input ran out of data; interrupting training. Make sure that your dataset or generator can generate at least `steps_per_epoch * epochs` batches. You may need to use the `.repeat()` function when building your dataset.\n",
      "  self.gen.throw(typ, value, traceback)\n",
      "2024-11-20 13:09:51.427173: I tensorflow/core/framework/local_rendezvous.cc:424] Local rendezvous recv item cancelled. Key hash: 10732172815508262128\n"
     ]
    },
    {
     "name": "stdout",
     "output_type": "stream",
     "text": [
      "\n",
      "Epoch 1: val_accuracy improved from -inf to 0.90202, saving model to best_model_transfer_A_to_D.keras\n"
     ]
    },
    {
     "name": "stderr",
     "output_type": "stream",
     "text": [
      "2024-11-20 13:09:55.695876: I tensorflow/core/framework/local_rendezvous.cc:424] Local rendezvous recv item cancelled. Key hash: 14765011972775036819\n",
      "2024-11-20 13:09:55.695993: I tensorflow/core/framework/local_rendezvous.cc:424] Local rendezvous recv item cancelled. Key hash: 10732172815508262128\n"
     ]
    },
    {
     "name": "stdout",
     "output_type": "stream",
     "text": [
      "\u001b[1m930/930\u001b[0m \u001b[32m━━━━━━━━━━━━━━━━━━━━\u001b[0m\u001b[37m\u001b[0m \u001b[1m54s\u001b[0m 53ms/step - accuracy: 0.8908 - loss: 0.4970 - val_accuracy: 0.9020 - val_loss: 0.2483 - learning_rate: 5.0000e-04\n",
      "Restoring model weights from the end of the best epoch: 1.\n",
      "Epoch 1/5\n",
      "    930/Unknown \u001b[1m115s\u001b[0m 109ms/step - accuracy: 0.9008 - loss: 0.2803"
     ]
    },
    {
     "name": "stderr",
     "output_type": "stream",
     "text": [
      "2024-11-20 13:11:50.626763: I tensorflow/core/framework/local_rendezvous.cc:424] Local rendezvous recv item cancelled. Key hash: 10732172815508262128\n"
     ]
    },
    {
     "name": "stdout",
     "output_type": "stream",
     "text": [
      "\n",
      "Epoch 1: val_accuracy improved from 0.90202 to 0.96190, saving model to best_model_transfer_A_to_D.keras\n",
      "\u001b[1m930/930\u001b[0m \u001b[32m━━━━━━━━━━━━━━━━━━━━\u001b[0m\u001b[37m\u001b[0m \u001b[1m118s\u001b[0m 113ms/step - accuracy: 0.9008 - loss: 0.2802 - val_accuracy: 0.9619 - val_loss: 0.1213 - learning_rate: 1.0000e-05\n",
      "Epoch 2/5\n",
      "\u001b[1m930/930\u001b[0m \u001b[32m━━━━━━━━━━━━━━━━━━━━\u001b[0m\u001b[37m\u001b[0m \u001b[1m0s\u001b[0m 102ms/step - accuracy: 0.9402 - loss: 0.1961\n",
      "Epoch 2: val_accuracy improved from 0.96190 to 0.96656, saving model to best_model_transfer_A_to_D.keras\n"
     ]
    },
    {
     "name": "stderr",
     "output_type": "stream",
     "text": [
      "2024-11-20 13:13:30.835590: I tensorflow/core/framework/local_rendezvous.cc:424] Local rendezvous recv item cancelled. Key hash: 14765011972775036819\n",
      "2024-11-20 13:13:30.835694: I tensorflow/core/framework/local_rendezvous.cc:424] Local rendezvous recv item cancelled. Key hash: 10732172815508262128\n"
     ]
    },
    {
     "name": "stdout",
     "output_type": "stream",
     "text": [
      "\u001b[1m930/930\u001b[0m \u001b[32m━━━━━━━━━━━━━━━━━━━━\u001b[0m\u001b[37m\u001b[0m \u001b[1m97s\u001b[0m 104ms/step - accuracy: 0.9402 - loss: 0.1961 - val_accuracy: 0.9666 - val_loss: 0.1051 - learning_rate: 1.0000e-05\n",
      "Epoch 3/5\n",
      "\u001b[1m930/930\u001b[0m \u001b[32m━━━━━━━━━━━━━━━━━━━━\u001b[0m\u001b[37m\u001b[0m \u001b[1m0s\u001b[0m 102ms/step - accuracy: 0.9435 - loss: 0.1887"
     ]
    },
    {
     "name": "stderr",
     "output_type": "stream",
     "text": [
      "2024-11-20 13:15:05.870742: I tensorflow/core/framework/local_rendezvous.cc:424] Local rendezvous recv item cancelled. Key hash: 10732172815508262128\n"
     ]
    },
    {
     "name": "stdout",
     "output_type": "stream",
     "text": [
      "\n",
      "Epoch 3: val_accuracy did not improve from 0.96656\n",
      "\u001b[1m930/930\u001b[0m \u001b[32m━━━━━━━━━━━━━━━━━━━━\u001b[0m\u001b[37m\u001b[0m \u001b[1m97s\u001b[0m 104ms/step - accuracy: 0.9435 - loss: 0.1887 - val_accuracy: 0.9580 - val_loss: 0.1147 - learning_rate: 1.0000e-05\n",
      "Epoch 4/5\n",
      "\u001b[1m  1/930\u001b[0m \u001b[37m━━━━━━━━━━━━━━━━━━━━\u001b[0m \u001b[1m2:07\u001b[0m 137ms/step - accuracy: 0.9375 - loss: 0.2043"
     ]
    },
    {
     "name": "stderr",
     "output_type": "stream",
     "text": [
      "2024-11-20 13:15:07.927483: I tensorflow/core/framework/local_rendezvous.cc:424] Local rendezvous recv item cancelled. Key hash: 14765011972775036819\n",
      "2024-11-20 13:15:07.927607: I tensorflow/core/framework/local_rendezvous.cc:424] Local rendezvous recv item cancelled. Key hash: 10732172815508262128\n"
     ]
    },
    {
     "name": "stdout",
     "output_type": "stream",
     "text": [
      "\u001b[1m930/930\u001b[0m \u001b[32m━━━━━━━━━━━━━━━━━━━━\u001b[0m\u001b[37m\u001b[0m \u001b[1m0s\u001b[0m 101ms/step - accuracy: 0.9457 - loss: 0.1858\n",
      "Epoch 4: val_accuracy improved from 0.96656 to 0.97512, saving model to best_model_transfer_A_to_D.keras\n"
     ]
    },
    {
     "name": "stderr",
     "output_type": "stream",
     "text": [
      "2024-11-20 13:16:44.254765: I tensorflow/core/framework/local_rendezvous.cc:424] Local rendezvous recv item cancelled. Key hash: 10732172815508262128\n"
     ]
    },
    {
     "name": "stdout",
     "output_type": "stream",
     "text": [
      "\u001b[1m930/930\u001b[0m \u001b[32m━━━━━━━━━━━━━━━━━━━━\u001b[0m\u001b[37m\u001b[0m \u001b[1m97s\u001b[0m 104ms/step - accuracy: 0.9457 - loss: 0.1857 - val_accuracy: 0.9751 - val_loss: 0.0773 - learning_rate: 1.0000e-05\n",
      "Epoch 5/5\n",
      "\u001b[1m930/930\u001b[0m \u001b[32m━━━━━━━━━━━━━━━━━━━━\u001b[0m\u001b[37m\u001b[0m \u001b[1m0s\u001b[0m 102ms/step - accuracy: 0.9527 - loss: 0.1662"
     ]
    },
    {
     "name": "stderr",
     "output_type": "stream",
     "text": [
      "2024-11-20 13:18:19.780599: I tensorflow/core/framework/local_rendezvous.cc:424] Local rendezvous recv item cancelled. Key hash: 14765011972775036819\n",
      "2024-11-20 13:18:19.780748: I tensorflow/core/framework/local_rendezvous.cc:424] Local rendezvous recv item cancelled. Key hash: 10732172815508262128\n"
     ]
    },
    {
     "name": "stdout",
     "output_type": "stream",
     "text": [
      "\n",
      "Epoch 5: val_accuracy did not improve from 0.97512\n",
      "\u001b[1m930/930\u001b[0m \u001b[32m━━━━━━━━━━━━━━━━━━━━\u001b[0m\u001b[37m\u001b[0m \u001b[1m97s\u001b[0m 104ms/step - accuracy: 0.9527 - loss: 0.1662 - val_accuracy: 0.9697 - val_loss: 0.0866 - learning_rate: 1.0000e-05\n",
      "Restoring model weights from the end of the best epoch: 4.\n",
      "\u001b[1m81/81\u001b[0m \u001b[32m━━━━━━━━━━━━━━━━━━━━\u001b[0m\u001b[37m\u001b[0m \u001b[1m4s\u001b[0m 36ms/step\n",
      "Confusion Matrix (Test Set A_to_D):\n",
      "[[1120   40]\n",
      " [  11  115]]\n",
      "\n",
      "Precision: 0.7419\n",
      "Recall:    0.9127\n",
      "\n",
      "Classification Report:\n",
      "              precision    recall  f1-score   support\n",
      "\n",
      "   Uncracked       0.99      0.97      0.98      1160\n",
      "     Cracked       0.74      0.91      0.82       126\n",
      "\n",
      "    accuracy                           0.96      1286\n",
      "   macro avg       0.87      0.94      0.90      1286\n",
      "weighted avg       0.97      0.96      0.96      1286\n",
      "\n"
     ]
    },
    {
     "data": {
      "image/png": "[encoded data removed]",
      "text/plain": [
       "<Figure size 600x500 with 2 Axes>"
      ]
     },
     "metadata": {},
     "output_type": "display_data"
    },
    {
     "name": "stdout",
     "output_type": "stream",
     "text": [
      "\n",
      "Training on set A and testing on set P\n",
      "    930/Unknown \u001b[1m48s\u001b[0m 49ms/step - accuracy: 0.8901 - loss: 0.3889"
     ]
    },
    {
     "name": "stderr",
     "output_type": "stream",
     "text": [
      "/apps/software/standard/core/jupyterlab/3.6.3-py3.11/lib/python3.11/contextlib.py:155: UserWarning: Your input ran out of data; interrupting training. Make sure that your dataset or generator can generate at least `steps_per_epoch * epochs` batches. You may need to use the `.repeat()` function when building your dataset.\n",
      "  self.gen.throw(typ, value, traceback)\n"
     ]
    },
    {
     "name": "stdout",
     "output_type": "stream",
     "text": [
      "\n",
      "Epoch 1: val_accuracy improved from -inf to 0.89277, saving model to best_model_transfer_A_to_P.keras\n"
     ]
    },
    {
     "name": "stderr",
     "output_type": "stream",
     "text": [
      "2024-11-20 13:19:19.985448: I tensorflow/core/framework/local_rendezvous.cc:424] Local rendezvous recv item cancelled. Key hash: 10732172815508262128\n"
     ]
    },
    {
     "name": "stdout",
     "output_type": "stream",
     "text": [
      "\u001b[1m930/930\u001b[0m \u001b[32m━━━━━━━━━━━━━━━━━━━━\u001b[0m\u001b[37m\u001b[0m \u001b[1m54s\u001b[0m 55ms/step - accuracy: 0.8901 - loss: 0.3888 - val_accuracy: 0.8928 - val_loss: 0.3085 - learning_rate: 5.0000e-04\n",
      "Restoring model weights from the end of the best epoch: 1.\n",
      "Epoch 1/5\n",
      "    930/Unknown \u001b[1m104s\u001b[0m 104ms/step - accuracy: 0.9114 - loss: 0.2605\n",
      "Epoch 1: val_accuracy improved from 0.89277 to 0.94536, saving model to best_model_transfer_A_to_P.keras\n"
     ]
    },
    {
     "name": "stderr",
     "output_type": "stream",
     "text": [
      "2024-11-20 13:21:09.017825: I tensorflow/core/framework/local_rendezvous.cc:424] Local rendezvous recv item cancelled. Key hash: 10732172815508262128\n"
     ]
    },
    {
     "name": "stdout",
     "output_type": "stream",
     "text": [
      "\u001b[1m930/930\u001b[0m \u001b[32m━━━━━━━━━━━━━━━━━━━━\u001b[0m\u001b[37m\u001b[0m \u001b[1m109s\u001b[0m 110ms/step - accuracy: 0.9115 - loss: 0.2605 - val_accuracy: 0.9454 - val_loss: 0.1621 - learning_rate: 1.0000e-05\n",
      "Epoch 2/5\n",
      "\u001b[1m930/930\u001b[0m \u001b[32m━━━━━━━━━━━━━━━━━━━━\u001b[0m\u001b[37m\u001b[0m \u001b[1m0s\u001b[0m 101ms/step - accuracy: 0.9386 - loss: 0.2015\n",
      "Epoch 2: val_accuracy improved from 0.94536 to 0.94659, saving model to best_model_transfer_A_to_P.keras\n"
     ]
    },
    {
     "name": "stderr",
     "output_type": "stream",
     "text": [
      "2024-11-20 13:22:47.353221: I tensorflow/core/framework/local_rendezvous.cc:424] Local rendezvous recv item cancelled. Key hash: 14765011972775036819\n",
      "2024-11-20 13:22:47.353335: I tensorflow/core/framework/local_rendezvous.cc:424] Local rendezvous recv item cancelled. Key hash: 10732172815508262128\n"
     ]
    },
    {
     "name": "stdout",
     "output_type": "stream",
     "text": [
      "\u001b[1m930/930\u001b[0m \u001b[32m━━━━━━━━━━━━━━━━━━━━\u001b[0m\u001b[37m\u001b[0m \u001b[1m98s\u001b[0m 106ms/step - accuracy: 0.9386 - loss: 0.2015 - val_accuracy: 0.9466 - val_loss: 0.1575 - learning_rate: 1.0000e-05\n",
      "Epoch 3/5\n",
      "\u001b[1m930/930\u001b[0m \u001b[32m━━━━━━━━━━━━━━━━━━━━\u001b[0m\u001b[37m\u001b[0m \u001b[1m0s\u001b[0m 102ms/step - accuracy: 0.9512 - loss: 0.1729"
     ]
    },
    {
     "name": "stderr",
     "output_type": "stream",
     "text": [
      "2024-11-20 13:24:22.750126: I tensorflow/core/framework/local_rendezvous.cc:424] Local rendezvous recv item cancelled. Key hash: 14765011972775036819\n",
      "2024-11-20 13:24:22.750278: I tensorflow/core/framework/local_rendezvous.cc:424] Local rendezvous recv item cancelled. Key hash: 10732172815508262128\n"
     ]
    },
    {
     "name": "stdout",
     "output_type": "stream",
     "text": [
      "\n",
      "Epoch 3: val_accuracy did not improve from 0.94659\n",
      "\u001b[1m930/930\u001b[0m \u001b[32m━━━━━━━━━━━━━━━━━━━━\u001b[0m\u001b[37m\u001b[0m \u001b[1m99s\u001b[0m 106ms/step - accuracy: 0.9512 - loss: 0.1729 - val_accuracy: 0.9458 - val_loss: 0.1610 - learning_rate: 1.0000e-05\n",
      "Epoch 4/5\n",
      "\u001b[1m  1/930\u001b[0m \u001b[37m━━━━━━━━━━━━━━━━━━━━\u001b[0m \u001b[1m2:13\u001b[0m 144ms/step - accuracy: 0.8125 - loss: 0.5059"
     ]
    },
    {
     "name": "stderr",
     "output_type": "stream",
     "text": [
      "2024-11-20 13:24:26.765607: I tensorflow/core/framework/local_rendezvous.cc:424] Local rendezvous recv item cancelled. Key hash: 10732172815508262128\n"
     ]
    },
    {
     "name": "stdout",
     "output_type": "stream",
     "text": [
      "\u001b[1m930/930\u001b[0m \u001b[32m━━━━━━━━━━━━━━━━━━━━\u001b[0m\u001b[37m\u001b[0m \u001b[1m0s\u001b[0m 102ms/step - accuracy: 0.9500 - loss: 0.1684\n",
      "Epoch 4: val_accuracy improved from 0.94659 to 0.94947, saving model to best_model_transfer_A_to_P.keras\n",
      "\u001b[1m930/930\u001b[0m \u001b[32m━━━━━━━━━━━━━━━━━━━━\u001b[0m\u001b[37m\u001b[0m \u001b[1m99s\u001b[0m 107ms/step - accuracy: 0.9500 - loss: 0.1684 - val_accuracy: 0.9495 - val_loss: 0.1442 - learning_rate: 1.0000e-05\n",
      "Epoch 5/5\n",
      "\u001b[1m930/930\u001b[0m \u001b[32m━━━━━━━━━━━━━━━━━━━━\u001b[0m\u001b[37m\u001b[0m \u001b[1m0s\u001b[0m 101ms/step - accuracy: 0.9544 - loss: 0.1554\n",
      "Epoch 5: val_accuracy improved from 0.94947 to 0.95440, saving model to best_model_transfer_A_to_P.keras\n"
     ]
    },
    {
     "name": "stderr",
     "output_type": "stream",
     "text": [
      "2024-11-20 13:27:44.204444: I tensorflow/core/framework/local_rendezvous.cc:424] Local rendezvous recv item cancelled. Key hash: 14765011972775036819\n",
      "2024-11-20 13:27:44.204586: I tensorflow/core/framework/local_rendezvous.cc:424] Local rendezvous recv item cancelled. Key hash: 10732172815508262128\n"
     ]
    },
    {
     "name": "stdout",
     "output_type": "stream",
     "text": [
      "\u001b[1m930/930\u001b[0m \u001b[32m━━━━━━━━━━━━━━━━━━━━\u001b[0m\u001b[37m\u001b[0m \u001b[1m99s\u001b[0m 106ms/step - accuracy: 0.9544 - loss: 0.1554 - val_accuracy: 0.9544 - val_loss: 0.1367 - learning_rate: 1.0000e-05\n",
      "Restoring model weights from the end of the best epoch: 5.\n",
      "\u001b[1m153/153\u001b[0m \u001b[32m━━━━━━━━━━━━━━━━━━━━\u001b[0m\u001b[37m\u001b[0m \u001b[1m6s\u001b[0m 33ms/step\n",
      "Confusion Matrix (Test Set A_to_P):\n",
      "[[1948  225]\n",
      " [  30  231]]\n",
      "\n",
      "Precision: 0.5066\n",
      "Recall:    0.8851\n",
      "\n",
      "Classification Report:\n",
      "              precision    recall  f1-score   support\n",
      "\n",
      "   Uncracked       0.98      0.90      0.94      2173\n",
      "     Cracked       0.51      0.89      0.64       261\n",
      "\n",
      "    accuracy                           0.90      2434\n",
      "   macro avg       0.75      0.89      0.79      2434\n",
      "weighted avg       0.93      0.90      0.91      2434\n",
      "\n"
     ]
    },
    {
     "data": {
      "image/png": "[encoded data removed]",
      "text/plain": [
       "<Figure size 600x500 with 2 Axes>"
      ]
     },
     "metadata": {},
     "output_type": "display_data"
    },
    {
     "name": "stdout",
     "output_type": "stream",
     "text": [
      "\n",
      "Training on set B and testing on set D\n",
      "     93/Unknown \u001b[1m10s\u001b[0m 77ms/step - accuracy: 0.8532 - loss: 1.0703"
     ]
    },
    {
     "name": "stderr",
     "output_type": "stream",
     "text": [
      "2024-11-20 13:28:01.457769: I tensorflow/core/framework/local_rendezvous.cc:424] Local rendezvous recv item cancelled. Key hash: 14765011972775036819\n",
      "/apps/software/standard/core/jupyterlab/3.6.3-py3.11/lib/python3.11/contextlib.py:155: UserWarning: Your input ran out of data; interrupting training. Make sure that your dataset or generator can generate at least `steps_per_epoch * epochs` batches. You may need to use the `.repeat()` function when building your dataset.\n",
      "  self.gen.throw(typ, value, traceback)\n"
     ]
    },
    {
     "name": "stdout",
     "output_type": "stream",
     "text": [
      "\n",
      "Epoch 1: val_accuracy improved from -inf to 0.90202, saving model to best_model_transfer_B_to_D.keras\n",
      "\u001b[1m93/93\u001b[0m \u001b[32m━━━━━━━━━━━━━━━━━━━━\u001b[0m\u001b[37m\u001b[0m \u001b[1m14s\u001b[0m 116ms/step - accuracy: 0.8534 - loss: 1.0662 - val_accuracy: 0.9020 - val_loss: 0.2992 - learning_rate: 5.0000e-04\n",
      "Restoring model weights from the end of the best epoch: 1.\n",
      "Epoch 1/5\n",
      "     93/Unknown \u001b[1m25s\u001b[0m 196ms/step - accuracy: 0.9159 - loss: 0.3201"
     ]
    },
    {
     "name": "stderr",
     "output_type": "stream",
     "text": [
      "2024-11-20 13:28:30.118288: I tensorflow/core/framework/local_rendezvous.cc:424] Local rendezvous recv item cancelled. Key hash: 14765011972775036819\n",
      "2024-11-20 13:28:30.118436: I tensorflow/core/framework/local_rendezvous.cc:424] Local rendezvous recv item cancelled. Key hash: 10732172815508262128\n"
     ]
    },
    {
     "name": "stdout",
     "output_type": "stream",
     "text": [
      "\n",
      "Epoch 1: val_accuracy improved from 0.90202 to 0.90435, saving model to best_model_transfer_B_to_D.keras\n"
     ]
    },
    {
     "name": "stderr",
     "output_type": "stream",
     "text": [
      "2024-11-20 13:28:33.212552: I tensorflow/core/framework/local_rendezvous.cc:424] Local rendezvous recv item cancelled. Key hash: 14765011972775036819\n",
      "2024-11-20 13:28:33.212676: I tensorflow/core/framework/local_rendezvous.cc:424] Local rendezvous recv item cancelled. Key hash: 10732172815508262128\n"
     ]
    },
    {
     "name": "stdout",
     "output_type": "stream",
     "text": [
      "\u001b[1m93/93\u001b[0m \u001b[32m━━━━━━━━━━━━━━━━━━━━\u001b[0m\u001b[37m\u001b[0m \u001b[1m29s\u001b[0m 236ms/step - accuracy: 0.9157 - loss: 0.3203 - val_accuracy: 0.9044 - val_loss: 0.2569 - learning_rate: 1.0000e-05\n",
      "Epoch 2/5\n",
      "\u001b[1m93/93\u001b[0m \u001b[32m━━━━━━━━━━━━━━━━━━━━\u001b[0m\u001b[37m\u001b[0m \u001b[1m0s\u001b[0m 101ms/step - accuracy: 0.9047 - loss: 0.3009\n",
      "Epoch 2: val_accuracy improved from 0.90435 to 0.91757, saving model to best_model_transfer_B_to_D.keras\n",
      "\u001b[1m93/93\u001b[0m \u001b[32m━━━━━━━━━━━━━━━━━━━━\u001b[0m\u001b[37m\u001b[0m \u001b[1m12s\u001b[0m 129ms/step - accuracy: 0.9046 - loss: 0.3009 - val_accuracy: 0.9176 - val_loss: 0.2503 - learning_rate: 1.0000e-05\n",
      "Epoch 3/5\n",
      "\u001b[1m93/93\u001b[0m \u001b[32m━━━━━━━━━━━━━━━━━━━━\u001b[0m\u001b[37m\u001b[0m \u001b[1m0s\u001b[0m 99ms/step - accuracy: 0.9098 - loss: 0.2565\n",
      "Epoch 3: val_accuracy improved from 0.91757 to 0.93235, saving model to best_model_transfer_B_to_D.keras\n"
     ]
    },
    {
     "name": "stderr",
     "output_type": "stream",
     "text": [
      "2024-11-20 13:28:57.451827: I tensorflow/core/framework/local_rendezvous.cc:405] Local rendezvous is aborting with status: OUT_OF_RANGE: End of sequence\n",
      "\t [[{{node IteratorGetNext}}]]\n",
      "\t [[IteratorGetNext/_2]]\n",
      "2024-11-20 13:28:57.451989: I tensorflow/core/framework/local_rendezvous.cc:424] Local rendezvous recv item cancelled. Key hash: 14765011972775036819\n",
      "2024-11-20 13:28:57.452039: I tensorflow/core/framework/local_rendezvous.cc:424] Local rendezvous recv item cancelled. Key hash: 10732172815508262128\n"
     ]
    },
    {
     "name": "stdout",
     "output_type": "stream",
     "text": [
      "\u001b[1m93/93\u001b[0m \u001b[32m━━━━━━━━━━━━━━━━━━━━\u001b[0m\u001b[37m\u001b[0m \u001b[1m12s\u001b[0m 129ms/step - accuracy: 0.9098 - loss: 0.2565 - val_accuracy: 0.9323 - val_loss: 0.1932 - learning_rate: 1.0000e-05\n",
      "Epoch 4/5\n",
      "\u001b[1m93/93\u001b[0m \u001b[32m━━━━━━━━━━━━━━━━━━━━\u001b[0m\u001b[37m\u001b[0m \u001b[1m0s\u001b[0m 102ms/step - accuracy: 0.9326 - loss: 0.2074\n",
      "Epoch 4: val_accuracy improved from 0.93235 to 0.94168, saving model to best_model_transfer_B_to_D.keras\n",
      "\u001b[1m93/93\u001b[0m \u001b[32m━━━━━━━━━━━━━━━━━━━━\u001b[0m\u001b[37m\u001b[0m \u001b[1m12s\u001b[0m 129ms/step - accuracy: 0.9325 - loss: 0.2076 - val_accuracy: 0.9417 - val_loss: 0.1719 - learning_rate: 1.0000e-05\n",
      "Epoch 5/5\n",
      "\u001b[1m93/93\u001b[0m \u001b[32m━━━━━━━━━━━━━━━━━━━━\u001b[0m\u001b[37m\u001b[0m \u001b[1m0s\u001b[0m 102ms/step - accuracy: 0.9283 - loss: 0.2468"
     ]
    },
    {
     "name": "stderr",
     "output_type": "stream",
     "text": [
      "2024-11-20 13:29:19.438903: I tensorflow/core/framework/local_rendezvous.cc:424] Local rendezvous recv item cancelled. Key hash: 14765011972775036819\n",
      "2024-11-20 13:29:19.439037: I tensorflow/core/framework/local_rendezvous.cc:424] Local rendezvous recv item cancelled. Key hash: 10732172815508262128\n"
     ]
    },
    {
     "name": "stdout",
     "output_type": "stream",
     "text": [
      "\n",
      "Epoch 5: val_accuracy did not improve from 0.94168\n",
      "\u001b[1m93/93\u001b[0m \u001b[32m━━━━━━━━━━━━━━━━━━━━\u001b[0m\u001b[37m\u001b[0m \u001b[1m11s\u001b[0m 123ms/step - accuracy: 0.9284 - loss: 0.2465 - val_accuracy: 0.9401 - val_loss: 0.1884 - learning_rate: 1.0000e-05\n",
      "Restoring model weights from the end of the best epoch: 4.\n",
      "\u001b[1m81/81\u001b[0m \u001b[32m━━━━━━━━━━━━━━━━━━━━\u001b[0m\u001b[37m\u001b[0m \u001b[1m3s\u001b[0m 31ms/step\n",
      "Confusion Matrix (Test Set B_to_D):\n",
      "[[1110   50]\n",
      " [  39   87]]\n",
      "\n",
      "Precision: 0.6350\n",
      "Recall:    0.6905\n",
      "\n",
      "Classification Report:\n",
      "              precision    recall  f1-score   support\n",
      "\n",
      "   Uncracked       0.97      0.96      0.96      1160\n",
      "     Cracked       0.64      0.69      0.66       126\n",
      "\n",
      "    accuracy                           0.93      1286\n",
      "   macro avg       0.80      0.82      0.81      1286\n",
      "weighted avg       0.93      0.93      0.93      1286\n",
      "\n"
     ]
    },
    {
     "data": {
      "image/png": "[encoded data removed]",
      "text/plain": [
       "<Figure size 600x500 with 2 Axes>"
      ]
     },
     "metadata": {},
     "output_type": "display_data"
    },
    {
     "name": "stdout",
     "output_type": "stream",
     "text": [
      "\n",
      "Training on set B and testing on set P\n",
      "     93/Unknown \u001b[1m10s\u001b[0m 59ms/step - accuracy: 0.8696 - loss: 0.4833"
     ]
    },
    {
     "name": "stderr",
     "output_type": "stream",
     "text": [
      "2024-11-20 13:29:35.626083: I tensorflow/core/framework/local_rendezvous.cc:424] Local rendezvous recv item cancelled. Key hash: 14765011972775036819\n",
      "/apps/software/standard/core/jupyterlab/3.6.3-py3.11/lib/python3.11/contextlib.py:155: UserWarning: Your input ran out of data; interrupting training. Make sure that your dataset or generator can generate at least `steps_per_epoch * epochs` batches. You may need to use the `.repeat()` function when building your dataset.\n",
      "  self.gen.throw(typ, value, traceback)\n",
      "2024-11-20 13:29:35.626192: I tensorflow/core/framework/local_rendezvous.cc:424] Local rendezvous recv item cancelled. Key hash: 10732172815508262128\n"
     ]
    },
    {
     "name": "stdout",
     "output_type": "stream",
     "text": [
      "\n",
      "Epoch 1: val_accuracy improved from -inf to 0.89277, saving model to best_model_transfer_B_to_P.keras\n"
     ]
    },
    {
     "name": "stderr",
     "output_type": "stream",
     "text": [
      "2024-11-20 13:29:40.641504: I tensorflow/core/framework/local_rendezvous.cc:424] Local rendezvous recv item cancelled. Key hash: 14765011972775036819\n",
      "2024-11-20 13:29:40.641657: I tensorflow/core/framework/local_rendezvous.cc:424] Local rendezvous recv item cancelled. Key hash: 10732172815508262128\n"
     ]
    },
    {
     "name": "stdout",
     "output_type": "stream",
     "text": [
      "\u001b[1m93/93\u001b[0m \u001b[32m━━━━━━━━━━━━━━━━━━━━\u001b[0m\u001b[37m\u001b[0m \u001b[1m15s\u001b[0m 117ms/step - accuracy: 0.8698 - loss: 0.4825 - val_accuracy: 0.8928 - val_loss: 0.3146 - learning_rate: 5.0000e-04\n",
      "Restoring model weights from the end of the best epoch: 1.\n",
      "Epoch 1/5\n",
      "     93/Unknown \u001b[1m19s\u001b[0m 130ms/step - accuracy: 0.9103 - loss: 0.3218\n",
      "Epoch 1: val_accuracy improved from 0.89277 to 0.89565, saving model to best_model_transfer_B_to_P.keras\n"
     ]
    },
    {
     "name": "stderr",
     "output_type": "stream",
     "text": [
      "2024-11-20 13:30:04.964629: I tensorflow/core/framework/local_rendezvous.cc:424] Local rendezvous recv item cancelled. Key hash: 14765011972775036819\n",
      "2024-11-20 13:30:04.964734: I tensorflow/core/framework/local_rendezvous.cc:424] Local rendezvous recv item cancelled. Key hash: 10732172815508262128\n"
     ]
    },
    {
     "name": "stdout",
     "output_type": "stream",
     "text": [
      "\u001b[1m93/93\u001b[0m \u001b[32m━━━━━━━━━━━━━━━━━━━━\u001b[0m\u001b[37m\u001b[0m \u001b[1m24s\u001b[0m 191ms/step - accuracy: 0.9102 - loss: 0.3217 - val_accuracy: 0.8956 - val_loss: 0.2676 - learning_rate: 1.0000e-05\n",
      "Epoch 2/5\n",
      "\u001b[1m93/93\u001b[0m \u001b[32m━━━━━━━━━━━━━━━━━━━━\u001b[0m\u001b[37m\u001b[0m \u001b[1m0s\u001b[0m 102ms/step - accuracy: 0.9093 - loss: 0.2587\n",
      "Epoch 2: val_accuracy improved from 0.89565 to 0.90797, saving model to best_model_transfer_B_to_P.keras\n"
     ]
    },
    {
     "name": "stderr",
     "output_type": "stream",
     "text": [
      "2024-11-20 13:30:18.684228: I tensorflow/core/framework/local_rendezvous.cc:424] Local rendezvous recv item cancelled. Key hash: 14765011972775036819\n",
      "2024-11-20 13:30:18.684336: I tensorflow/core/framework/local_rendezvous.cc:424] Local rendezvous recv item cancelled. Key hash: 10732172815508262128\n"
     ]
    },
    {
     "name": "stdout",
     "output_type": "stream",
     "text": [
      "\u001b[1m93/93\u001b[0m \u001b[32m━━━━━━━━━━━━━━━━━━━━\u001b[0m\u001b[37m\u001b[0m \u001b[1m14s\u001b[0m 147ms/step - accuracy: 0.9093 - loss: 0.2588 - val_accuracy: 0.9080 - val_loss: 0.2535 - learning_rate: 1.0000e-05\n",
      "Epoch 3/5\n",
      "\u001b[1m93/93\u001b[0m \u001b[32m━━━━━━━━━━━━━━━━━━━━\u001b[0m\u001b[37m\u001b[0m \u001b[1m0s\u001b[0m 101ms/step - accuracy: 0.9183 - loss: 0.2360\n",
      "Epoch 3: val_accuracy improved from 0.90797 to 0.92358, saving model to best_model_transfer_B_to_P.keras\n"
     ]
    },
    {
     "name": "stderr",
     "output_type": "stream",
     "text": [
      "2024-11-20 13:30:32.577732: I tensorflow/core/framework/local_rendezvous.cc:424] Local rendezvous recv item cancelled. Key hash: 14765011972775036819\n",
      "2024-11-20 13:30:32.577839: I tensorflow/core/framework/local_rendezvous.cc:424] Local rendezvous recv item cancelled. Key hash: 10732172815508262128\n"
     ]
    },
    {
     "name": "stdout",
     "output_type": "stream",
     "text": [
      "\u001b[1m93/93\u001b[0m \u001b[32m━━━━━━━━━━━━━━━━━━━━\u001b[0m\u001b[37m\u001b[0m \u001b[1m14s\u001b[0m 149ms/step - accuracy: 0.9183 - loss: 0.2362 - val_accuracy: 0.9236 - val_loss: 0.2332 - learning_rate: 1.0000e-05\n",
      "Epoch 4/5\n",
      "\u001b[1m93/93\u001b[0m \u001b[32m━━━━━━━━━━━━━━━━━━━━\u001b[0m\u001b[37m\u001b[0m \u001b[1m0s\u001b[0m 102ms/step - accuracy: 0.9271 - loss: 0.2260\n",
      "Epoch 4: val_accuracy improved from 0.92358 to 0.93221, saving model to best_model_transfer_B_to_P.keras\n"
     ]
    },
    {
     "name": "stderr",
     "output_type": "stream",
     "text": [
      "2024-11-20 13:30:46.553753: I tensorflow/core/framework/local_rendezvous.cc:424] Local rendezvous recv item cancelled. Key hash: 14765011972775036819\n",
      "2024-11-20 13:30:46.553869: I tensorflow/core/framework/local_rendezvous.cc:424] Local rendezvous recv item cancelled. Key hash: 10732172815508262128\n"
     ]
    },
    {
     "name": "stdout",
     "output_type": "stream",
     "text": [
      "\u001b[1m93/93\u001b[0m \u001b[32m━━━━━━━━━━━━━━━━━━━━\u001b[0m\u001b[37m\u001b[0m \u001b[1m14s\u001b[0m 150ms/step - accuracy: 0.9270 - loss: 0.2262 - val_accuracy: 0.9322 - val_loss: 0.2087 - learning_rate: 1.0000e-05\n",
      "Epoch 5/5\n",
      "\u001b[1m93/93\u001b[0m \u001b[32m━━━━━━━━━━━━━━━━━━━━\u001b[0m\u001b[37m\u001b[0m \u001b[1m0s\u001b[0m 98ms/step - accuracy: 0.9418 - loss: 0.1980\n",
      "Epoch 5: val_accuracy did not improve from 0.93221\n",
      "\u001b[1m93/93\u001b[0m \u001b[32m━━━━━━━━━━━━━━━━━━━━\u001b[0m\u001b[37m\u001b[0m \u001b[1m13s\u001b[0m 142ms/step - accuracy: 0.9417 - loss: 0.1983 - val_accuracy: 0.9322 - val_loss: 0.2038 - learning_rate: 1.0000e-05\n",
      "Restoring model weights from the end of the best epoch: 4.\n"
     ]
    },
    {
     "name": "stderr",
     "output_type": "stream",
     "text": [
      "2024-11-20 13:31:00.205218: I tensorflow/core/framework/local_rendezvous.cc:424] Local rendezvous recv item cancelled. Key hash: 14765011972775036819\n",
      "2024-11-20 13:31:00.205383: I tensorflow/core/framework/local_rendezvous.cc:424] Local rendezvous recv item cancelled. Key hash: 10732172815508262128\n"
     ]
    },
    {
     "name": "stdout",
     "output_type": "stream",
     "text": [
      "\u001b[1m153/153\u001b[0m \u001b[32m━━━━━━━━━━━━━━━━━━━━\u001b[0m\u001b[37m\u001b[0m \u001b[1m5s\u001b[0m 30ms/step\n",
      "Confusion Matrix (Test Set B_to_P):\n",
      "[[2020  153]\n",
      " [  88  173]]\n",
      "\n",
      "Precision: 0.5307\n",
      "Recall:    0.6628\n",
      "\n",
      "Classification Report:\n",
      "              precision    recall  f1-score   support\n",
      "\n",
      "   Uncracked       0.96      0.93      0.94      2173\n",
      "     Cracked       0.53      0.66      0.59       261\n",
      "\n",
      "    accuracy                           0.90      2434\n",
      "   macro avg       0.74      0.80      0.77      2434\n",
      "weighted avg       0.91      0.90      0.91      2434\n",
      "\n"
     ]
    },
    {
     "data": {
      "image/png": "[encoded data removed]",
      "text/plain": [
       "<Figure size 600x500 with 2 Axes>"
      ]
     },
     "metadata": {},
     "output_type": "display_data"
    },
    {
     "name": "stdout",
     "output_type": "stream",
     "text": [
      "\n",
      "Training on set C and testing on set D\n",
      "    322/Unknown \u001b[1m20s\u001b[0m 53ms/step - accuracy: 0.8868 - loss: 0.4206"
     ]
    },
    {
     "name": "stderr",
     "output_type": "stream",
     "text": [
      "/apps/software/standard/core/jupyterlab/3.6.3-py3.11/lib/python3.11/contextlib.py:155: UserWarning: Your input ran out of data; interrupting training. Make sure that your dataset or generator can generate at least `steps_per_epoch * epochs` batches. You may need to use the `.repeat()` function when building your dataset.\n",
      "  self.gen.throw(typ, value, traceback)\n"
     ]
    },
    {
     "name": "stdout",
     "output_type": "stream",
     "text": [
      "\n",
      "Epoch 1: val_accuracy improved from -inf to 0.90202, saving model to best_model_transfer_C_to_D.keras\n"
     ]
    },
    {
     "name": "stderr",
     "output_type": "stream",
     "text": [
      "2024-11-20 13:31:29.358012: I tensorflow/core/framework/local_rendezvous.cc:424] Local rendezvous recv item cancelled. Key hash: 14765011972775036819\n",
      "2024-11-20 13:31:29.358114: I tensorflow/core/framework/local_rendezvous.cc:424] Local rendezvous recv item cancelled. Key hash: 10732172815508262128\n"
     ]
    },
    {
     "name": "stdout",
     "output_type": "stream",
     "text": [
      "\u001b[1m322/322\u001b[0m \u001b[32m━━━━━━━━━━━━━━━━━━━━\u001b[0m\u001b[37m\u001b[0m \u001b[1m23s\u001b[0m 64ms/step - accuracy: 0.8869 - loss: 0.4203 - val_accuracy: 0.9020 - val_loss: 0.2582 - learning_rate: 5.0000e-04\n",
      "Restoring model weights from the end of the best epoch: 1.\n",
      "Epoch 1/5\n",
      "    322/Unknown \u001b[1m45s\u001b[0m 120ms/step - accuracy: 0.9097 - loss: 0.2268"
     ]
    },
    {
     "name": "stderr",
     "output_type": "stream",
     "text": [
      "2024-11-20 13:32:14.911839: I tensorflow/core/framework/local_rendezvous.cc:424] Local rendezvous recv item cancelled. Key hash: 14765011972775036819\n",
      "2024-11-20 13:32:14.912200: I tensorflow/core/framework/local_rendezvous.cc:424] Local rendezvous recv item cancelled. Key hash: 10732172815508262128\n"
     ]
    },
    {
     "name": "stdout",
     "output_type": "stream",
     "text": [
      "\n",
      "Epoch 1: val_accuracy improved from 0.90202 to 0.95490, saving model to best_model_transfer_C_to_D.keras\n"
     ]
    },
    {
     "name": "stderr",
     "output_type": "stream",
     "text": [
      "2024-11-20 13:32:18.058507: I tensorflow/core/framework/local_rendezvous.cc:424] Local rendezvous recv item cancelled. Key hash: 14765011972775036819\n",
      "2024-11-20 13:32:18.058629: I tensorflow/core/framework/local_rendezvous.cc:424] Local rendezvous recv item cancelled. Key hash: 10732172815508262128\n"
     ]
    },
    {
     "name": "stdout",
     "output_type": "stream",
     "text": [
      "\u001b[1m322/322\u001b[0m \u001b[32m━━━━━━━━━━━━━━━━━━━━\u001b[0m\u001b[37m\u001b[0m \u001b[1m49s\u001b[0m 131ms/step - accuracy: 0.9098 - loss: 0.2268 - val_accuracy: 0.9549 - val_loss: 0.1457 - learning_rate: 1.0000e-05\n",
      "Epoch 2/5\n",
      "\u001b[1m322/322\u001b[0m \u001b[32m━━━━━━━━━━━━━━━━━━━━\u001b[0m\u001b[37m\u001b[0m \u001b[1m0s\u001b[0m 101ms/step - accuracy: 0.9528 - loss: 0.1767"
     ]
    },
    {
     "name": "stderr",
     "output_type": "stream",
     "text": [
      "2024-11-20 13:32:51.016948: I tensorflow/core/framework/local_rendezvous.cc:424] Local rendezvous recv item cancelled. Key hash: 14765011972775036819\n",
      "2024-11-20 13:32:51.017136: I tensorflow/core/framework/local_rendezvous.cc:424] Local rendezvous recv item cancelled. Key hash: 10732172815508262128\n"
     ]
    },
    {
     "name": "stdout",
     "output_type": "stream",
     "text": [
      "\n",
      "Epoch 2: val_accuracy improved from 0.95490 to 0.96423, saving model to best_model_transfer_C_to_D.keras\n",
      "\u001b[1m322/322\u001b[0m \u001b[32m━━━━━━━━━━━━━━━━━━━━\u001b[0m\u001b[37m\u001b[0m \u001b[1m35s\u001b[0m 109ms/step - accuracy: 0.9528 - loss: 0.1767 - val_accuracy: 0.9642 - val_loss: 0.1075 - learning_rate: 1.0000e-05\n",
      "Epoch 3/5\n",
      "\u001b[1m321/322\u001b[0m \u001b[32m━━━━━━━━━━━━━━━━━━━\u001b[0m\u001b[37m━\u001b[0m \u001b[1m0s\u001b[0m 101ms/step - accuracy: 0.9580 - loss: 0.1529"
     ]
    },
    {
     "name": "stderr",
     "output_type": "stream",
     "text": [
      "2024-11-20 13:33:26.166693: I tensorflow/core/framework/local_rendezvous.cc:424] Local rendezvous recv item cancelled. Key hash: 10732172815508262128\n"
     ]
    },
    {
     "name": "stdout",
     "output_type": "stream",
     "text": [
      "\n",
      "Epoch 3: val_accuracy did not improve from 0.96423\n",
      "\u001b[1m322/322\u001b[0m \u001b[32m━━━━━━━━━━━━━━━━━━━━\u001b[0m\u001b[37m\u001b[0m \u001b[1m34s\u001b[0m 107ms/step - accuracy: 0.9580 - loss: 0.1529 - val_accuracy: 0.9642 - val_loss: 0.1185 - learning_rate: 1.0000e-05\n",
      "Epoch 4/5\n",
      "\u001b[1m  1/322\u001b[0m \u001b[37m━━━━━━━━━━━━━━━━━━━━\u001b[0m \u001b[1m42s\u001b[0m 131ms/step - accuracy: 0.9375 - loss: 0.1352"
     ]
    },
    {
     "name": "stderr",
     "output_type": "stream",
     "text": [
      "2024-11-20 13:33:28.173470: I tensorflow/core/framework/local_rendezvous.cc:424] Local rendezvous recv item cancelled. Key hash: 14765011972775036819\n",
      "2024-11-20 13:33:28.173568: I tensorflow/core/framework/local_rendezvous.cc:424] Local rendezvous recv item cancelled. Key hash: 10732172815508262128\n"
     ]
    },
    {
     "name": "stdout",
     "output_type": "stream",
     "text": [
      "\u001b[1m322/322\u001b[0m \u001b[32m━━━━━━━━━━━━━━━━━━━━\u001b[0m\u001b[37m\u001b[0m \u001b[1m0s\u001b[0m 101ms/step - accuracy: 0.9595 - loss: 0.1415"
     ]
    },
    {
     "name": "stderr",
     "output_type": "stream",
     "text": [
      "2024-11-20 13:34:00.679041: I tensorflow/core/framework/local_rendezvous.cc:424] Local rendezvous recv item cancelled. Key hash: 14765011972775036819\n",
      "2024-11-20 13:34:00.679179: I tensorflow/core/framework/local_rendezvous.cc:424] Local rendezvous recv item cancelled. Key hash: 10732172815508262128\n"
     ]
    },
    {
     "name": "stdout",
     "output_type": "stream",
     "text": [
      "\n",
      "Epoch 4: val_accuracy improved from 0.96423 to 0.96501, saving model to best_model_transfer_C_to_D.keras\n"
     ]
    },
    {
     "name": "stderr",
     "output_type": "stream",
     "text": [
      "2024-11-20 13:34:02.686316: I tensorflow/core/framework/local_rendezvous.cc:424] Local rendezvous recv item cancelled. Key hash: 10732172815508262128\n"
     ]
    },
    {
     "name": "stdout",
     "output_type": "stream",
     "text": [
      "\u001b[1m322/322\u001b[0m \u001b[32m━━━━━━━━━━━━━━━━━━━━\u001b[0m\u001b[37m\u001b[0m \u001b[1m35s\u001b[0m 109ms/step - accuracy: 0.9595 - loss: 0.1415 - val_accuracy: 0.9650 - val_loss: 0.0986 - learning_rate: 1.0000e-05\n",
      "Epoch 5/5\n",
      "\u001b[1m322/322\u001b[0m \u001b[32m━━━━━━━━━━━━━━━━━━━━\u001b[0m\u001b[37m\u001b[0m \u001b[1m0s\u001b[0m 101ms/step - accuracy: 0.9634 - loss: 0.1284\n",
      "Epoch 5: val_accuracy improved from 0.96501 to 0.96734, saving model to best_model_transfer_C_to_D.keras\n"
     ]
    },
    {
     "name": "stderr",
     "output_type": "stream",
     "text": [
      "2024-11-20 13:34:37.987946: I tensorflow/core/framework/local_rendezvous.cc:424] Local rendezvous recv item cancelled. Key hash: 14765011972775036819\n",
      "2024-11-20 13:34:37.988072: I tensorflow/core/framework/local_rendezvous.cc:424] Local rendezvous recv item cancelled. Key hash: 10732172815508262128\n"
     ]
    },
    {
     "name": "stdout",
     "output_type": "stream",
     "text": [
      "\u001b[1m322/322\u001b[0m \u001b[32m━━━━━━━━━━━━━━━━━━━━\u001b[0m\u001b[37m\u001b[0m \u001b[1m35s\u001b[0m 109ms/step - accuracy: 0.9634 - loss: 0.1284 - val_accuracy: 0.9673 - val_loss: 0.0858 - learning_rate: 1.0000e-05\n",
      "Restoring model weights from the end of the best epoch: 5.\n",
      "\u001b[1m81/81\u001b[0m \u001b[32m━━━━━━━━━━━━━━━━━━━━\u001b[0m\u001b[37m\u001b[0m \u001b[1m3s\u001b[0m 34ms/step\n",
      "Confusion Matrix (Test Set C_to_D):\n",
      "[[1134   26]\n",
      " [  15  111]]\n",
      "\n",
      "Precision: 0.8102\n",
      "Recall:    0.8810\n",
      "\n",
      "Classification Report:\n",
      "              precision    recall  f1-score   support\n",
      "\n",
      "   Uncracked       0.99      0.98      0.98      1160\n",
      "     Cracked       0.81      0.88      0.84       126\n",
      "\n",
      "    accuracy                           0.97      1286\n",
      "   macro avg       0.90      0.93      0.91      1286\n",
      "weighted avg       0.97      0.97      0.97      1286\n",
      "\n"
     ]
    },
    {
     "data": {
      "image/png": "[encoded data removed]",
      "text/plain": [
       "<Figure size 600x500 with 2 Axes>"
      ]
     },
     "metadata": {},
     "output_type": "display_data"
    },
    {
     "name": "stdout",
     "output_type": "stream",
     "text": [
      "\n",
      "Training on set C and testing on set P\n",
      "    322/Unknown \u001b[1m18s\u001b[0m 50ms/step - accuracy: 0.8927 - loss: 0.4393"
     ]
    },
    {
     "name": "stderr",
     "output_type": "stream",
     "text": [
      "/apps/software/standard/core/jupyterlab/3.6.3-py3.11/lib/python3.11/contextlib.py:155: UserWarning: Your input ran out of data; interrupting training. Make sure that your dataset or generator can generate at least `steps_per_epoch * epochs` batches. You may need to use the `.repeat()` function when building your dataset.\n",
      "  self.gen.throw(typ, value, traceback)\n"
     ]
    },
    {
     "name": "stdout",
     "output_type": "stream",
     "text": [
      "\n",
      "Epoch 1: val_accuracy improved from -inf to 0.89277, saving model to best_model_transfer_C_to_P.keras\n"
     ]
    },
    {
     "name": "stderr",
     "output_type": "stream",
     "text": [
      "2024-11-20 13:35:06.349102: I tensorflow/core/framework/local_rendezvous.cc:424] Local rendezvous recv item cancelled. Key hash: 14765011972775036819\n",
      "2024-11-20 13:35:06.349216: I tensorflow/core/framework/local_rendezvous.cc:424] Local rendezvous recv item cancelled. Key hash: 10732172815508262128\n"
     ]
    },
    {
     "name": "stdout",
     "output_type": "stream",
     "text": [
      "\u001b[1m322/322\u001b[0m \u001b[32m━━━━━━━━━━━━━━━━━━━━\u001b[0m\u001b[37m\u001b[0m \u001b[1m24s\u001b[0m 67ms/step - accuracy: 0.8927 - loss: 0.4390 - val_accuracy: 0.8928 - val_loss: 0.3180 - learning_rate: 5.0000e-04\n",
      "Restoring model weights from the end of the best epoch: 1.\n",
      "Epoch 1/5\n",
      "    322/Unknown \u001b[1m43s\u001b[0m 111ms/step - accuracy: 0.9021 - loss: 0.2603\n",
      "Epoch 1: val_accuracy did not improve from 0.89277\n",
      "\u001b[1m322/322\u001b[0m \u001b[32m━━━━━━━━━━━━━━━━━━━━\u001b[0m\u001b[37m\u001b[0m \u001b[1m48s\u001b[0m 127ms/step - accuracy: 0.9021 - loss: 0.2603 - val_accuracy: 0.8829 - val_loss: 0.3030 - learning_rate: 1.0000e-05\n",
      "Epoch 2/5\n",
      "\u001b[1m  1/322\u001b[0m \u001b[37m━━━━━━━━━━━━━━━━━━━━\u001b[0m \u001b[1m43s\u001b[0m 136ms/step - accuracy: 0.8750 - loss: 0.1240"
     ]
    },
    {
     "name": "stderr",
     "output_type": "stream",
     "text": [
      "2024-11-20 13:35:54.359429: I tensorflow/core/framework/local_rendezvous.cc:424] Local rendezvous recv item cancelled. Key hash: 10732172815508262128\n"
     ]
    },
    {
     "name": "stdout",
     "output_type": "stream",
     "text": [
      "\u001b[1m322/322\u001b[0m \u001b[32m━━━━━━━━━━━━━━━━━━━━\u001b[0m\u001b[37m\u001b[0m \u001b[1m0s\u001b[0m 102ms/step - accuracy: 0.9383 - loss: 0.2017\n",
      "Epoch 2: val_accuracy did not improve from 0.89277\n",
      "\u001b[1m322/322\u001b[0m \u001b[32m━━━━━━━━━━━━━━━━━━━━\u001b[0m\u001b[37m\u001b[0m \u001b[1m37s\u001b[0m 113ms/step - accuracy: 0.9383 - loss: 0.2017 - val_accuracy: 0.8500 - val_loss: 0.3151 - learning_rate: 1.0000e-05\n",
      "Epoch 3/5\n",
      "\u001b[1m322/322\u001b[0m \u001b[32m━━━━━━━━━━━━━━━━━━━━\u001b[0m\u001b[37m\u001b[0m \u001b[1m0s\u001b[0m 102ms/step - accuracy: 0.9476 - loss: 0.1752"
     ]
    },
    {
     "name": "stderr",
     "output_type": "stream",
     "text": [
      "2024-11-20 13:37:03.746732: I tensorflow/core/framework/local_rendezvous.cc:424] Local rendezvous recv item cancelled. Key hash: 14765011972775036819\n",
      "2024-11-20 13:37:03.746885: I tensorflow/core/framework/local_rendezvous.cc:424] Local rendezvous recv item cancelled. Key hash: 10732172815508262128\n"
     ]
    },
    {
     "name": "stdout",
     "output_type": "stream",
     "text": [
      "\n",
      "Epoch 3: val_accuracy improved from 0.89277 to 0.90181, saving model to best_model_transfer_C_to_P.keras\n"
     ]
    },
    {
     "name": "stderr",
     "output_type": "stream",
     "text": [
      "2024-11-20 13:37:07.470038: I tensorflow/core/framework/local_rendezvous.cc:424] Local rendezvous recv item cancelled. Key hash: 14765011972775036819\n",
      "2024-11-20 13:37:07.470182: I tensorflow/core/framework/local_rendezvous.cc:424] Local rendezvous recv item cancelled. Key hash: 10732172815508262128\n"
     ]
    },
    {
     "name": "stdout",
     "output_type": "stream",
     "text": [
      "\u001b[1m322/322\u001b[0m \u001b[32m━━━━━━━━━━━━━━━━━━━━\u001b[0m\u001b[37m\u001b[0m \u001b[1m37s\u001b[0m 115ms/step - accuracy: 0.9476 - loss: 0.1752 - val_accuracy: 0.9018 - val_loss: 0.7825 - learning_rate: 1.0000e-05\n",
      "Epoch 4/5\n",
      "\u001b[1m322/322\u001b[0m \u001b[32m━━━━━━━━━━━━━━━━━━━━\u001b[0m\u001b[37m\u001b[0m \u001b[1m0s\u001b[0m 103ms/step - accuracy: 0.9512 - loss: 0.1634"
     ]
    },
    {
     "name": "stderr",
     "output_type": "stream",
     "text": [
      "2024-11-20 13:37:41.076413: I tensorflow/core/framework/local_rendezvous.cc:424] Local rendezvous recv item cancelled. Key hash: 14765011972775036819\n",
      "2024-11-20 13:37:41.076531: I tensorflow/core/framework/local_rendezvous.cc:424] Local rendezvous recv item cancelled. Key hash: 10732172815508262128\n"
     ]
    },
    {
     "name": "stdout",
     "output_type": "stream",
     "text": [
      "\n",
      "Epoch 4: val_accuracy did not improve from 0.90181\n",
      "\u001b[1m322/322\u001b[0m \u001b[32m━━━━━━━━━━━━━━━━━━━━\u001b[0m\u001b[37m\u001b[0m \u001b[1m37s\u001b[0m 115ms/step - accuracy: 0.9512 - loss: 0.1633 - val_accuracy: 0.8874 - val_loss: 0.3002 - learning_rate: 1.0000e-05\n",
      "Epoch 5/5\n"
     ]
    },
    {
     "name": "stderr",
     "output_type": "stream",
     "text": [
      "2024-11-20 13:37:45.108145: I tensorflow/core/framework/local_rendezvous.cc:424] Local rendezvous recv item cancelled. Key hash: 14765011972775036819\n",
      "2024-11-20 13:37:45.108489: I tensorflow/core/framework/local_rendezvous.cc:424] Local rendezvous recv item cancelled. Key hash: 10732172815508262128\n"
     ]
    },
    {
     "name": "stdout",
     "output_type": "stream",
     "text": [
      "\u001b[1m322/322\u001b[0m \u001b[32m━━━━━━━━━━━━━━━━━━━━\u001b[0m\u001b[37m\u001b[0m \u001b[1m0s\u001b[0m 101ms/step - accuracy: 0.9510 - loss: 0.1494\n",
      "Epoch 5: val_accuracy did not improve from 0.90181\n",
      "\n",
      "Epoch 5: ReduceLROnPlateau reducing learning rate to 4.999999873689376e-06.\n",
      "\u001b[1m322/322\u001b[0m \u001b[32m━━━━━━━━━━━━━━━━━━━━\u001b[0m\u001b[37m\u001b[0m \u001b[1m37s\u001b[0m 113ms/step - accuracy: 0.9511 - loss: 0.1494 - val_accuracy: 0.8689 - val_loss: 0.5689 - learning_rate: 1.0000e-05\n",
      "Restoring model weights from the end of the best epoch: 3.\n"
     ]
    },
    {
     "name": "stderr",
     "output_type": "stream",
     "text": [
      "2024-11-20 13:38:21.733829: I tensorflow/core/framework/local_rendezvous.cc:424] Local rendezvous recv item cancelled. Key hash: 14765011972775036819\n",
      "2024-11-20 13:38:21.734000: I tensorflow/core/framework/local_rendezvous.cc:424] Local rendezvous recv item cancelled. Key hash: 10732172815508262128\n"
     ]
    },
    {
     "name": "stdout",
     "output_type": "stream",
     "text": [
      "\u001b[1m153/153\u001b[0m \u001b[32m━━━━━━━━━━━━━━━━━━━━\u001b[0m\u001b[37m\u001b[0m \u001b[1m5s\u001b[0m 31ms/step\n",
      "Confusion Matrix (Test Set C_to_P):\n",
      "[[1993  180]\n",
      " [ 130  131]]\n",
      "\n",
      "Precision: 0.4212\n",
      "Recall:    0.5019\n",
      "\n",
      "Classification Report:\n",
      "              precision    recall  f1-score   support\n",
      "\n",
      "   Uncracked       0.94      0.92      0.93      2173\n",
      "     Cracked       0.42      0.50      0.46       261\n",
      "\n",
      "    accuracy                           0.87      2434\n",
      "   macro avg       0.68      0.71      0.69      2434\n",
      "weighted avg       0.88      0.87      0.88      2434\n",
      "\n"
     ]
    },
    {
     "data": {
      "image/png": "[encoded data removed]",
      "text/plain": [
       "<Figure size 600x500 with 2 Axes>"
      ]
     },
     "metadata": {},
     "output_type": "display_data"
    }
   ],
   "source": [
    "# Loop over each training set\n",
    "for train_set in training_sets:\n",
    "    train_set_name = train_set['name']\n",
    "    train_gen = train_set['gen']\n",
    "    train_labels = train_set['labels']\n",
    "\n",
    "    # No need to compute class weights\n",
    "    # class_weights = get_class_weights(train_labels)\n",
    "\n",
    "    # Loop over each testing set\n",
    "    for test_set in testing_sets:\n",
    "        test_set_name = test_set['name']\n",
    "        test_gen = test_set['gen']\n",
    "        test_labels = test_set['labels']\n",
    "\n",
    "        set_name = f'{train_set_name}_to_{test_set_name}'\n",
    "\n",
    "        print(f'\\nTraining on set {train_set_name} and testing on set {test_set_name}')\n",
    "\n",
    "        # Call the train_and_evaluate function without class weights\n",
    "        train_and_evaluate(\n",
    "            train_gen=train_gen,\n",
    "            test_gen=test_gen,\n",
    "            train_labels=train_labels,\n",
    "            test_labels=test_labels,\n",
    "            set_name=set_name,\n",
    "            batch_size=16,  # Adjust batch size if necessary\n",
    "            alpha=1,     # Adjust alpha as needed\n",
    "            gamma=0.0       # Adjust gamma as needed\n",
    "        )\n"
   ]
  }
 ],
 "metadata": {
  "kernelspec": {
   "display_name": "Python 3 (ipykernel)",
   "language": "python",
   "name": "python3"
  },
  "language_info": {
   "codemirror_mode": {
    "name": "ipython",
    "version": 3
   },
   "file_extension": ".py",
   "mimetype": "text/x-python",
   "name": "python",
   "nbconvert_exporter": "python",
   "pygments_lexer": "ipython3",
   "version": "3.11.4"
  }
 },
 "nbformat": 4,
 "nbformat_minor": 5
}
